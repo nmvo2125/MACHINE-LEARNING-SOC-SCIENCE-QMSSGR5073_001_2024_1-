{
  "nbformat": 4,
  "nbformat_minor": 0,
  "metadata": {
    "colab": {
      "provenance": [],
      "toc_visible": true
    },
    "kernelspec": {
      "name": "python3",
      "display_name": "Python 3"
    },
    "language_info": {
      "name": "python"
    }
  },
  "cells": [
    {
      "cell_type": "markdown",
      "source": [
        "# Nhu Vo <space><space>\n",
        "## ML GR5073 HW 1 part A: Regression on California test scores"
      ],
      "metadata": {
        "id": "vB2leKJFYv68"
      }
    },
    {
      "cell_type": "code",
      "source": [
        "import pandas as pd\n",
        "import numpy as np\n",
        "import matplotlib.pyplot as plt\n",
        "import seaborn as sns\n",
        "from sklearn.neighbors import KNeighborsRegressor\n",
        "from sklearn.model_selection import train_test_split\n",
        "from sklearn.linear_model import LinearRegression, Ridge, Lasso\n",
        "from sklearn.model_selection import cross_val_score, GridSearchCV\n",
        "from sklearn.metrics import r2_score, mean_squared_error\n",
        "from sklearn.preprocessing import StandardScaler\n"
      ],
      "metadata": {
        "id": "4EggV7ZfFm8m"
      },
      "execution_count": null,
      "outputs": []
    },
    {
      "cell_type": "markdown",
      "source": [
        "# **Question 1: Find the url for the California Test Score Data Set from the following website**"
      ],
      "metadata": {
        "id": "I6DBwk6lY-Xq"
      }
    },
    {
      "cell_type": "code",
      "execution_count": null,
      "metadata": {
        "id": "hslsk9huYqLq"
      },
      "outputs": [],
      "source": [
        "# Read csv file\n",
        "df = pd.read_csv(\"https://vincentarelbundock.github.io/Rdatasets/csv/Ecdat/Caschool.csv\")"
      ]
    },
    {
      "cell_type": "markdown",
      "source": [
        "# **Question 3: Visualize the univariate distribution of the target feature and each of the three continuous explanatory variables that you think are likely to have a relationship with the target feature.**"
      ],
      "metadata": {
        "id": "qfb3l1FXc0gy"
      }
    },
    {
      "cell_type": "code",
      "source": [
        "print(df.head())"
      ],
      "metadata": {
        "colab": {
          "base_uri": "https://localhost:8080/"
        },
        "id": "0LZPRLHLewAS",
        "outputId": "f6400067-bc2a-450f-e467-1daf2105b509"
      },
      "execution_count": null,
      "outputs": [
        {
          "output_type": "stream",
          "name": "stdout",
          "text": [
            "   rownames  distcod   county                         district grspan  \\\n",
            "0         1    75119  Alameda               Sunol Glen Unified  KK-08   \n",
            "1         2    61499    Butte             Manzanita Elementary  KK-08   \n",
            "2         3    61549    Butte      Thermalito Union Elementary  KK-08   \n",
            "3         4    61457    Butte  Golden Feather Union Elementary  KK-08   \n",
            "4         5    61523    Butte         Palermo Union Elementary  KK-08   \n",
            "\n",
            "   enrltot   teachers    calwpct    mealpct  computer     testscr   compstu  \\\n",
            "0      195  10.900000   0.510200   2.040800        67  690.799988  0.343590   \n",
            "1      240  11.150000  15.416700  47.916698       101  661.200012  0.420833   \n",
            "2     1550  82.900002  55.032299  76.322601       169  643.599976  0.109032   \n",
            "3      243  14.000000  36.475399  77.049202        85  647.700012  0.349794   \n",
            "4     1335  71.500000  33.108601  78.427002       171  640.849976  0.128090   \n",
            "\n",
            "       expnstu        str     avginc      elpct     readscr     mathscr  \n",
            "0  6384.911133  17.889910  22.690001   0.000000  691.599976  690.000000  \n",
            "1  5099.380859  21.524664   9.824000   4.583333  660.500000  661.900024  \n",
            "2  5501.954590  18.697226   8.978000  30.000002  636.299988  650.900024  \n",
            "3  7101.831055  17.357143   8.978000   0.000000  651.900024  643.500000  \n",
            "4  5235.987793  18.671329   9.080333  13.857677  641.799988  639.900024  \n"
          ]
        }
      ]
    },
    {
      "cell_type": "markdown",
      "source": [
        "our target feature/dependent variable is test score \"testscr\"\n",
        "\n",
        "three independent (explanatory) variables that I hypothesize might influence the dependent variable:\n",
        "1. \"compstu\": computer per student\n",
        "2. \"str\": student teacher ratio\n",
        "3. \"avginc\": district average income\n",
        "\n"
      ],
      "metadata": {
        "id": "Z7QI8qzQjK6w"
      }
    },
    {
      "cell_type": "code",
      "source": [
        "# Aesthetic style of the plots\n",
        "sns.set_style(\"whitegrid\")\n",
        "\n",
        "# Creating histograms/density plots for each feature\n",
        "fig, axes = plt.subplots(1, 3, figsize=(18, 5))\n",
        "\n",
        "# Plot for \"compstu\": computer per student\n",
        "sns.histplot(df['compstu'], kde=True, ax=axes[0], color='skyblue')\n",
        "axes[0].set_title('Distribution of Computers per Student')\n",
        "axes[0].set_xlabel('Computers per Student')\n",
        "axes[0].set_ylabel('Frequency')\n",
        "\n",
        "# Plot for \"str\": student teacher ratio\n",
        "sns.histplot(df['str'], kde=True, ax=axes[1], color='lightgreen')\n",
        "axes[1].set_title('Distribution of Student-Teacher Ratio')\n",
        "axes[1].set_xlabel('Student-Teacher Ratio')\n",
        "axes[1].set_ylabel('Frequency')\n",
        "\n",
        "# Plot for \"avginc\": district average income\n",
        "sns.histplot(df['avginc'], kde=True, ax=axes[2], color='salmon')\n",
        "axes[2].set_title('Distribution of District Average Income')\n",
        "axes[2].set_xlabel('District Average Income')\n",
        "axes[2].set_ylabel('Frequency')\n",
        "\n",
        "plt.tight_layout()\n",
        "plt.show()\n"
      ],
      "metadata": {
        "colab": {
          "base_uri": "https://localhost:8080/",
          "height": 335
        },
        "id": "LnjfpYucop_x",
        "outputId": "5cfd0222-080f-48d8-ba93-a045796ca9cf"
      },
      "execution_count": null,
      "outputs": [
        {
          "output_type": "display_data",
          "data": {
            "text/plain": [
              "<Figure size 1800x500 with 3 Axes>"
            ],
            "image/png": "[encoded data removed]"
          },
          "metadata": {}
        }
      ]
    },
    {
      "cell_type": "markdown",
      "source": [
        "# **Question 4: Visualize the dependency of the target on each feature you just plotted.**"
      ],
      "metadata": {
        "id": "nAalR7Ytk0ME"
      }
    },
    {
      "cell_type": "code",
      "source": [
        "plt.scatter(df['compstu'], df['testscr'])\n",
        "plt.xlabel('Computers per Student')  # Label for the x-axis\n",
        "plt.ylabel('Test Scores')  # Label for the y-axis\n",
        "plt.title('Test Scores vs. Computers per Student')  # Title for the plot\n",
        "plt.show()"
      ],
      "metadata": {
        "colab": {
          "base_uri": "https://localhost:8080/",
          "height": 472
        },
        "id": "FVX_i7aplinU",
        "outputId": "5f804e50-3688-4af3-c203-d03ef62d1c77"
      },
      "execution_count": null,
      "outputs": [
        {
          "output_type": "display_data",
          "data": {
            "text/plain": [
              "<Figure size 640x480 with 1 Axes>"
            ],
            "image/png": "[encoded data removed]"
          },
          "metadata": {}
        }
      ]
    },
    {
      "cell_type": "code",
      "source": [
        "plt.scatter(df['str'], df['testscr'])\n",
        "plt.xlabel('Student Teacher Ratio')  # Label for the x-axis\n",
        "plt.ylabel('Test Scores')  # Label for the y-axis\n",
        "plt.title('Test Scores vs. Student Teacher Ratio')  # Title for the plot\n",
        "plt.show()"
      ],
      "metadata": {
        "colab": {
          "base_uri": "https://localhost:8080/",
          "height": 472
        },
        "id": "tTCj9jz4m8oo",
        "outputId": "e209eb70-a1c8-4816-e349-15acbba3c570"
      },
      "execution_count": null,
      "outputs": [
        {
          "output_type": "display_data",
          "data": {
            "text/plain": [
              "<Figure size 640x480 with 1 Axes>"
            ],
            "image/png": "[encoded data removed]"
          },
          "metadata": {}
        }
      ]
    },
    {
      "cell_type": "code",
      "source": [
        "plt.scatter(df['avginc'], df['testscr'])\n",
        "plt.xlabel('District Average Income')  # Label for the x-axis\n",
        "plt.ylabel('Test Scores')  # Label for the y-axis\n",
        "plt.title('Test Scores vs. District Average Income')  # Title for the plot\n",
        "plt.show()"
      ],
      "metadata": {
        "colab": {
          "base_uri": "https://localhost:8080/",
          "height": 472
        },
        "id": "vOkQpOjAnRTj",
        "outputId": "15a8e700-71f1-493e-9df8-4abe5eaf9abd"
      },
      "execution_count": null,
      "outputs": [
        {
          "output_type": "display_data",
          "data": {
            "text/plain": [
              "<Figure size 640x480 with 1 Axes>"
            ],
            "image/png": "[encoded data removed]"
          },
          "metadata": {}
        }
      ]
    },
    {
      "cell_type": "markdown",
      "source": [
        "# **Question 5:**\n"
      ],
      "metadata": {
        "id": "H01RXudjk8ag"
      }
    },
    {
      "cell_type": "markdown",
      "source": [
        "## Splitting into train-test"
      ],
      "metadata": {
        "id": "2sEhGvtl8ER2"
      }
    },
    {
      "cell_type": "code",
      "source": [
        "# Delete extra variable that is not continuous + mathscr + readscr\n",
        "\n",
        "data = df.drop(['county', 'district', 'grspan','rownames','distcod','readscr','mathscr'], axis=1, errors='ignore')\n",
        "\n",
        "# Display the first few rows to verify the changes\n",
        "data.head()"
      ],
      "metadata": {
        "colab": {
          "base_uri": "https://localhost:8080/",
          "height": 206
        },
        "id": "X-Ykyr9pzwVi",
        "outputId": "db75b632-b162-4f9f-b7d3-b42a277c91d3"
      },
      "execution_count": null,
      "outputs": [
        {
          "output_type": "execute_result",
          "data": {
            "text/plain": [
              "   enrltot   teachers    calwpct    mealpct  computer     testscr   compstu  \\\n",
              "0      195  10.900000   0.510200   2.040800        67  690.799988  0.343590   \n",
              "1      240  11.150000  15.416700  47.916698       101  661.200012  0.420833   \n",
              "2     1550  82.900002  55.032299  76.322601       169  643.599976  0.109032   \n",
              "3      243  14.000000  36.475399  77.049202        85  647.700012  0.349794   \n",
              "4     1335  71.500000  33.108601  78.427002       171  640.849976  0.128090   \n",
              "\n",
              "       expnstu        str     avginc      elpct  \n",
              "0  6384.911133  17.889910  22.690001   0.000000  \n",
              "1  5099.380859  21.524664   9.824000   4.583333  \n",
              "2  5501.954590  18.697226   8.978000  30.000002  \n",
              "3  7101.831055  17.357143   8.978000   0.000000  \n",
              "4  5235.987793  18.671329   9.080333  13.857677  "
            ],
            "text/html": [
              "\n",
              "  <div id=\"df-5cba9409-8e56-47a3-bfc4-57bc4e3ddd11\" class=\"colab-df-container\">\n",
              "    <div>\n",
              "<style scoped>\n",
              "    .dataframe tbody tr th:only-of-type {\n",
              "        vertical-align: middle;\n",
              "    }\n",
              "\n",
              "    .dataframe tbody tr th {\n",
              "        vertical-align: top;\n",
              "    }\n",
              "\n",
              "    .dataframe thead th {\n",
              "        text-align: right;\n",
              "    }\n",
              "</style>\n",
              "<table border=\"1\" class=\"dataframe\">\n",
              "  <thead>\n",
              "    <tr style=\"text-align: right;\">\n",
              "      <th></th>\n",
              "      <th>enrltot</th>\n",
              "      <th>teachers</th>\n",
              "      <th>calwpct</th>\n",
              "      <th>mealpct</th>\n",
              "      <th>computer</th>\n",
              "      <th>testscr</th>\n",
              "      <th>compstu</th>\n",
              "      <th>expnstu</th>\n",
              "      <th>str</th>\n",
              "      <th>avginc</th>\n",
              "      <th>elpct</th>\n",
              "    </tr>\n",
              "  </thead>\n",
              "  <tbody>\n",
              "    <tr>\n",
              "      <th>0</th>\n",
              "      <td>195</td>\n",
              "      <td>10.900000</td>\n",
              "      <td>0.510200</td>\n",
              "      <td>2.040800</td>\n",
              "      <td>67</td>\n",
              "      <td>690.799988</td>\n",
              "      <td>0.343590</td>\n",
              "      <td>6384.911133</td>\n",
              "      <td>17.889910</td>\n",
              "      <td>22.690001</td>\n",
              "      <td>0.000000</td>\n",
              "    </tr>\n",
              "    <tr>\n",
              "      <th>1</th>\n",
              "      <td>240</td>\n",
              "      <td>11.150000</td>\n",
              "      <td>15.416700</td>\n",
              "      <td>47.916698</td>\n",
              "      <td>101</td>\n",
              "      <td>661.200012</td>\n",
              "      <td>0.420833</td>\n",
              "      <td>5099.380859</td>\n",
              "      <td>21.524664</td>\n",
              "      <td>9.824000</td>\n",
              "      <td>4.583333</td>\n",
              "    </tr>\n",
              "    <tr>\n",
              "      <th>2</th>\n",
              "      <td>1550</td>\n",
              "      <td>82.900002</td>\n",
              "      <td>55.032299</td>\n",
              "      <td>76.322601</td>\n",
              "      <td>169</td>\n",
              "      <td>643.599976</td>\n",
              "      <td>0.109032</td>\n",
              "      <td>5501.954590</td>\n",
              "      <td>18.697226</td>\n",
              "      <td>8.978000</td>\n",
              "      <td>30.000002</td>\n",
              "    </tr>\n",
              "    <tr>\n",
              "      <th>3</th>\n",
              "      <td>243</td>\n",
              "      <td>14.000000</td>\n",
              "      <td>36.475399</td>\n",
              "      <td>77.049202</td>\n",
              "      <td>85</td>\n",
              "      <td>647.700012</td>\n",
              "      <td>0.349794</td>\n",
              "      <td>7101.831055</td>\n",
              "      <td>17.357143</td>\n",
              "      <td>8.978000</td>\n",
              "      <td>0.000000</td>\n",
              "    </tr>\n",
              "    <tr>\n",
              "      <th>4</th>\n",
              "      <td>1335</td>\n",
              "      <td>71.500000</td>\n",
              "      <td>33.108601</td>\n",
              "      <td>78.427002</td>\n",
              "      <td>171</td>\n",
              "      <td>640.849976</td>\n",
              "      <td>0.128090</td>\n",
              "      <td>5235.987793</td>\n",
              "      <td>18.671329</td>\n",
              "      <td>9.080333</td>\n",
              "      <td>13.857677</td>\n",
              "    </tr>\n",
              "  </tbody>\n",
              "</table>\n",
              "</div>\n",
              "    <div class=\"colab-df-buttons\">\n",
              "\n",
              "  <div class=\"colab-df-container\">\n",
              "    <button class=\"colab-df-convert\" onclick=\"convertToInteractive('df-5cba9409-8e56-47a3-bfc4-57bc4e3ddd11')\"\n",
              "            title=\"Convert this dataframe to an interactive table.\"\n",
              "            style=\"display:none;\">\n",
              "\n",
              "  <svg xmlns=\"http://www.w3.org/2000/svg\" height=\"24px\" viewBox=\"0 -960 960 960\">\n",
              "    <path d=\"M120-120v-720h720v720H120Zm60-500h600v-160H180v160Zm220 220h160v-160H400v160Zm0 220h160v-160H400v160ZM180-400h160v-160H180v160Zm440 0h160v-160H620v160ZM180-180h160v-160H180v160Zm440 0h160v-160H620v160Z\"/>\n",
              "  </svg>\n",
              "    </button>\n",
              "\n",
              "  <style>\n",
              "    .colab-df-container {\n",
              "      display:flex;\n",
              "      gap: 12px;\n",
              "    }\n",
              "\n",
              "    .colab-df-convert {\n",
              "      background-color: #E8F0FE;\n",
              "      border: none;\n",
              "      border-radius: 50%;\n",
              "      cursor: pointer;\n",
              "      display: none;\n",
              "      fill: #1967D2;\n",
              "      height: 32px;\n",
              "      padding: 0 0 0 0;\n",
              "      width: 32px;\n",
              "    }\n",
              "\n",
              "    .colab-df-convert:hover {\n",
              "      background-color: #E2EBFA;\n",
              "      box-shadow: 0px 1px 2px rgba(60, 64, 67, 0.3), 0px 1px 3px 1px rgba(60, 64, 67, 0.15);\n",
              "      fill: #174EA6;\n",
              "    }\n",
              "\n",
              "    .colab-df-buttons div {\n",
              "      margin-bottom: 4px;\n",
              "    }\n",
              "\n",
              "    [theme=dark] .colab-df-convert {\n",
              "      background-color: #3B4455;\n",
              "      fill: #D2E3FC;\n",
              "    }\n",
              "\n",
              "    [theme=dark] .colab-df-convert:hover {\n",
              "      background-color: #434B5C;\n",
              "      box-shadow: 0px 1px 3px 1px rgba(0, 0, 0, 0.15);\n",
              "      filter: drop-shadow(0px 1px 2px rgba(0, 0, 0, 0.3));\n",
              "      fill: #FFFFFF;\n",
              "    }\n",
              "  </style>\n",
              "\n",
              "    <script>\n",
              "      const buttonEl =\n",
              "        document.querySelector('#df-5cba9409-8e56-47a3-bfc4-57bc4e3ddd11 button.colab-df-convert');\n",
              "      buttonEl.style.display =\n",
              "        google.colab.kernel.accessAllowed ? 'block' : 'none';\n",
              "\n",
              "      async function convertToInteractive(key) {\n",
              "        const element = document.querySelector('#df-5cba9409-8e56-47a3-bfc4-57bc4e3ddd11');\n",
              "        const dataTable =\n",
              "          await google.colab.kernel.invokeFunction('convertToInteractive',\n",
              "                                                    [key], {});\n",
              "        if (!dataTable) return;\n",
              "\n",
              "        const docLinkHtml = 'Like what you see? Visit the ' +\n",
              "          '<a target=\"_blank\" href=https://colab.research.google.com/notebooks/data_table.ipynb>data table notebook</a>'\n",
              "          + ' to learn more about interactive tables.';\n",
              "        element.innerHTML = '';\n",
              "        dataTable['output_type'] = 'display_data';\n",
              "        await google.colab.output.renderOutput(dataTable, element);\n",
              "        const docLink = document.createElement('div');\n",
              "        docLink.innerHTML = docLinkHtml;\n",
              "        element.appendChild(docLink);\n",
              "      }\n",
              "    </script>\n",
              "  </div>\n",
              "\n",
              "\n",
              "<div id=\"df-98d55756-43ee-43d1-ba6c-9702905914b8\">\n",
              "  <button class=\"colab-df-quickchart\" onclick=\"quickchart('df-98d55756-43ee-43d1-ba6c-9702905914b8')\"\n",
              "            title=\"Suggest charts\"\n",
              "            style=\"display:none;\">\n",
              "\n",
              "<svg xmlns=\"http://www.w3.org/2000/svg\" height=\"24px\"viewBox=\"0 0 24 24\"\n",
              "     width=\"24px\">\n",
              "    <g>\n",
              "        <path d=\"M19 3H5c-1.1 0-2 .9-2 2v14c0 1.1.9 2 2 2h14c1.1 0 2-.9 2-2V5c0-1.1-.9-2-2-2zM9 17H7v-7h2v7zm4 0h-2V7h2v10zm4 0h-2v-4h2v4z\"/>\n",
              "    </g>\n",
              "</svg>\n",
              "  </button>\n",
              "\n",
              "<style>\n",
              "  .colab-df-quickchart {\n",
              "      --bg-color: #E8F0FE;\n",
              "      --fill-color: #1967D2;\n",
              "      --hover-bg-color: #E2EBFA;\n",
              "      --hover-fill-color: #174EA6;\n",
              "      --disabled-fill-color: #AAA;\n",
              "      --disabled-bg-color: #DDD;\n",
              "  }\n",
              "\n",
              "  [theme=dark] .colab-df-quickchart {\n",
              "      --bg-color: #3B4455;\n",
              "      --fill-color: #D2E3FC;\n",
              "      --hover-bg-color: #434B5C;\n",
              "      --hover-fill-color: #FFFFFF;\n",
              "      --disabled-bg-color: #3B4455;\n",
              "      --disabled-fill-color: #666;\n",
              "  }\n",
              "\n",
              "  .colab-df-quickchart {\n",
              "    background-color: var(--bg-color);\n",
              "    border: none;\n",
              "    border-radius: 50%;\n",
              "    cursor: pointer;\n",
              "    display: none;\n",
              "    fill: var(--fill-color);\n",
              "    height: 32px;\n",
              "    padding: 0;\n",
              "    width: 32px;\n",
              "  }\n",
              "\n",
              "  .colab-df-quickchart:hover {\n",
              "    background-color: var(--hover-bg-color);\n",
              "    box-shadow: 0 1px 2px rgba(60, 64, 67, 0.3), 0 1px 3px 1px rgba(60, 64, 67, 0.15);\n",
              "    fill: var(--button-hover-fill-color);\n",
              "  }\n",
              "\n",
              "  .colab-df-quickchart-complete:disabled,\n",
              "  .colab-df-quickchart-complete:disabled:hover {\n",
              "    background-color: var(--disabled-bg-color);\n",
              "    fill: var(--disabled-fill-color);\n",
              "    box-shadow: none;\n",
              "  }\n",
              "\n",
              "  .colab-df-spinner {\n",
              "    border: 2px solid var(--fill-color);\n",
              "    border-color: transparent;\n",
              "    border-bottom-color: var(--fill-color);\n",
              "    animation:\n",
              "      spin 1s steps(1) infinite;\n",
              "  }\n",
              "\n",
              "  @keyframes spin {\n",
              "    0% {\n",
              "      border-color: transparent;\n",
              "      border-bottom-color: var(--fill-color);\n",
              "      border-left-color: var(--fill-color);\n",
              "    }\n",
              "    20% {\n",
              "      border-color: transparent;\n",
              "      border-left-color: var(--fill-color);\n",
              "      border-top-color: var(--fill-color);\n",
              "    }\n",
              "    30% {\n",
              "      border-color: transparent;\n",
              "      border-left-color: var(--fill-color);\n",
              "      border-top-color: var(--fill-color);\n",
              "      border-right-color: var(--fill-color);\n",
              "    }\n",
              "    40% {\n",
              "      border-color: transparent;\n",
              "      border-right-color: var(--fill-color);\n",
              "      border-top-color: var(--fill-color);\n",
              "    }\n",
              "    60% {\n",
              "      border-color: transparent;\n",
              "      border-right-color: var(--fill-color);\n",
              "    }\n",
              "    80% {\n",
              "      border-color: transparent;\n",
              "      border-right-color: var(--fill-color);\n",
              "      border-bottom-color: var(--fill-color);\n",
              "    }\n",
              "    90% {\n",
              "      border-color: transparent;\n",
              "      border-bottom-color: var(--fill-color);\n",
              "    }\n",
              "  }\n",
              "</style>\n",
              "\n",
              "  <script>\n",
              "    async function quickchart(key) {\n",
              "      const quickchartButtonEl =\n",
              "        document.querySelector('#' + key + ' button');\n",
              "      quickchartButtonEl.disabled = true;  // To prevent multiple clicks.\n",
              "      quickchartButtonEl.classList.add('colab-df-spinner');\n",
              "      try {\n",
              "        const charts = await google.colab.kernel.invokeFunction(\n",
              "            'suggestCharts', [key], {});\n",
              "      } catch (error) {\n",
              "        console.error('Error during call to suggestCharts:', error);\n",
              "      }\n",
              "      quickchartButtonEl.classList.remove('colab-df-spinner');\n",
              "      quickchartButtonEl.classList.add('colab-df-quickchart-complete');\n",
              "    }\n",
              "    (() => {\n",
              "      let quickchartButtonEl =\n",
              "        document.querySelector('#df-98d55756-43ee-43d1-ba6c-9702905914b8 button');\n",
              "      quickchartButtonEl.style.display =\n",
              "        google.colab.kernel.accessAllowed ? 'block' : 'none';\n",
              "    })();\n",
              "  </script>\n",
              "</div>\n",
              "    </div>\n",
              "  </div>\n"
            ],
            "application/vnd.google.colaboratory.intrinsic+json": {
              "type": "dataframe",
              "variable_name": "data",
              "summary": "{\n  \"name\": \"data\",\n  \"rows\": 420,\n  \"fields\": [\n    {\n      \"column\": \"enrltot\",\n      \"properties\": {\n        \"dtype\": \"number\",\n        \"std\": 3913,\n        \"min\": 81,\n        \"max\": 27176,\n        \"num_unique_values\": 391,\n        \"samples\": [\n          446,\n          6219,\n          25151\n        ],\n        \"semantic_type\": \"\",\n        \"description\": \"\"\n      }\n    },\n    {\n      \"column\": \"teachers\",\n      \"properties\": {\n        \"dtype\": \"number\",\n        \"std\": 187.91267943401374,\n        \"min\": 4.84999990463257,\n        \"max\": 1429.0,\n        \"num_unique_values\": 374,\n        \"samples\": [\n          16.2800006866455,\n          90.4000015258789,\n          42.0699996948242\n        ],\n        \"semantic_type\": \"\",\n        \"description\": \"\"\n      }\n    },\n    {\n      \"column\": \"calwpct\",\n      \"properties\": {\n        \"dtype\": \"number\",\n        \"std\": 11.45482099030561,\n        \"min\": 0.0,\n        \"max\": 78.9942016601562,\n        \"num_unique_values\": 411,\n        \"samples\": [\n          20.6348991394043,\n          12.6920003890991,\n          19.8311996459961\n        ],\n        \"semantic_type\": \"\",\n        \"description\": \"\"\n      }\n    },\n    {\n      \"column\": \"mealpct\",\n      \"properties\": {\n        \"dtype\": \"number\",\n        \"std\": 27.12338108135673,\n        \"min\": 0.0,\n        \"max\": 100.0,\n        \"num_unique_values\": 407,\n        \"samples\": [\n          86.0294036865234,\n          34.0360984802246,\n          30.4416999816895\n        ],\n        \"semantic_type\": \"\",\n        \"description\": \"\"\n      }\n    },\n    {\n      \"column\": \"computer\",\n      \"properties\": {\n        \"dtype\": \"number\",\n        \"std\": 441,\n        \"min\": 0,\n        \"max\": 3324,\n        \"num_unique_values\": 270,\n        \"samples\": [\n          177,\n          4,\n          27\n        ],\n        \"semantic_type\": \"\",\n        \"description\": \"\"\n      }\n    },\n    {\n      \"column\": \"testscr\",\n      \"properties\": {\n        \"dtype\": \"number\",\n        \"std\": 19.053347643618785,\n        \"min\": 605.550048828125,\n        \"max\": 706.75,\n        \"num_unique_values\": 379,\n        \"samples\": [\n          668.099975585937,\n          667.150024414062,\n          676.549987792969\n        ],\n        \"semantic_type\": \"\",\n        \"description\": \"\"\n      }\n    },\n    {\n      \"column\": \"compstu\",\n      \"properties\": {\n        \"dtype\": \"number\",\n        \"std\": 0.06495581016902127,\n        \"min\": 0.0,\n        \"max\": 0.420833319425583,\n        \"num_unique_values\": 412,\n        \"samples\": [\n          0.09441938996315,\n          0.0869951173663139,\n          0.0966288670897484\n        ],\n        \"semantic_type\": \"\",\n        \"description\": \"\"\n      }\n    },\n    {\n      \"column\": \"expnstu\",\n      \"properties\": {\n        \"dtype\": \"number\",\n        \"std\": 633.9370531095024,\n        \"min\": 3926.06958007812,\n        \"max\": 7711.5068359375,\n        \"num_unique_values\": 420,\n        \"samples\": [\n          5124.83642578125,\n          4357.826171875,\n          5504.025390625\n        ],\n        \"semantic_type\": \"\",\n        \"description\": \"\"\n      }\n    },\n    {\n      \"column\": \"str\",\n      \"properties\": {\n        \"dtype\": \"number\",\n        \"std\": 1.891811787233676,\n        \"min\": 14.0,\n        \"max\": 25.7999992370605,\n        \"num_unique_values\": 412,\n        \"samples\": [\n          20.7910938262939,\n          22.8952388763428,\n          21.4639167785645\n        ],\n        \"semantic_type\": \"\",\n        \"description\": \"\"\n      }\n    },\n    {\n      \"column\": \"avginc\",\n      \"properties\": {\n        \"dtype\": \"number\",\n        \"std\": 7.225889763291426,\n        \"min\": 5.33500003814697,\n        \"max\": 55.3279991149902,\n        \"num_unique_values\": 337,\n        \"samples\": [\n          10.4720001220703,\n          11.9119997024536,\n          11.081000328064\n        ],\n        \"semantic_type\": \"\",\n        \"description\": \"\"\n      }\n    },\n    {\n      \"column\": \"elpct\",\n      \"properties\": {\n        \"dtype\": \"number\",\n        \"std\": 18.28592746747183,\n        \"min\": 0.0,\n        \"max\": 85.5397186279297,\n        \"num_unique_values\": 372,\n        \"samples\": [\n          1.68350172042847,\n          49.823070526123,\n          85.5397186279297\n        ],\n        \"semantic_type\": \"\",\n        \"description\": \"\"\n      }\n    }\n  ]\n}"
            }
          },
          "metadata": {},
          "execution_count": 28
        }
      ]
    },
    {
      "cell_type": "code",
      "source": [
        "### Change variable names to X, y to create train/test split\n",
        "y = data['testscr']\n",
        "X = data.loc[:, data.columns != 'testscr']\n",
        "\n",
        "print(y[0:5])\n",
        "X.head()"
      ],
      "metadata": {
        "colab": {
          "base_uri": "https://localhost:8080/",
          "height": 310
        },
        "id": "KuCAn2DL0Dys",
        "outputId": "fe4d3d9e-4b63-4cb8-814a-326b7fb67335"
      },
      "execution_count": null,
      "outputs": [
        {
          "output_type": "stream",
          "name": "stdout",
          "text": [
            "0    690.799988\n",
            "1    661.200012\n",
            "2    643.599976\n",
            "3    647.700012\n",
            "4    640.849976\n",
            "Name: testscr, dtype: float64\n"
          ]
        },
        {
          "output_type": "execute_result",
          "data": {
            "text/plain": [
              "   enrltot   teachers    calwpct    mealpct  computer   compstu      expnstu  \\\n",
              "0      195  10.900000   0.510200   2.040800        67  0.343590  6384.911133   \n",
              "1      240  11.150000  15.416700  47.916698       101  0.420833  5099.380859   \n",
              "2     1550  82.900002  55.032299  76.322601       169  0.109032  5501.954590   \n",
              "3      243  14.000000  36.475399  77.049202        85  0.349794  7101.831055   \n",
              "4     1335  71.500000  33.108601  78.427002       171  0.128090  5235.987793   \n",
              "\n",
              "         str     avginc      elpct  \n",
              "0  17.889910  22.690001   0.000000  \n",
              "1  21.524664   9.824000   4.583333  \n",
              "2  18.697226   8.978000  30.000002  \n",
              "3  17.357143   8.978000   0.000000  \n",
              "4  18.671329   9.080333  13.857677  "
            ],
            "text/html": [
              "\n",
              "  <div id=\"df-32ad7a85-b48d-4de7-8633-1ce775e738b4\" class=\"colab-df-container\">\n",
              "    <div>\n",
              "<style scoped>\n",
              "    .dataframe tbody tr th:only-of-type {\n",
              "        vertical-align: middle;\n",
              "    }\n",
              "\n",
              "    .dataframe tbody tr th {\n",
              "        vertical-align: top;\n",
              "    }\n",
              "\n",
              "    .dataframe thead th {\n",
              "        text-align: right;\n",
              "    }\n",
              "</style>\n",
              "<table border=\"1\" class=\"dataframe\">\n",
              "  <thead>\n",
              "    <tr style=\"text-align: right;\">\n",
              "      <th></th>\n",
              "      <th>enrltot</th>\n",
              "      <th>teachers</th>\n",
              "      <th>calwpct</th>\n",
              "      <th>mealpct</th>\n",
              "      <th>computer</th>\n",
              "      <th>compstu</th>\n",
              "      <th>expnstu</th>\n",
              "      <th>str</th>\n",
              "      <th>avginc</th>\n",
              "      <th>elpct</th>\n",
              "    </tr>\n",
              "  </thead>\n",
              "  <tbody>\n",
              "    <tr>\n",
              "      <th>0</th>\n",
              "      <td>195</td>\n",
              "      <td>10.900000</td>\n",
              "      <td>0.510200</td>\n",
              "      <td>2.040800</td>\n",
              "      <td>67</td>\n",
              "      <td>0.343590</td>\n",
              "      <td>6384.911133</td>\n",
              "      <td>17.889910</td>\n",
              "      <td>22.690001</td>\n",
              "      <td>0.000000</td>\n",
              "    </tr>\n",
              "    <tr>\n",
              "      <th>1</th>\n",
              "      <td>240</td>\n",
              "      <td>11.150000</td>\n",
              "      <td>15.416700</td>\n",
              "      <td>47.916698</td>\n",
              "      <td>101</td>\n",
              "      <td>0.420833</td>\n",
              "      <td>5099.380859</td>\n",
              "      <td>21.524664</td>\n",
              "      <td>9.824000</td>\n",
              "      <td>4.583333</td>\n",
              "    </tr>\n",
              "    <tr>\n",
              "      <th>2</th>\n",
              "      <td>1550</td>\n",
              "      <td>82.900002</td>\n",
              "      <td>55.032299</td>\n",
              "      <td>76.322601</td>\n",
              "      <td>169</td>\n",
              "      <td>0.109032</td>\n",
              "      <td>5501.954590</td>\n",
              "      <td>18.697226</td>\n",
              "      <td>8.978000</td>\n",
              "      <td>30.000002</td>\n",
              "    </tr>\n",
              "    <tr>\n",
              "      <th>3</th>\n",
              "      <td>243</td>\n",
              "      <td>14.000000</td>\n",
              "      <td>36.475399</td>\n",
              "      <td>77.049202</td>\n",
              "      <td>85</td>\n",
              "      <td>0.349794</td>\n",
              "      <td>7101.831055</td>\n",
              "      <td>17.357143</td>\n",
              "      <td>8.978000</td>\n",
              "      <td>0.000000</td>\n",
              "    </tr>\n",
              "    <tr>\n",
              "      <th>4</th>\n",
              "      <td>1335</td>\n",
              "      <td>71.500000</td>\n",
              "      <td>33.108601</td>\n",
              "      <td>78.427002</td>\n",
              "      <td>171</td>\n",
              "      <td>0.128090</td>\n",
              "      <td>5235.987793</td>\n",
              "      <td>18.671329</td>\n",
              "      <td>9.080333</td>\n",
              "      <td>13.857677</td>\n",
              "    </tr>\n",
              "  </tbody>\n",
              "</table>\n",
              "</div>\n",
              "    <div class=\"colab-df-buttons\">\n",
              "\n",
              "  <div class=\"colab-df-container\">\n",
              "    <button class=\"colab-df-convert\" onclick=\"convertToInteractive('df-32ad7a85-b48d-4de7-8633-1ce775e738b4')\"\n",
              "            title=\"Convert this dataframe to an interactive table.\"\n",
              "            style=\"display:none;\">\n",
              "\n",
              "  <svg xmlns=\"http://www.w3.org/2000/svg\" height=\"24px\" viewBox=\"0 -960 960 960\">\n",
              "    <path d=\"M120-120v-720h720v720H120Zm60-500h600v-160H180v160Zm220 220h160v-160H400v160Zm0 220h160v-160H400v160ZM180-400h160v-160H180v160Zm440 0h160v-160H620v160ZM180-180h160v-160H180v160Zm440 0h160v-160H620v160Z\"/>\n",
              "  </svg>\n",
              "    </button>\n",
              "\n",
              "  <style>\n",
              "    .colab-df-container {\n",
              "      display:flex;\n",
              "      gap: 12px;\n",
              "    }\n",
              "\n",
              "    .colab-df-convert {\n",
              "      background-color: #E8F0FE;\n",
              "      border: none;\n",
              "      border-radius: 50%;\n",
              "      cursor: pointer;\n",
              "      display: none;\n",
              "      fill: #1967D2;\n",
              "      height: 32px;\n",
              "      padding: 0 0 0 0;\n",
              "      width: 32px;\n",
              "    }\n",
              "\n",
              "    .colab-df-convert:hover {\n",
              "      background-color: #E2EBFA;\n",
              "      box-shadow: 0px 1px 2px rgba(60, 64, 67, 0.3), 0px 1px 3px 1px rgba(60, 64, 67, 0.15);\n",
              "      fill: #174EA6;\n",
              "    }\n",
              "\n",
              "    .colab-df-buttons div {\n",
              "      margin-bottom: 4px;\n",
              "    }\n",
              "\n",
              "    [theme=dark] .colab-df-convert {\n",
              "      background-color: #3B4455;\n",
              "      fill: #D2E3FC;\n",
              "    }\n",
              "\n",
              "    [theme=dark] .colab-df-convert:hover {\n",
              "      background-color: #434B5C;\n",
              "      box-shadow: 0px 1px 3px 1px rgba(0, 0, 0, 0.15);\n",
              "      filter: drop-shadow(0px 1px 2px rgba(0, 0, 0, 0.3));\n",
              "      fill: #FFFFFF;\n",
              "    }\n",
              "  </style>\n",
              "\n",
              "    <script>\n",
              "      const buttonEl =\n",
              "        document.querySelector('#df-32ad7a85-b48d-4de7-8633-1ce775e738b4 button.colab-df-convert');\n",
              "      buttonEl.style.display =\n",
              "        google.colab.kernel.accessAllowed ? 'block' : 'none';\n",
              "\n",
              "      async function convertToInteractive(key) {\n",
              "        const element = document.querySelector('#df-32ad7a85-b48d-4de7-8633-1ce775e738b4');\n",
              "        const dataTable =\n",
              "          await google.colab.kernel.invokeFunction('convertToInteractive',\n",
              "                                                    [key], {});\n",
              "        if (!dataTable) return;\n",
              "\n",
              "        const docLinkHtml = 'Like what you see? Visit the ' +\n",
              "          '<a target=\"_blank\" href=https://colab.research.google.com/notebooks/data_table.ipynb>data table notebook</a>'\n",
              "          + ' to learn more about interactive tables.';\n",
              "        element.innerHTML = '';\n",
              "        dataTable['output_type'] = 'display_data';\n",
              "        await google.colab.output.renderOutput(dataTable, element);\n",
              "        const docLink = document.createElement('div');\n",
              "        docLink.innerHTML = docLinkHtml;\n",
              "        element.appendChild(docLink);\n",
              "      }\n",
              "    </script>\n",
              "  </div>\n",
              "\n",
              "\n",
              "<div id=\"df-0c53279b-98c2-4a61-a240-fbf0e9a2c9bd\">\n",
              "  <button class=\"colab-df-quickchart\" onclick=\"quickchart('df-0c53279b-98c2-4a61-a240-fbf0e9a2c9bd')\"\n",
              "            title=\"Suggest charts\"\n",
              "            style=\"display:none;\">\n",
              "\n",
              "<svg xmlns=\"http://www.w3.org/2000/svg\" height=\"24px\"viewBox=\"0 0 24 24\"\n",
              "     width=\"24px\">\n",
              "    <g>\n",
              "        <path d=\"M19 3H5c-1.1 0-2 .9-2 2v14c0 1.1.9 2 2 2h14c1.1 0 2-.9 2-2V5c0-1.1-.9-2-2-2zM9 17H7v-7h2v7zm4 0h-2V7h2v10zm4 0h-2v-4h2v4z\"/>\n",
              "    </g>\n",
              "</svg>\n",
              "  </button>\n",
              "\n",
              "<style>\n",
              "  .colab-df-quickchart {\n",
              "      --bg-color: #E8F0FE;\n",
              "      --fill-color: #1967D2;\n",
              "      --hover-bg-color: #E2EBFA;\n",
              "      --hover-fill-color: #174EA6;\n",
              "      --disabled-fill-color: #AAA;\n",
              "      --disabled-bg-color: #DDD;\n",
              "  }\n",
              "\n",
              "  [theme=dark] .colab-df-quickchart {\n",
              "      --bg-color: #3B4455;\n",
              "      --fill-color: #D2E3FC;\n",
              "      --hover-bg-color: #434B5C;\n",
              "      --hover-fill-color: #FFFFFF;\n",
              "      --disabled-bg-color: #3B4455;\n",
              "      --disabled-fill-color: #666;\n",
              "  }\n",
              "\n",
              "  .colab-df-quickchart {\n",
              "    background-color: var(--bg-color);\n",
              "    border: none;\n",
              "    border-radius: 50%;\n",
              "    cursor: pointer;\n",
              "    display: none;\n",
              "    fill: var(--fill-color);\n",
              "    height: 32px;\n",
              "    padding: 0;\n",
              "    width: 32px;\n",
              "  }\n",
              "\n",
              "  .colab-df-quickchart:hover {\n",
              "    background-color: var(--hover-bg-color);\n",
              "    box-shadow: 0 1px 2px rgba(60, 64, 67, 0.3), 0 1px 3px 1px rgba(60, 64, 67, 0.15);\n",
              "    fill: var(--button-hover-fill-color);\n",
              "  }\n",
              "\n",
              "  .colab-df-quickchart-complete:disabled,\n",
              "  .colab-df-quickchart-complete:disabled:hover {\n",
              "    background-color: var(--disabled-bg-color);\n",
              "    fill: var(--disabled-fill-color);\n",
              "    box-shadow: none;\n",
              "  }\n",
              "\n",
              "  .colab-df-spinner {\n",
              "    border: 2px solid var(--fill-color);\n",
              "    border-color: transparent;\n",
              "    border-bottom-color: var(--fill-color);\n",
              "    animation:\n",
              "      spin 1s steps(1) infinite;\n",
              "  }\n",
              "\n",
              "  @keyframes spin {\n",
              "    0% {\n",
              "      border-color: transparent;\n",
              "      border-bottom-color: var(--fill-color);\n",
              "      border-left-color: var(--fill-color);\n",
              "    }\n",
              "    20% {\n",
              "      border-color: transparent;\n",
              "      border-left-color: var(--fill-color);\n",
              "      border-top-color: var(--fill-color);\n",
              "    }\n",
              "    30% {\n",
              "      border-color: transparent;\n",
              "      border-left-color: var(--fill-color);\n",
              "      border-top-color: var(--fill-color);\n",
              "      border-right-color: var(--fill-color);\n",
              "    }\n",
              "    40% {\n",
              "      border-color: transparent;\n",
              "      border-right-color: var(--fill-color);\n",
              "      border-top-color: var(--fill-color);\n",
              "    }\n",
              "    60% {\n",
              "      border-color: transparent;\n",
              "      border-right-color: var(--fill-color);\n",
              "    }\n",
              "    80% {\n",
              "      border-color: transparent;\n",
              "      border-right-color: var(--fill-color);\n",
              "      border-bottom-color: var(--fill-color);\n",
              "    }\n",
              "    90% {\n",
              "      border-color: transparent;\n",
              "      border-bottom-color: var(--fill-color);\n",
              "    }\n",
              "  }\n",
              "</style>\n",
              "\n",
              "  <script>\n",
              "    async function quickchart(key) {\n",
              "      const quickchartButtonEl =\n",
              "        document.querySelector('#' + key + ' button');\n",
              "      quickchartButtonEl.disabled = true;  // To prevent multiple clicks.\n",
              "      quickchartButtonEl.classList.add('colab-df-spinner');\n",
              "      try {\n",
              "        const charts = await google.colab.kernel.invokeFunction(\n",
              "            'suggestCharts', [key], {});\n",
              "      } catch (error) {\n",
              "        console.error('Error during call to suggestCharts:', error);\n",
              "      }\n",
              "      quickchartButtonEl.classList.remove('colab-df-spinner');\n",
              "      quickchartButtonEl.classList.add('colab-df-quickchart-complete');\n",
              "    }\n",
              "    (() => {\n",
              "      let quickchartButtonEl =\n",
              "        document.querySelector('#df-0c53279b-98c2-4a61-a240-fbf0e9a2c9bd button');\n",
              "      quickchartButtonEl.style.display =\n",
              "        google.colab.kernel.accessAllowed ? 'block' : 'none';\n",
              "    })();\n",
              "  </script>\n",
              "</div>\n",
              "    </div>\n",
              "  </div>\n"
            ],
            "application/vnd.google.colaboratory.intrinsic+json": {
              "type": "dataframe",
              "variable_name": "X",
              "summary": "{\n  \"name\": \"X\",\n  \"rows\": 420,\n  \"fields\": [\n    {\n      \"column\": \"enrltot\",\n      \"properties\": {\n        \"dtype\": \"number\",\n        \"std\": 3913,\n        \"min\": 81,\n        \"max\": 27176,\n        \"num_unique_values\": 391,\n        \"samples\": [\n          446,\n          6219,\n          25151\n        ],\n        \"semantic_type\": \"\",\n        \"description\": \"\"\n      }\n    },\n    {\n      \"column\": \"teachers\",\n      \"properties\": {\n        \"dtype\": \"number\",\n        \"std\": 187.91267943401374,\n        \"min\": 4.84999990463257,\n        \"max\": 1429.0,\n        \"num_unique_values\": 374,\n        \"samples\": [\n          16.2800006866455,\n          90.4000015258789,\n          42.0699996948242\n        ],\n        \"semantic_type\": \"\",\n        \"description\": \"\"\n      }\n    },\n    {\n      \"column\": \"calwpct\",\n      \"properties\": {\n        \"dtype\": \"number\",\n        \"std\": 11.45482099030561,\n        \"min\": 0.0,\n        \"max\": 78.9942016601562,\n        \"num_unique_values\": 411,\n        \"samples\": [\n          20.6348991394043,\n          12.6920003890991,\n          19.8311996459961\n        ],\n        \"semantic_type\": \"\",\n        \"description\": \"\"\n      }\n    },\n    {\n      \"column\": \"mealpct\",\n      \"properties\": {\n        \"dtype\": \"number\",\n        \"std\": 27.12338108135673,\n        \"min\": 0.0,\n        \"max\": 100.0,\n        \"num_unique_values\": 407,\n        \"samples\": [\n          86.0294036865234,\n          34.0360984802246,\n          30.4416999816895\n        ],\n        \"semantic_type\": \"\",\n        \"description\": \"\"\n      }\n    },\n    {\n      \"column\": \"computer\",\n      \"properties\": {\n        \"dtype\": \"number\",\n        \"std\": 441,\n        \"min\": 0,\n        \"max\": 3324,\n        \"num_unique_values\": 270,\n        \"samples\": [\n          177,\n          4,\n          27\n        ],\n        \"semantic_type\": \"\",\n        \"description\": \"\"\n      }\n    },\n    {\n      \"column\": \"compstu\",\n      \"properties\": {\n        \"dtype\": \"number\",\n        \"std\": 0.06495581016902127,\n        \"min\": 0.0,\n        \"max\": 0.420833319425583,\n        \"num_unique_values\": 412,\n        \"samples\": [\n          0.09441938996315,\n          0.0869951173663139,\n          0.0966288670897484\n        ],\n        \"semantic_type\": \"\",\n        \"description\": \"\"\n      }\n    },\n    {\n      \"column\": \"expnstu\",\n      \"properties\": {\n        \"dtype\": \"number\",\n        \"std\": 633.9370531095024,\n        \"min\": 3926.06958007812,\n        \"max\": 7711.5068359375,\n        \"num_unique_values\": 420,\n        \"samples\": [\n          5124.83642578125,\n          4357.826171875,\n          5504.025390625\n        ],\n        \"semantic_type\": \"\",\n        \"description\": \"\"\n      }\n    },\n    {\n      \"column\": \"str\",\n      \"properties\": {\n        \"dtype\": \"number\",\n        \"std\": 1.891811787233676,\n        \"min\": 14.0,\n        \"max\": 25.7999992370605,\n        \"num_unique_values\": 412,\n        \"samples\": [\n          20.7910938262939,\n          22.8952388763428,\n          21.4639167785645\n        ],\n        \"semantic_type\": \"\",\n        \"description\": \"\"\n      }\n    },\n    {\n      \"column\": \"avginc\",\n      \"properties\": {\n        \"dtype\": \"number\",\n        \"std\": 7.225889763291426,\n        \"min\": 5.33500003814697,\n        \"max\": 55.3279991149902,\n        \"num_unique_values\": 337,\n        \"samples\": [\n          10.4720001220703,\n          11.9119997024536,\n          11.081000328064\n        ],\n        \"semantic_type\": \"\",\n        \"description\": \"\"\n      }\n    },\n    {\n      \"column\": \"elpct\",\n      \"properties\": {\n        \"dtype\": \"number\",\n        \"std\": 18.28592746747183,\n        \"min\": 0.0,\n        \"max\": 85.5397186279297,\n        \"num_unique_values\": 372,\n        \"samples\": [\n          1.68350172042847,\n          49.823070526123,\n          85.5397186279297\n        ],\n        \"semantic_type\": \"\",\n        \"description\": \"\"\n      }\n    }\n  ]\n}"
            }
          },
          "metadata": {},
          "execution_count": 29
        }
      ]
    },
    {
      "cell_type": "code",
      "source": [
        "# Train test split\n",
        "# Use train_test_split(X,y) to create four new data sets, defaults to .75/.25 split\n",
        "X_train, X_test, y_train, y_test = train_test_split(X, y, random_state=0, train_size=0.75)\n",
        "\n",
        "print(X.shape)\n",
        "X_train.shape"
      ],
      "metadata": {
        "colab": {
          "base_uri": "https://localhost:8080/"
        },
        "id": "H7hxyvug03rG",
        "outputId": "237cdc40-7cbb-444f-95c0-4332b00df89a"
      },
      "execution_count": null,
      "outputs": [
        {
          "output_type": "stream",
          "name": "stdout",
          "text": [
            "(420, 10)\n"
          ]
        },
        {
          "output_type": "execute_result",
          "data": {
            "text/plain": [
              "(315, 10)"
            ]
          },
          "metadata": {},
          "execution_count": 30
        }
      ]
    },
    {
      "cell_type": "markdown",
      "source": [
        "\n",
        "## **Running Regressions**"
      ],
      "metadata": {
        "id": "Ad4hGJjs13K2"
      }
    },
    {
      "cell_type": "markdown",
      "source": [
        "*Notes on KNN*\n",
        "\n",
        "KNeighborsClassifier is intended for classification tasks, not regression.\n",
        "\n",
        "My target variable, ie. test score is continuous, indicates that I should be performing a regression task\n",
        "\n",
        "*   'testscr' (test scores) is considered continuous\n",
        "because it can take on any value within a range, potentially including decimals, to represent the score accurately.\n",
        "\n",
        "*   categorical variables, which represent discrete groups or categories, such as 'district' or 'county' names in your dataset."
      ],
      "metadata": {
        "id": "eE9R5Bwa5pn-"
      }
    },
    {
      "cell_type": "markdown",
      "source": [
        "\n",
        "### **KNN**\n",
        "##### Evaluate KNN for regression using cross-validation with the default parameters"
      ],
      "metadata": {
        "id": "7mwQ6EXp0IyY"
      }
    },
    {
      "cell_type": "markdown",
      "source": [
        "\n",
        "*   Evaluating KNN for regression\" means assessing how well my K-Nearest Neighbors Regression model performs in predicting continuous outcomes based on the input features.\n",
        "\n",
        "*  Involves using metrics like R^2 score and RMSE to assess how well the KNN regression model predicts continuous outcomes.\n",
        "\n",
        "\n",
        "*   the evaluation involves certain metrics that quantify the accuracy of the predictions compared to the actual values (y^ and y target )\n",
        "\n",
        "\n",
        "*   2 metrics for this purpose: R^2 score and RMSE\n",
        "\n",
        "\n",
        "*   R-squared is a statistical measure that represents the goodness of fit of a regression model. The value of R-square lies between 0 to 1. Where we get R-square equals 1 when the model perfectly fits the data and there is no difference between the predicted value and actual value\n",
        "*   RMSE shows how far predictions fall from measured true values using Euclidean distance.\n",
        "\n",
        "\n",
        "\n",
        "\n",
        "\n"
      ],
      "metadata": {
        "id": "7M_WIy661QtQ"
      }
    },
    {
      "cell_type": "code",
      "source": [
        "# cross validation\n",
        "cv_scores = cross_val_score(KNeighborsRegressor(n_neighbors=15), X_train, y_train, cv=5, scoring=\"r2\")\n",
        "print(\"Cross-validation mean R^2 score: {:.3f}\".format(np.mean(cv_scores)))"
      ],
      "metadata": {
        "colab": {
          "base_uri": "https://localhost:8080/"
        },
        "id": "imfXtiznFSQO",
        "outputId": "98494b6a-1291-42c4-dae0-c3dcfe810570"
      },
      "execution_count": null,
      "outputs": [
        {
          "output_type": "stream",
          "name": "stdout",
          "text": [
            "Cross-validation mean R^2 score: 0.021\n"
          ]
        }
      ]
    },
    {
      "cell_type": "code",
      "source": [
        "# Training set and test set performance using R^2\n",
        "knn = KNeighborsRegressor(n_neighbors=10).fit(X_train,y_train)\n",
        "print(\"Test set score: {:.2f}\".format(knn.score(X_test,y_test)))"
      ],
      "metadata": {
        "colab": {
          "base_uri": "https://localhost:8080/"
        },
        "id": "FA16fq_GMJlN",
        "outputId": "c22887b6-c941-4c5c-e754-052c6795364f"
      },
      "execution_count": null,
      "outputs": [
        {
          "output_type": "stream",
          "name": "stdout",
          "text": [
            "Test set score: 0.01\n"
          ]
        }
      ]
    },
    {
      "cell_type": "markdown",
      "source": [
        "\n",
        "### **Linear Regression (OLS).**\n",
        "\n",
        "##### Evaluate Linear Regression using cross-validation with the default parameters"
      ],
      "metadata": {
        "id": "HuCq6EVN0zYM"
      }
    },
    {
      "cell_type": "code",
      "source": [
        "# Train Linear Regression Model\n",
        "lr = LinearRegression()\n",
        "lr.fit(X_train, y_train)\n",
        "\n",
        "coefs_ols = lr.coef_"
      ],
      "metadata": {
        "id": "y2yaMCP3C1P4"
      },
      "execution_count": null,
      "outputs": []
    },
    {
      "cell_type": "code",
      "source": [
        "# Training set and test set performance using R^2\n",
        "print(\"Training set score: {:.2f}\".format(lr.score(X_train, y_train)))\n",
        "print(\"Test set score: {:.2f}\".format(lr.score(X_test, y_test)))\n",
        "\n",
        "# Cross-validation\n",
        "cv_scores = cross_val_score(LinearRegression(), X_train, y_train, cv=10, scoring=\"r2\")\n",
        "print(\"Cross-validation mean R^2 score: {:.3f}\".format(np.mean(cv_scores)))"
      ],
      "metadata": {
        "colab": {
          "base_uri": "https://localhost:8080/"
        },
        "id": "mI1vAxxcDlUZ",
        "outputId": "ee85931b-59fa-41ec-d698-bfc100d71b3f"
      },
      "execution_count": null,
      "outputs": [
        {
          "output_type": "stream",
          "name": "stdout",
          "text": [
            "Training set score: 0.81\n",
            "Test set score: 0.80\n",
            "Cross-validation mean R^2 score: 0.780\n"
          ]
        }
      ]
    },
    {
      "cell_type": "markdown",
      "source": [
        "\n",
        "### **Ridge Regression**\n",
        "##### Evaluate Ridge Regression using cross-validation with the default parameters"
      ],
      "metadata": {
        "id": "Qjlm2nTkKMmd"
      }
    },
    {
      "cell_type": "code",
      "source": [
        "# Initialize and fit the Ridge regression model\n",
        "ridge = Ridge().fit(X_train, y_train)\n",
        "\n",
        "# Evaluate the model\n",
        "print(\"Training set score: {:.2f}\".format(ridge.score(X_train, y_train)))\n",
        "print(\"Test set score: {:.3f}\".format(ridge.score(X_test, y_test)))"
      ],
      "metadata": {
        "colab": {
          "base_uri": "https://localhost:8080/"
        },
        "id": "fnL84e9dLcqe",
        "outputId": "0c2fb243-b81d-4b43-8af5-d78af7146d1f"
      },
      "execution_count": null,
      "outputs": [
        {
          "output_type": "stream",
          "name": "stdout",
          "text": [
            "Training set score: 0.81\n",
            "Test set score: 0.799\n"
          ]
        }
      ]
    },
    {
      "cell_type": "code",
      "source": [
        "# Cross-validation\n",
        "cv_scores = cross_val_score(Ridge(), X_train, y_train, cv=10, scoring=\"r2\")\n",
        "print(\"Cross-validation mean R^2 score: {:.3f}\".format(np.mean(cv_scores)))"
      ],
      "metadata": {
        "colab": {
          "base_uri": "https://localhost:8080/"
        },
        "id": "Ai5lmt8w1K9k",
        "outputId": "febf962d-40d2-4f5e-f8be-27c54bc2352a"
      },
      "execution_count": null,
      "outputs": [
        {
          "output_type": "stream",
          "name": "stdout",
          "text": [
            "Cross-validation mean R^2 score: 0.781\n"
          ]
        }
      ]
    },
    {
      "cell_type": "markdown",
      "source": [
        "\n",
        "### **Lasso Regression**\n",
        "##### Evaluate Lasso Regression using cross-validation with the default parameters"
      ],
      "metadata": {
        "id": "0FA8EszhRMNz"
      }
    },
    {
      "cell_type": "code",
      "source": [
        "lasso = Lasso(alpha=0.01,max_iter=100000).fit(X_train, y_train)\n",
        "print(\"Training set score: {:.2f}\".format(lasso.score(X_train, y_train)))\n",
        "print(\"Test set score: {:.2f}\".format(lasso.score(X_test, y_test)))\n",
        "print(\"Number of features used: {}\".format(np.sum(lasso.coef_ != 0)))\n"
      ],
      "metadata": {
        "colab": {
          "base_uri": "https://localhost:8080/"
        },
        "id": "ehkBFsvTRPjC",
        "outputId": "bae4ba1c-8f93-474d-905c-70d252578dce"
      },
      "execution_count": null,
      "outputs": [
        {
          "output_type": "stream",
          "name": "stdout",
          "text": [
            "Training set score: 0.81\n",
            "Test set score: 0.80\n",
            "Number of features used: 10\n"
          ]
        }
      ]
    },
    {
      "cell_type": "code",
      "source": [
        "# Cross-validation\n",
        "cv_scores = cross_val_score(Lasso(alpha=0.01,max_iter=100000), X_train, y_train, cv=10, scoring=\"r2\")\n",
        "print(\"Cross-validation mean R^2 score: {:.3f}\".format(np.mean(cv_scores)))"
      ],
      "metadata": {
        "colab": {
          "base_uri": "https://localhost:8080/"
        },
        "id": "s9MovnRc1UlH",
        "outputId": "85381975-f367-4f41-887e-fa984df7776f"
      },
      "execution_count": null,
      "outputs": [
        {
          "output_type": "stream",
          "name": "stdout",
          "text": [
            "Cross-validation mean R^2 score: 0.780\n"
          ]
        }
      ]
    },
    {
      "cell_type": "markdown",
      "source": [
        "\n",
        "## **Scaling Data with Standard Scaler**"
      ],
      "metadata": {
        "id": "VYu8jglLUIWq"
      }
    },
    {
      "cell_type": "code",
      "source": [
        "scaler = StandardScaler()\n",
        "data_scaled = pd.DataFrame(scaler.fit_transform(data),columns=data.columns)"
      ],
      "metadata": {
        "id": "1lS6H7qu8UI5"
      },
      "execution_count": null,
      "outputs": []
    },
    {
      "cell_type": "code",
      "source": [
        "#Train test split\n",
        "\n",
        "y_scaled = data_scaled['testscr']\n",
        "X_scaled = data_scaled.loc[:, data_scaled.columns != 'testscr']\n",
        "\n",
        "X_train_scaled, X_test_scaled, y_train_scaled, y_test_scaled = train_test_split(X_scaled,y_scaled,random_state=0)"
      ],
      "metadata": {
        "id": "XiaVDuL-UOyc"
      },
      "execution_count": null,
      "outputs": []
    },
    {
      "cell_type": "markdown",
      "source": [
        "### **StandardScaler on OLS**"
      ],
      "metadata": {
        "id": "P-nUP9lUFUHL"
      }
    },
    {
      "cell_type": "code",
      "source": [
        "# Train Linear Regression Model\n",
        "lr = LinearRegression()\n",
        "lr.fit(X_train_scaled, y_train_scaled)\n",
        "\n",
        "coefs_ols = lr.coef_\n",
        "\n",
        "# Training set and test set performance using R^2\n",
        "print(\"Training set score: {:.2f}\".format(lr.score(X_train_scaled, y_train_scaled)))\n",
        "print(\"Test set score: {:.2f}\".format(lr.score(X_test_scaled, y_test_scaled)))\n",
        "\n",
        "# Cross-validation\n",
        "cv_scores = cross_val_score(LinearRegression(), X_train_scaled, y_train_scaled, cv=10, scoring=\"r2\")\n",
        "print(\"Cross-validation mean R^2 score: {:.3f}\".format(np.mean(cv_scores)))"
      ],
      "metadata": {
        "colab": {
          "base_uri": "https://localhost:8080/"
        },
        "id": "HcgG7xmJFTws",
        "outputId": "be33f569-a706-4319-98a9-005a00ccb59d"
      },
      "execution_count": null,
      "outputs": [
        {
          "output_type": "stream",
          "name": "stdout",
          "text": [
            "Training set score: 0.81\n",
            "Test set score: 0.80\n",
            "Cross-validation mean R^2 score: 0.780\n"
          ]
        }
      ]
    },
    {
      "cell_type": "markdown",
      "source": [
        "\n",
        "### **StandardScaler on KNN Model**"
      ],
      "metadata": {
        "id": "loI3kN0oYrmP"
      }
    },
    {
      "cell_type": "code",
      "source": [
        "# cross validation\n",
        "cv_scores = cross_val_score(KNeighborsRegressor(n_neighbors=15), X_train_scaled, y_train_scaled, cv=5, scoring=\"r2\")\n",
        "print(\"Cross-validation mean R^2 score: {:.3f}\".format(np.mean(cv_scores)))\n",
        "knn = KNeighborsRegressor(n_neighbors=15).fit(X_train_scaled,y_train_scaled)\n",
        "print(\"Test set score: {:.2f}\".format(knn.score(X_test_scaled,y_test_scaled)))\n",
        "\n"
      ],
      "metadata": {
        "colab": {
          "base_uri": "https://localhost:8080/"
        },
        "id": "DT5nnG3SV66x",
        "outputId": "1f883261-66b1-43ab-ccd8-ef7d3baa2b1e"
      },
      "execution_count": null,
      "outputs": [
        {
          "output_type": "stream",
          "name": "stdout",
          "text": [
            "Cross-validation mean R^2 score: 0.748\n",
            "Test set score: 0.70\n"
          ]
        }
      ]
    },
    {
      "cell_type": "markdown",
      "source": [
        "\n",
        "### **StandardScaler on Ridge Regression Model**"
      ],
      "metadata": {
        "id": "UZPPLTOHaluw"
      }
    },
    {
      "cell_type": "code",
      "source": [
        "# Initialize and fit the Ridge regression model\n",
        "ridge = Ridge().fit(X_train_scaled, y_train_scaled)\n",
        "\n",
        "# Evaluate the model\n",
        "print(\"Training set score: {:.2f}\".format(ridge.score(X_train_scaled, y_train_scaled)))\n",
        "print(\"Test set score: {:.3f}\".format(ridge.score(X_test_scaled, y_test_scaled)))\n",
        "# Cross-validation\n",
        "cv_scores = cross_val_score(Ridge(), X_train_scaled, y_train_scaled, cv=10, scoring=\"r2\")\n",
        "print(\"Cross-validation mean R^2 score: {:.3f}\".format(np.mean(cv_scores)))\n"
      ],
      "metadata": {
        "colab": {
          "base_uri": "https://localhost:8080/"
        },
        "id": "m1cmaXM3YnDu",
        "outputId": "8f1f17ae-5b0f-4df1-8633-2e6010dc0dd7"
      },
      "execution_count": null,
      "outputs": [
        {
          "output_type": "stream",
          "name": "stdout",
          "text": [
            "Training set score: 0.81\n",
            "Test set score: 0.799\n",
            "Cross-validation mean R^2 score: 0.781\n"
          ]
        }
      ]
    },
    {
      "cell_type": "markdown",
      "source": [
        "\n",
        "### **StandardScaler on Lasso Regression Model**"
      ],
      "metadata": {
        "id": "mVQxYzBndybJ"
      }
    },
    {
      "cell_type": "code",
      "source": [
        "# Initialize and fit the Ridge regression model\n",
        "lasso = Lasso(alpha=0.01).fit(X_train_scaled, y_train_scaled)\n",
        "\n",
        "# Evaluate the model\n",
        "print(\"Test set score: {:.3f}\".format(lasso.score(X_test_scaled, y_test_scaled)))\n",
        "# Cross-validation\n",
        "cv_scores = cross_val_score(Lasso(alpha=0.01), X_train_scaled, y_train_scaled, cv=10, scoring=\"r2\")\n",
        "print(\"Cross-validation mean R^2 score: {:.3f}\".format(np.mean(cv_scores)))"
      ],
      "metadata": {
        "colab": {
          "base_uri": "https://localhost:8080/"
        },
        "id": "TJ65mJB0dwgD",
        "outputId": "bcdd8e9a-6f01-455f-be3c-918482360e2e"
      },
      "execution_count": null,
      "outputs": [
        {
          "output_type": "stream",
          "name": "stdout",
          "text": [
            "Test set score: 0.800\n",
            "Cross-validation mean R^2 score: 0.782\n"
          ]
        }
      ]
    },
    {
      "cell_type": "markdown",
      "source": [
        "\n",
        "### **Does scaling the data with the StandardScaler help?**\n",
        "- Linear regression is scaling invariant.\n",
        "\n",
        "- Scaling is important for ridge and lasso because scale is important when constraining the coefficients. Here the results did not change\n",
        "- Results inmproved for KNN because it is sensitive to scaling because it is distance-based"
      ],
      "metadata": {
        "id": "3pkFk5qrhMmA"
      }
    },
    {
      "cell_type": "markdown",
      "source": [
        "# **Question 6: Tune the parameters of the models where possible using GridSearchCV.**\n",
        "\n",
        "GridSearchCV automates the process of finding optimal hyperparameter values, such as the best 'alpha' for Ridge and Lasso regression or 'n_neighbors' for KNN, eliminating the need for manual experimentation across models with hyperparameters."
      ],
      "metadata": {
        "id": "b6FkbcnkRkcl"
      }
    },
    {
      "cell_type": "markdown",
      "source": [
        "\n",
        "## **Ridge**"
      ],
      "metadata": {
        "id": "NczWZuZf1vBB"
      }
    },
    {
      "cell_type": "code",
      "source": [
        "# Define the parameter grid for Ridge regression\n",
        "param_grid = {'alpha': np.logspace(-4, 2, 20)}  # Exploring 20 values from 10^-4 to 10^2\n",
        "# creating a list of values from 10^-4 to 1\n",
        "\n",
        "# Initialize GridSearchCV with the Ridge model and the parameter grid\n",
        "grid = GridSearchCV(Ridge(), param_grid=param_grid, cv=10, scoring='r2')\n",
        "# higher r^2 = better\n",
        "\n",
        "# Fit the model\n",
        "grid.fit(X_train_scaled, y_train_scaled)\n",
        "best_ridge = grid.best_estimator_\n",
        "\n",
        "# Print the results\n",
        "print(\"Best mean cross-validation score: {:.3f}\".format(grid.best_score_))\n",
        "print(\"Best parameters: {}\".format(grid.best_params_))\n",
        "print(\"Test-set score: {:.3f}\".format(grid.score(X_test_scaled, y_test_scaled)))"
      ],
      "metadata": {
        "colab": {
          "base_uri": "https://localhost:8080/"
        },
        "id": "sxFZYrVlSG9J",
        "outputId": "be9f5d97-5185-4491-b824-7669e8628443"
      },
      "execution_count": null,
      "outputs": [
        {
          "output_type": "stream",
          "name": "stdout",
          "text": [
            "Best mean cross-validation score: 0.782\n",
            "Best parameters: {'alpha': 11.288378916846883}\n",
            "Test-set score: 0.793\n"
          ]
        }
      ]
    },
    {
      "cell_type": "markdown",
      "source": [
        "\n",
        "## **Lasso**\n",
        "\n"
      ],
      "metadata": {
        "id": "MhUBZPzHRxt5"
      }
    },
    {
      "cell_type": "code",
      "source": [
        "# Define the parameter grid for Lasso regression\n",
        "param_grid = {'alpha': np.logspace(-4, 2, 20)}  # Exploring 20 values from 10^-4 to 10^2\n",
        "# creating a list of values from 10^-4 to 1\n",
        "\n",
        "# Initialize GridSearchCV with the Lasso model and the parameter grid\n",
        "grid = GridSearchCV(Lasso(max_iter=100000), param_grid=param_grid, cv=10, scoring='r2')\n",
        "# higher r^2 = better\n",
        "\n",
        "# Fit the model\n",
        "grid.fit(X_train_scaled, y_train_scaled)\n",
        "best_lasso = grid.best_estimator_\n",
        "\n",
        "# Print the results\n",
        "print(\"Best mean cross-validation score: {:.3f}\".format(grid.best_score_))\n",
        "print(\"Best parameters: {}\".format(grid.best_params_))\n",
        "print(\"Test-set score: {:.3f}\".format(grid.score(X_test_scaled, y_test_scaled)))"
      ],
      "metadata": {
        "colab": {
          "base_uri": "https://localhost:8080/"
        },
        "id": "wRX4DIlMRyqx",
        "outputId": "b04bcd99-2a7c-4f26-e454-b2fd10053c3a"
      },
      "execution_count": null,
      "outputs": [
        {
          "output_type": "stream",
          "name": "stdout",
          "text": [
            "Best mean cross-validation score: 0.782\n",
            "Best parameters: {'alpha': 0.007847599703514606}\n",
            "Test-set score: 0.800\n"
          ]
        }
      ]
    },
    {
      "cell_type": "markdown",
      "source": [
        "\n",
        "## **KNN**"
      ],
      "metadata": {
        "id": "92URoTEnSelj"
      }
    },
    {
      "cell_type": "code",
      "source": [
        "# Define the parameter grid for KNN regression\n",
        "param_grid = {'n_neighbors': [1,2,3,4,5,6,7,8,9,10,15,20,30,50]}  # Exploring 20 values from 10^-4 to 10^0\n",
        "# creating a list of values from 10^-4 to 1\n",
        "\n",
        "# Initialize GridSearchCV with the Ridge model and the parameter grid\n",
        "grid = GridSearchCV(KNeighborsRegressor(), param_grid=param_grid, cv=10, scoring='r2')\n",
        "# higher r^2 = better\n",
        "\n",
        "# Fit the model\n",
        "grid.fit(X_train_scaled, y_train_scaled)\n",
        "\n",
        "# Print the results\n",
        "print(\"Best mean cross-validation score: {:.3f}\".format(grid.best_score_))\n",
        "print(\"Best parameters: {}\".format(grid.best_params_))\n",
        "print(\"Test-set score: {:.3f}\".format(grid.score(X_test_scaled, y_test_scaled)))"
      ],
      "metadata": {
        "colab": {
          "base_uri": "https://localhost:8080/"
        },
        "id": "s5Ju0mM2ShGE",
        "outputId": "db592755-df57-4424-c3c5-4eed209696b4"
      },
      "execution_count": null,
      "outputs": [
        {
          "output_type": "stream",
          "name": "stdout",
          "text": [
            "Best mean cross-validation score: 0.739\n",
            "Best parameters: {'n_neighbors': 8}\n",
            "Test-set score: 0.706\n"
          ]
        }
      ]
    },
    {
      "cell_type": "markdown",
      "source": [
        "# **Question 6: Tune the parameters of the models where possible using GridSearchCV.**\n",
        "## **Do the results improve?**\n",
        "\n",
        "After tuning the parameters of the models using gridsearch\n",
        "\n",
        "The results did not improve significantly\n"
      ],
      "metadata": {
        "id": "r2OLE_BGwaKn"
      }
    },
    {
      "cell_type": "markdown",
      "source": [
        "# **Question 7: Compare the coefficients of your two best linear models (not KNN). Do they agree on which features are important?**\n",
        "\n",
        "\n"
      ],
      "metadata": {
        "id": "AMC-pGV2DQ1H"
      }
    },
    {
      "cell_type": "code",
      "source": [
        "# Look at coefficients directly to see if models agree on which features are important\n",
        "\n",
        "# Compare coefficients\n",
        "ridge_coefs = best_ridge.coef_\n",
        "lasso_coefs = best_lasso.coef_\n",
        "\n",
        "# Assuming you have a DataFrame or similar structure for the feature names\n",
        "feature_names = X_train.columns\n",
        "\n",
        "\n",
        "\n",
        "print(\"Feature\\t\\tRidge Coefficient\\tLasso Coefficient\")\n",
        "for feature, ridge_coef, lasso_coef in zip(feature_names, ridge_coefs, lasso_coefs):\n",
        "    print(f\"{feature}\\t{ridge_coef:.3f}\\t\\t{lasso_coef:.3f}\")\n"
      ],
      "metadata": {
        "colab": {
          "base_uri": "https://localhost:8080/"
        },
        "id": "c4TnyJVHfDsd",
        "outputId": "3838a95b-b256-4e63-be42-cbefb50df4f3"
      },
      "execution_count": null,
      "outputs": [
        {
          "output_type": "stream",
          "name": "stdout",
          "text": [
            "Feature\t\tRidge Coefficient\tLasso Coefficient\n",
            "enrltot\t-0.038\t\t-0.017\n",
            "teachers\t-0.021\t\t-0.000\n",
            "calwpct\t-0.101\t\t-0.072\n",
            "mealpct\t-0.425\t\t-0.477\n",
            "computer\t0.042\t\t0.000\n",
            "compstu\t0.035\t\t0.038\n",
            "expnstu\t0.064\t\t0.061\n",
            "str\t-0.021\t\t-0.015\n",
            "avginc\t0.238\t\t0.229\n",
            "elpct\t-0.207\t\t-0.190\n"
          ]
        }
      ]
    },
    {
      "cell_type": "markdown",
      "source": [
        "**positive/negative coefficients**\n",
        "*   features such as mealpct, compstu, str, avginc, and elpct have significant coefficients (both positive and negative), indicating these features weigh more in the model's prediction\n",
        "*   both models agree on the positive and negative direction and the  magnitude of these coefficients\n",
        "\n",
        "**conclusion**\n",
        "*   Ridge and Lasso models agree on the importance of most features and their corresndponding coefficients"
      ],
      "metadata": {
        "id": "VMRaCHV4Yrtk"
      }
    },
    {
      "cell_type": "code",
      "source": [
        "# Coefficients comparison\n",
        "coefs_df = pd.DataFrame(columns=feature_names)\n",
        "coefs_df.loc['OLS'] = coefs_ols\n",
        "coefs_df.loc['Ridge'] = ridge_coefs\n",
        "coefs_df.loc['Lasso'] = lasso_coefs\n",
        "coefs_df.T.plot(kind='bar')\n"
      ],
      "metadata": {
        "colab": {
          "base_uri": "https://localhost:8080/",
          "height": 500
        },
        "id": "wmQLq2pM-kYS",
        "outputId": "08e348bf-8f90-406e-ab92-85e75c3c165c"
      },
      "execution_count": null,
      "outputs": [
        {
          "output_type": "execute_result",
          "data": {
            "text/plain": [
              "<Axes: >"
            ]
          },
          "metadata": {},
          "execution_count": 49
        },
        {
          "output_type": "display_data",
          "data": {
            "text/plain": [
              "<Figure size 640x480 with 1 Axes>"
            ],
            "image/png": "[encoded data removed]"
          },
          "metadata": {}
        }
      ]
    },
    {
      "cell_type": "markdown",
      "source": [
        "- All models seem to both agree that mealpct, avginc and elpct are the most important.\n",
        "- One noticeable difference is the teachers variable than gets zeroed out by LASSO (aka this feature doesn't matter when performing LASSO), enrolltot is also very different when we use penalized models\n",
        "\n"
      ],
      "metadata": {
        "id": "dSDGz_Ilf9Xf"
      }
    },
    {
      "cell_type": "markdown",
      "source": [
        "# **Question 8: Discuss which final model you would choose to predict new data.**\n",
        "\n",
        "I think all linear models are pretty similar, especially their cv score, test-set score, and the features' coefficients that they agree on. Either model works, just not KNN"
      ],
      "metadata": {
        "id": "f8EvmXx5EDEg"
      }
    },
    {
      "cell_type": "markdown",
      "source": [
        "# PART B"
      ],
      "metadata": {
        "id": "rVlFNxfMnqYh"
      }
    },
    {
      "cell_type": "code",
      "source": [
        "# Read csv file for white wine\n",
        "white_wine = pd.read_csv(\"https://archive.ics.uci.edu/ml/machine-learning-databases/wine-quality/winequality-white.csv\")\n",
        "print(white_wine.head())"
      ],
      "metadata": {
        "id": "jcGh-CyMnrg5"
      },
      "execution_count": null,
      "outputs": []
    },
    {
      "cell_type": "code",
      "source": [
        "# Read csv file for red wine\n",
        "red_wine = pd.read_csv(\"https://archive.ics.uci.edu/ml/machine-learning-databases/wine-quality/winequality-red.csv\")\n",
        "print(red_wine.head())"
      ],
      "metadata": {
        "id": "aOR59SnfnvrE"
      },
      "execution_count": null,
      "outputs": []
    },
    {
      "cell_type": "markdown",
      "source": [
        "# Nhu Vo <space><space>\n",
        "## ML GR5073 HW 1 part A: Classification on red and white wine characteristics"
      ],
      "metadata": {
        "id": "5TlIhWgWo_Zm"
      }
    },
    {
      "cell_type": "code",
      "source": [
        "# Import Panda Package\n",
        "import pandas as pd\n",
        "import numpy as np\n",
        "import matplotlib.pyplot as plt\n",
        "import seaborn as sns\n",
        "from sklearn.model_selection import train_test_split, GridSearchCV\n",
        "\n",
        "from sklearn.model_selection import cross_val_score\n",
        "from sklearn.model_selection import StratifiedKFold\n",
        "from sklearn.model_selection import RepeatedKFold\n",
        "from sklearn.neighbors import KNeighborsClassifier\n",
        "\n",
        "from sklearn.model_selection import KFold\n",
        "import statsmodels.api as sm\n",
        "\n",
        "from statistics import mean\n",
        "from sklearn.model_selection import cross_val_score\n",
        "from sklearn.linear_model import LogisticRegression\n",
        "from sklearn.preprocessing import StandardScaler\n",
        "\n",
        "from sklearn.pipeline import Pipeline\n",
        "from sklearn.metrics import accuracy_score\n"
      ],
      "metadata": {
        "id": "UcPDsZ8nE2iV"
      },
      "execution_count": null,
      "outputs": []
    },
    {
      "cell_type": "markdown",
      "source": [
        "# **Question 1: Import red and white wine cvs files**"
      ],
      "metadata": {
        "id": "OZD9tkxZUDCx"
      }
    },
    {
      "cell_type": "code",
      "source": [
        "# Read csv file for white wine\n",
        "white_wine = pd.read_csv(\"https://archive.ics.uci.edu/ml/machine-learning-databases/wine-quality/winequality-white.csv\")\n",
        "print(white_wine.head())\n"
      ],
      "metadata": {
        "id": "EQOGuC83RDsr",
        "colab": {
          "base_uri": "https://localhost:8080/"
        },
        "outputId": "d5381328-9f02-4dd6-9976-40d2de621891"
      },
      "execution_count": null,
      "outputs": [
        {
          "output_type": "stream",
          "name": "stdout",
          "text": [
            "  fixed acidity;\"volatile acidity\";\"citric acid\";\"residual sugar\";\"chlorides\";\"free sulfur dioxide\";\"total sulfur dioxide\";\"density\";\"pH\";\"sulphates\";\"alcohol\";\"quality\"\n",
            "0   7;0.27;0.36;20.7;0.045;45;170;1.001;3;0.45;8.8;6                                                                                                                     \n",
            "1  6.3;0.3;0.34;1.6;0.049;14;132;0.994;3.3;0.49;9...                                                                                                                     \n",
            "2  8.1;0.28;0.4;6.9;0.05;30;97;0.9951;3.26;0.44;1...                                                                                                                     \n",
            "3  7.2;0.23;0.32;8.5;0.058;47;186;0.9956;3.19;0.4...                                                                                                                     \n",
            "4  7.2;0.23;0.32;8.5;0.058;47;186;0.9956;3.19;0.4...                                                                                                                     \n"
          ]
        }
      ]
    },
    {
      "cell_type": "code",
      "source": [
        "# Read csv file for red wine\n",
        "red_wine = pd.read_csv(\"https://archive.ics.uci.edu/ml/machine-learning-databases/wine-quality/winequality-red.csv\")\n",
        "print(red_wine.head())\n"
      ],
      "metadata": {
        "colab": {
          "base_uri": "https://localhost:8080/"
        },
        "id": "WT-y8DB5TuAE",
        "outputId": "66ead28d-27b3-4ada-f330-3392b500ac66"
      },
      "execution_count": null,
      "outputs": [
        {
          "output_type": "stream",
          "name": "stdout",
          "text": [
            "  fixed acidity;\"volatile acidity\";\"citric acid\";\"residual sugar\";\"chlorides\";\"free sulfur dioxide\";\"total sulfur dioxide\";\"density\";\"pH\";\"sulphates\";\"alcohol\";\"quality\"\n",
            "0   7.4;0.7;0;1.9;0.076;11;34;0.9978;3.51;0.56;9.4;5                                                                                                                     \n",
            "1   7.8;0.88;0;2.6;0.098;25;67;0.9968;3.2;0.68;9.8;5                                                                                                                     \n",
            "2  7.8;0.76;0.04;2.3;0.092;15;54;0.997;3.26;0.65;...                                                                                                                     \n",
            "3  11.2;0.28;0.56;1.9;0.075;17;60;0.998;3.16;0.58...                                                                                                                     \n",
            "4   7.4;0.7;0;1.9;0.076;11;34;0.9978;3.51;0.56;9.4;5                                                                                                                     \n"
          ]
        }
      ]
    },
    {
      "cell_type": "markdown",
      "source": [
        "# **Question 2: Add a new column to each data frame called \"winetype\". For the white wine dataset label the values in this column with a 0, indicating white wine. For the red wine dataset, label values with a 1, indicating red wine. Combine both datasets into a single dataframe. The target data (i.e. the dependent variable) is \"winetype\".**"
      ],
      "metadata": {
        "id": "u4Xf71ebU4Pc"
      }
    },
    {
      "cell_type": "code",
      "source": [
        "white_wine_url = \"https://archive.ics.uci.edu/ml/machine-learning-databases/wine-quality/winequality-white.csv\"\n",
        "red_wine_url = \"https://archive.ics.uci.edu/ml/machine-learning-databases/wine-quality/winequality-red.csv\"\n",
        "\n",
        "# Load the datasets with semicolon delimiter\n",
        "# The dataset I'm working with uses semicolons to separate values within each row\n",
        "# Semicolon delimiter ';' separate individual data items within a row\n",
        "white_wine = pd.read_csv(white_wine_url, sep=';')\n",
        "red_wine = pd.read_csv(red_wine_url, sep=';')\n",
        "\n",
        "# Add a 'winetype' column to differentiate between white (0) and red (1) wines\n",
        "white_wine['winetype'] = 0\n",
        "red_wine['winetype'] = 1\n",
        "\n",
        "# Combine the datasets\n",
        "wines = pd.concat([white_wine, red_wine], ignore_index=True)\n"
      ],
      "metadata": {
        "id": "1S8kHOC1WAVe"
      },
      "execution_count": null,
      "outputs": []
    },
    {
      "cell_type": "code",
      "source": [
        "print(wines)\n",
        "print(wines.columns)"
      ],
      "metadata": {
        "colab": {
          "base_uri": "https://localhost:8080/"
        },
        "id": "zlcYb5KZcMj2",
        "outputId": "53f3c85a-aa57-4bc1-8b01-547c839da7a2"
      },
      "execution_count": null,
      "outputs": [
        {
          "output_type": "stream",
          "name": "stdout",
          "text": [
            "      fixed acidity  volatile acidity  citric acid  residual sugar  chlorides  \\\n",
            "0               7.0             0.270         0.36            20.7      0.045   \n",
            "1               6.3             0.300         0.34             1.6      0.049   \n",
            "2               8.1             0.280         0.40             6.9      0.050   \n",
            "3               7.2             0.230         0.32             8.5      0.058   \n",
            "4               7.2             0.230         0.32             8.5      0.058   \n",
            "...             ...               ...          ...             ...        ...   \n",
            "6492            6.2             0.600         0.08             2.0      0.090   \n",
            "6493            5.9             0.550         0.10             2.2      0.062   \n",
            "6494            6.3             0.510         0.13             2.3      0.076   \n",
            "6495            5.9             0.645         0.12             2.0      0.075   \n",
            "6496            6.0             0.310         0.47             3.6      0.067   \n",
            "\n",
            "      free sulfur dioxide  total sulfur dioxide  density    pH  sulphates  \\\n",
            "0                    45.0                 170.0  1.00100  3.00       0.45   \n",
            "1                    14.0                 132.0  0.99400  3.30       0.49   \n",
            "2                    30.0                  97.0  0.99510  3.26       0.44   \n",
            "3                    47.0                 186.0  0.99560  3.19       0.40   \n",
            "4                    47.0                 186.0  0.99560  3.19       0.40   \n",
            "...                   ...                   ...      ...   ...        ...   \n",
            "6492                 32.0                  44.0  0.99490  3.45       0.58   \n",
            "6493                 39.0                  51.0  0.99512  3.52       0.76   \n",
            "6494                 29.0                  40.0  0.99574  3.42       0.75   \n",
            "6495                 32.0                  44.0  0.99547  3.57       0.71   \n",
            "6496                 18.0                  42.0  0.99549  3.39       0.66   \n",
            "\n",
            "      alcohol  quality  winetype  \n",
            "0         8.8        6         0  \n",
            "1         9.5        6         0  \n",
            "2        10.1        6         0  \n",
            "3         9.9        6         0  \n",
            "4         9.9        6         0  \n",
            "...       ...      ...       ...  \n",
            "6492     10.5        5         1  \n",
            "6493     11.2        6         1  \n",
            "6494     11.0        6         1  \n",
            "6495     10.2        5         1  \n",
            "6496     11.0        6         1  \n",
            "\n",
            "[6497 rows x 13 columns]\n",
            "Index(['fixed acidity', 'volatile acidity', 'citric acid', 'residual sugar',\n",
            "       'chlorides', 'free sulfur dioxide', 'total sulfur dioxide', 'density',\n",
            "       'pH', 'sulphates', 'alcohol', 'quality', 'winetype'],\n",
            "      dtype='object')\n"
          ]
        }
      ]
    },
    {
      "cell_type": "markdown",
      "source": [
        "# **Question 3: Visualize the univariate distribution of the target feature and each of the three explanatory variables that you think are likely to have a relationship with the target feature.**"
      ],
      "metadata": {
        "id": "TQ3oaU_5YT2r"
      }
    },
    {
      "cell_type": "markdown",
      "source": [
        "our target feature/dependent variable is wine type \"winetype\"\n",
        "\n",
        "three independent (explanatory) variables that I hypothesize might influence the dependent variable:\n",
        "1. alcohol\n",
        "2. pH\n",
        "3. density"
      ],
      "metadata": {
        "id": "ZTNSEuAyZChf"
      }
    },
    {
      "cell_type": "code",
      "source": [
        "print(wines.columns)"
      ],
      "metadata": {
        "colab": {
          "base_uri": "https://localhost:8080/"
        },
        "id": "h-brnOLxeKDl",
        "outputId": "c0abc930-96fc-4a23-b1da-aca94c99453a"
      },
      "execution_count": null,
      "outputs": [
        {
          "output_type": "stream",
          "name": "stdout",
          "text": [
            "Index(['fixed acidity', 'volatile acidity', 'citric acid', 'residual sugar',\n",
            "       'chlorides', 'free sulfur dioxide', 'total sulfur dioxide', 'density',\n",
            "       'pH', 'sulphates', 'alcohol', 'quality', 'winetype'],\n",
            "      dtype='object')\n"
          ]
        }
      ]
    },
    {
      "cell_type": "code",
      "source": [
        "%matplotlib inline\n",
        "\n",
        "# Visualize the univariate distribution of 'winetype'\n",
        "plt.figure(figsize=(6, 4))\n",
        "sns.countplot(x='winetype', data=wines)\n",
        "plt.title('Distribution of Wine Types')\n",
        "plt.xlabel('Wine Type (0=White, 1=Red)')\n",
        "plt.ylabel('Count')\n",
        "plt.show()\n",
        "\n",
        "# Visualize the univariate distributions of 'alcohol', 'pH', and 'density'\n",
        "fig, axes = plt.subplots(1, 3, figsize=(18, 5))\n",
        "\n",
        "sns.histplot(wines['alcohol'], bins=30, kde=True, ax=axes[0])\n",
        "axes[0].set_title('Alcohol Distribution')\n",
        "\n",
        "sns.histplot(wines['pH'], bins=30, kde=True, ax=axes[1])\n",
        "axes[1].set_title('pH Distribution')\n",
        "\n",
        "sns.histplot(wines['density'], bins=30, kde=True, ax=axes[2])\n",
        "axes[2].set_title('Density Distribution')\n",
        "\n",
        "plt.tight_layout()\n",
        "plt.show()\n"
      ],
      "metadata": {
        "colab": {
          "base_uri": "https://localhost:8080/",
          "height": 820
        },
        "id": "hlqnFxrQdtIn",
        "outputId": "a96bb7ef-3a27-49ac-88b2-5ee046104307"
      },
      "execution_count": null,
      "outputs": [
        {
          "output_type": "display_data",
          "data": {
            "text/plain": [
              "<Figure size 600x400 with 1 Axes>"
            ],
            "image/png": "[encoded data removed]"
          },
          "metadata": {}
        },
        {
          "output_type": "display_data",
          "data": {
            "text/plain": [
              "<Figure size 1800x500 with 3 Axes>"
            ],
            "image/png": "[encoded data removed]"
          },
          "metadata": {}
        }
      ]
    },
    {
      "cell_type": "markdown",
      "source": [
        "# **Question 4:**\n"
      ],
      "metadata": {
        "id": "aNQnf291e3Qn"
      }
    },
    {
      "cell_type": "markdown",
      "source": [
        "## **Split data into training and test sets.**"
      ],
      "metadata": {
        "id": "GWhjS1A5cLpQ"
      }
    },
    {
      "cell_type": "code",
      "source": [
        "# Change variable names to X, y to create train/test split\n",
        "y = wines['winetype']\n",
        "# extract target variable from \"wines\" datagrame and assigns it to \"y\"\n",
        "\n",
        "X = wines.loc[:, wines.columns != 'winetype']\n",
        "# selects all columns from \"wines\" except winetype and assigns resulting dataframe to \"x\"\n",
        "\n",
        "# printing the first 5 rows of 'y' and the head of 'X'\n",
        "print(y[0:5])\n",
        "print(X.head())"
      ],
      "metadata": {
        "colab": {
          "base_uri": "https://localhost:8080/"
        },
        "id": "nMCJDjDEfKuc",
        "outputId": "981cc445-9814-473e-dbb9-10b750c2e92a"
      },
      "execution_count": null,
      "outputs": [
        {
          "output_type": "stream",
          "name": "stdout",
          "text": [
            "0    0\n",
            "1    0\n",
            "2    0\n",
            "3    0\n",
            "4    0\n",
            "Name: winetype, dtype: int64\n",
            "   fixed acidity  volatile acidity  citric acid  residual sugar  chlorides  \\\n",
            "0            7.0              0.27         0.36            20.7      0.045   \n",
            "1            6.3              0.30         0.34             1.6      0.049   \n",
            "2            8.1              0.28         0.40             6.9      0.050   \n",
            "3            7.2              0.23         0.32             8.5      0.058   \n",
            "4            7.2              0.23         0.32             8.5      0.058   \n",
            "\n",
            "   free sulfur dioxide  total sulfur dioxide  density    pH  sulphates  \\\n",
            "0                 45.0                 170.0   1.0010  3.00       0.45   \n",
            "1                 14.0                 132.0   0.9940  3.30       0.49   \n",
            "2                 30.0                  97.0   0.9951  3.26       0.44   \n",
            "3                 47.0                 186.0   0.9956  3.19       0.40   \n",
            "4                 47.0                 186.0   0.9956  3.19       0.40   \n",
            "\n",
            "   alcohol  quality  \n",
            "0      8.8        6  \n",
            "1      9.5        6  \n",
            "2     10.1        6  \n",
            "3      9.9        6  \n",
            "4      9.9        6  \n"
          ]
        }
      ]
    },
    {
      "cell_type": "code",
      "source": [
        "# Train Test Split\n",
        "# Use train_test_split(X,y) to create four new data sets, defaults to .75/.25 split\n",
        "X_train, X_test, y_train, y_test = train_test_split(X, y,random_state=0)\n",
        "\n",
        "print(X.shape)\n",
        "X_train.shape"
      ],
      "metadata": {
        "colab": {
          "base_uri": "https://localhost:8080/"
        },
        "id": "3-Pty3hUhUmO",
        "outputId": "c08d9679-7fa4-4fea-cf75-a95ce611eea6"
      },
      "execution_count": null,
      "outputs": [
        {
          "output_type": "stream",
          "name": "stdout",
          "text": [
            "(6497, 12)\n"
          ]
        },
        {
          "output_type": "execute_result",
          "data": {
            "text/plain": [
              "(4872, 12)"
            ]
          },
          "metadata": {},
          "execution_count": 25
        }
      ]
    },
    {
      "cell_type": "markdown",
      "source": [
        "L1 or Lasso\n",
        "*   type of regularization penalty applied to model to prevent overfitting by penalizing large coefficients\n",
        "*   adds penalty that is sum of absolute values of Beta\n",
        "\n",
        "*   List item\n",
        "\n",
        "\n",
        "L2 or Ridge\n",
        "*   type of regularization penalty applied to model to prevent overfitting by penalizing large coefficients\n",
        "*   adds penalty that is suare root of sum of squares\n",
        "\n",
        "C Parameter\n",
        "*    hyperparameter that controls the strength of the L1 or L2 penalty\n",
        "*   small c = stronger penalty (more regularization)\n",
        "*   big c = weaker penalty (less regularization)\n",
        "*  Lower values of C correspond to stronger regularization. This means the model is encouraged to find simpler, less complex functions that may generalize better to unseen data, at the cost of potentially higher bias on the training set.\n",
        "*   Higher values of C suggest weaker regularization, allowing the model to focus more on fitting the training data as closely as possible, at the risk of overfitting.\n",
        "\n"
      ],
      "metadata": {
        "id": "OaMxBv-Mrl7H"
      }
    },
    {
      "cell_type": "markdown",
      "source": [
        "## Run classifiers"
      ],
      "metadata": {
        "id": "2_ZHatpQcM71"
      }
    },
    {
      "cell_type": "markdown",
      "source": [
        "\n",
        "### **Logistic Regression**"
      ],
      "metadata": {
        "id": "GZwFCSyAGVlY"
      }
    },
    {
      "cell_type": "code",
      "source": [
        "# Set penalty to none since we are starting with non penalized logit, L1 and L2 are other options\n",
        "logreg = LogisticRegression(penalty='none',max_iter=10000).fit(X_train, y_train)\n",
        "print(\"Training set score: {:.3f}\".format(logreg.score(X_train, y_train)))\n",
        "print(\"Test set score: {:.3f}\".format(logreg.score(X_test, y_test)))\n",
        "\n",
        "\n",
        "# Perform cross-validation and print mean accuracy\n",
        "scores = cross_val_score(logreg, X, y, cv=5)  # cv=5 for 5-fold cross-validation\n",
        "print(\"Mean cross-validation accuracy: {:.3f}\".format(scores.mean()))"
      ],
      "metadata": {
        "colab": {
          "base_uri": "https://localhost:8080/"
        },
        "id": "A8w1zL7OkRr_",
        "outputId": "4569962c-36cc-468f-ec54-a3ff69809bd4"
      },
      "execution_count": null,
      "outputs": [
        {
          "output_type": "stream",
          "name": "stdout",
          "text": [
            "Training set score: 0.994\n",
            "Test set score: 0.994\n",
            "Mean cross-validation accuracy: 0.988\n"
          ]
        }
      ]
    },
    {
      "cell_type": "markdown",
      "source": [
        "### **L2 Logistic Regression**\n"
      ],
      "metadata": {
        "id": "BDsfJG64kdP4"
      }
    },
    {
      "cell_type": "code",
      "source": [
        "# C=100, compare coefs to regular model above.\n",
        "logreg = LogisticRegression(C=100, penalty='l2',solver='saga',max_iter=100000).fit(X_train, y_train)\n",
        "\n",
        "print(\"Training set score: {:.3f}\".format(logreg.score(X_train, y_train)))\n",
        "print(\"Test set score: {:.3f}\".format(logreg.score(X_test, y_test)))\n",
        "\n",
        "# Initialize the Logistic Regression model with L2 penalty\n",
        "logreg = LogisticRegression(C=100, penalty='l2', max_iter=10000,solver='saga')\n",
        "# Perform cross-validation and calculate the mean accuracy\n",
        "scores = cross_val_score(logreg, X, y, cv=5)  # Using 5-fold cross-validation\n",
        "# Print the mean accuracy from cross-validation\n",
        "print(\"Mean cross-validation accuracy: {:.3f}\".format(scores.mean()))\n"
      ],
      "metadata": {
        "colab": {
          "base_uri": "https://localhost:8080/"
        },
        "id": "ds4QtrWWnbVJ",
        "outputId": "c59853b5-d501-4893-9b06-c8314e0ae923"
      },
      "execution_count": null,
      "outputs": [
        {
          "output_type": "stream",
          "name": "stdout",
          "text": [
            "Training set score: 0.965\n",
            "Test set score: 0.964\n",
            "Mean cross-validation accuracy: 0.965\n"
          ]
        }
      ]
    },
    {
      "cell_type": "markdown",
      "source": [
        "### **L1 Logistic regression**"
      ],
      "metadata": {
        "id": "lJX6za6jaVhT"
      }
    },
    {
      "cell_type": "code",
      "source": [
        "# C=100, compare coefs to regular model above.\n",
        "logreg = LogisticRegression(C=100, penalty='l1',solver='saga',max_iter=100000).fit(X_train, y_train)\n",
        "\n",
        "print(\"Training set score: {:.3f}\".format(logreg.score(X_train, y_train)))\n",
        "print(\"Test set score: {:.3f}\".format(logreg.score(X_test, y_test)))\n",
        "\n",
        "# Initialize the Logistic Regression model with L2 penalty\n",
        "logreg = LogisticRegression(C=100, penalty='l1', max_iter=10000,solver='saga')\n",
        "# Perform cross-validation and calculate the mean accuracy\n",
        "scores = cross_val_score(logreg, X, y, cv=5)  # Using 5-fold cross-validation\n",
        "# Print the mean accuracy from cross-validation\n",
        "print(\"Mean cross-validation accuracy: {:.3f}\".format(scores.mean()))\n"
      ],
      "metadata": {
        "colab": {
          "base_uri": "https://localhost:8080/"
        },
        "id": "B9gtcNcM1v7Q",
        "outputId": "72ddb1c5-c5d0-4e1b-931e-24d3c8db071e"
      },
      "execution_count": null,
      "outputs": [
        {
          "output_type": "stream",
          "name": "stdout",
          "text": [
            "Training set score: 0.965\n",
            "Test set score: 0.964\n",
            "Mean cross-validation accuracy: 0.965\n"
          ]
        }
      ]
    },
    {
      "cell_type": "markdown",
      "source": [
        "### **KNN**\n"
      ],
      "metadata": {
        "id": "M9nOSPRqG7ZZ"
      }
    },
    {
      "cell_type": "code",
      "source": [
        "# Initialize the KNN classifier\n",
        "knn = KNeighborsClassifier(n_neighbors=5)\n",
        "# Perform cross-validation\n",
        "# cv specifies the number of folds; 5 is a common choice\n",
        "scores = cross_val_score(knn, X, y, cv=5)\n",
        "# Print the mean accuracy across all folds\n",
        "print(\"Mean cross-validation accuracy: {:.2f}\".format(scores.mean()))\n",
        "knn.fit(X_train,y_train)\n",
        "print(\"Test set score: {:.3f}\".format(knn.score(X_test, y_test)))\n"
      ],
      "metadata": {
        "colab": {
          "base_uri": "https://localhost:8080/"
        },
        "id": "9TC-krDFt0mt",
        "outputId": "ca91fc3e-b8d7-4394-a81d-68504f11fc56"
      },
      "execution_count": null,
      "outputs": [
        {
          "output_type": "stream",
          "name": "stdout",
          "text": [
            "Mean cross-validation accuracy: 0.94\n",
            "Test set score: 0.936\n"
          ]
        }
      ]
    },
    {
      "cell_type": "markdown",
      "source": [
        "\n",
        "## **How different are the results?**\n",
        "\n",
        "\n",
        "Except for KNN, the results for evaluating Logistic and Penalized Logistic Model using cross validation is not that different. Logistic regression models are slightly better when looking at accuracy\n"
      ],
      "metadata": {
        "id": "W5S9gbKkxNSf"
      }
    },
    {
      "cell_type": "markdown",
      "source": [
        "\n",
        "## **How does scaling the data with StandardScaler influence the results?**\n"
      ],
      "metadata": {
        "id": "QZ_qTbcw271I"
      }
    },
    {
      "cell_type": "code",
      "source": [
        "# Select only the float variables\n",
        "float_cols = wines.select_dtypes(include=['float']).columns\n",
        "\n",
        "# Create a copy of the DataFrame to store the scaled values\n",
        "wines_scaled = wines.copy()\n",
        "\n",
        "# Scale the float variables\n",
        "scaler = StandardScaler()\n",
        "wines_scaled[float_cols] = scaler.fit_transform(wines[float_cols])\n",
        "\n",
        "# Change variable names to X, y to create train/test split\n",
        "y_scaled = wines_scaled['winetype']\n",
        "# extract target variable from \"wines\" datagrame and assigns it to \"y\"\n",
        "\n",
        "X_scaled = wines_scaled.loc[:, wines_scaled.columns != 'winetype']\n",
        "\n",
        "# Assuming X and y are your features and target variable\n",
        "X_train_scaled, X_test_scaled, y_train_scaled, y_test_scaled = train_test_split(X_scaled, y_scaled, random_state=42)\n"
      ],
      "metadata": {
        "id": "qDZNpOhI3bjS"
      },
      "execution_count": null,
      "outputs": []
    },
    {
      "cell_type": "markdown",
      "source": [
        "\n",
        "### **Standard Scaler on KNN model**\n"
      ],
      "metadata": {
        "id": "4cTgdsfy4wbu"
      }
    },
    {
      "cell_type": "code",
      "source": [
        "# Initialize the KNN classifier\n",
        "knn = KNeighborsClassifier(n_neighbors=5)\n",
        "# Perform cross-validation\n",
        "# cv specifies the number of folds; 5 is a common choice\n",
        "scores = cross_val_score(knn, X_scaled, y_scaled, cv=5)\n",
        "# Print the mean accuracy across all folds\n",
        "print(\"Mean cross-validation accuracy: {:.2f}\".format(scores.mean()))\n",
        "knn.fit(X_train,y_train)\n",
        "print(\"Test set score: {:.3f}\".format(knn.score(X_test_scaled, y_test_scaled)))\n"
      ],
      "metadata": {
        "colab": {
          "base_uri": "https://localhost:8080/"
        },
        "id": "1gT3BDPn41ml",
        "outputId": "483a6028-c115-49a7-da30-8a07ae33fe7f"
      },
      "execution_count": null,
      "outputs": [
        {
          "output_type": "stream",
          "name": "stdout",
          "text": [
            "Mean cross-validation accuracy: 0.99\n",
            "Test set score: 0.991\n"
          ]
        }
      ]
    },
    {
      "cell_type": "markdown",
      "source": [
        "\n",
        "### **Standard Scaler on Logistic Regression model**\n"
      ],
      "metadata": {
        "id": "GQ8Mh1WG6ODl"
      }
    },
    {
      "cell_type": "code",
      "source": [
        "# Set penalty to none since we are starting with non penalized logit, L1 and L2 are other options\n",
        "logreg = LogisticRegression(penalty='none',max_iter=10000).fit(X_train_scaled, y_train_scaled)\n",
        "print(\"Training set score: {:.3f}\".format(logreg.score(X_train_scaled, y_train_scaled)))\n",
        "print(\"Test set score: {:.3f}\".format(logreg.score(X_test_scaled, y_test_scaled)))\n",
        "coefs = logreg.coef_\n",
        "\n",
        "\n",
        "# Perform cross-validation and print mean accuracy\n",
        "scores = cross_val_score(logreg, X_scaled, y_scaled, cv=5)  # cv=5 for 5-fold cross-validation\n",
        "print(\"Mean cross-validation accuracy: {:.3f}\".format(scores.mean()))\n"
      ],
      "metadata": {
        "colab": {
          "base_uri": "https://localhost:8080/"
        },
        "id": "4tuwHJsA6X5h",
        "outputId": "f5d4f05a-b69a-4420-e0cf-d009a90a5dde"
      },
      "execution_count": null,
      "outputs": [
        {
          "output_type": "stream",
          "name": "stdout",
          "text": [
            "Training set score: 0.994\n",
            "Test set score: 0.993\n",
            "Mean cross-validation accuracy: 0.993\n"
          ]
        }
      ]
    },
    {
      "cell_type": "markdown",
      "source": [
        "\n",
        "### **Standard Scaler on Penalized (L2) Logistic Regression model**\n"
      ],
      "metadata": {
        "id": "7dFqK9NC7DgG"
      }
    },
    {
      "cell_type": "code",
      "source": [
        "# Set penalty to none since we are starting with non penalized logit, L1 and L2 are other options\n",
        "logreg = LogisticRegression(penalty='l2',max_iter=10000,solver='saga').fit(X_train_scaled, y_train_scaled)\n",
        "print(\"Training set score: {:.3f}\".format(logreg.score(X_train_scaled, y_train_scaled)))\n",
        "print(\"Test set score: {:.3f}\".format(logreg.score(X_test_scaled, y_test_scaled)))\n",
        "\n",
        "\n",
        "# Perform cross-validation and print mean accuracy\n",
        "scores = cross_val_score(logreg, X_scaled, y_scaled, cv=5)  # cv=5 for 5-fold cross-validation\n",
        "print(\"Mean cross-validation accuracy: {:.3f}\".format(scores.mean()))"
      ],
      "metadata": {
        "colab": {
          "base_uri": "https://localhost:8080/"
        },
        "id": "QBwzqj6E7G7L",
        "outputId": "8d3d3adb-707a-4492-cb35-f240fed56d69"
      },
      "execution_count": null,
      "outputs": [
        {
          "output_type": "stream",
          "name": "stdout",
          "text": [
            "Training set score: 0.994\n",
            "Test set score: 0.991\n",
            "Mean cross-validation accuracy: 0.993\n"
          ]
        }
      ]
    },
    {
      "cell_type": "markdown",
      "source": [
        "\n",
        "### **Standard Scaler on Penalized (L1) Logistic Regression model**"
      ],
      "metadata": {
        "id": "Mt4URPW_eqrl"
      }
    },
    {
      "cell_type": "code",
      "source": [
        "# Set penalty to none since we are starting with non penalized logit, L1 and L2 are other options\n",
        "logreg = LogisticRegression(penalty='l1',max_iter=10000,solver='saga').fit(X_train_scaled, y_train_scaled)\n",
        "print(\"Training set score: {:.3f}\".format(logreg.score(X_train_scaled, y_train_scaled)))\n",
        "print(\"Test set score: {:.3f}\".format(logreg.score(X_test_scaled, y_test_scaled)))\n",
        "\n",
        "\n",
        "# Perform cross-validation and print mean accuracy\n",
        "scores = cross_val_score(logreg, X_scaled, y_scaled, cv=5)  # cv=5 for 5-fold cross-validation\n",
        "print(\"Mean cross-validation accuracy: {:.3f}\".format(scores.mean()))"
      ],
      "metadata": {
        "colab": {
          "base_uri": "https://localhost:8080/"
        },
        "id": "sqB61I7NfD1C",
        "outputId": "6088cb25-5a97-4bff-d7f4-2d3c7617455a"
      },
      "execution_count": null,
      "outputs": [
        {
          "output_type": "stream",
          "name": "stdout",
          "text": [
            "Training set score: 0.994\n",
            "Test set score: 0.993\n",
            "Mean cross-validation accuracy: 0.993\n"
          ]
        }
      ]
    },
    {
      "cell_type": "markdown",
      "source": [
        "### **How does scaling the data with StandardScaler influence the results?**\n",
        "\n",
        "\n",
        "\n",
        "Scaling data improves the results across all the 3 models, and especially KNN because it is very sensitive to scaling\n",
        "\n"
      ],
      "metadata": {
        "id": "G5Op5NFL8MY2"
      }
    },
    {
      "cell_type": "markdown",
      "source": [
        "# **Question 5: Tune the parameters where possible using GridSearchCV**"
      ],
      "metadata": {
        "id": "bEW1U_V3uRpO"
      }
    },
    {
      "cell_type": "markdown",
      "source": [
        "## **KNN**"
      ],
      "metadata": {
        "id": "keswjePjfPw-"
      }
    },
    {
      "cell_type": "code",
      "source": [
        "param_grid = {'n_neighbors': [1,2,3,4,5,6,7,8,9,10,15,20,30]} #np.arange creates sequence of numbers for each k value\n",
        "\n",
        "grid = GridSearchCV(KNeighborsClassifier(), param_grid=param_grid, cv=10)\n",
        "\n",
        "#use model methods to fit score and predict model:\n",
        "grid.fit(X_train_scaled, y_train_scaled)\n",
        "\n",
        "#extract best score and parameter by calling objects \"best_score_\" and \"best_params_\"\n",
        "print(\"best mean cross-validation score: {:.3f}\".format(grid.best_score_))\n",
        "print(\"best parameters: {}\".format(grid.best_params_))\n",
        "print(\"test-set score: {:.3f}\".format(grid.score(X_test_scaled, y_test_scaled)))"
      ],
      "metadata": {
        "colab": {
          "base_uri": "https://localhost:8080/"
        },
        "id": "GjIc8ElQuS9M",
        "outputId": "5825a96d-9fd7-47f7-9225-e61fe34e0cb7"
      },
      "execution_count": null,
      "outputs": [
        {
          "output_type": "stream",
          "name": "stdout",
          "text": [
            "best mean cross-validation score: 0.995\n",
            "best parameters: {'n_neighbors': 2}\n",
            "test-set score: 0.991\n"
          ]
        }
      ]
    },
    {
      "cell_type": "markdown",
      "source": [
        "\n",
        "## **L1 Logistic Regression**"
      ],
      "metadata": {
        "id": "suffQmMhu3Cm"
      }
    },
    {
      "cell_type": "code",
      "source": [
        "# Define the parameter grid. Here, we are tuning 'C' (regularization strength) and 'penalty' (type of regularization)\n",
        "param_grid = {\n",
        "    'C': np.logspace(-3, 3, 20),  # Creates 20 values between 10^-4 and 10^4\n",
        "}\n",
        "\n",
        "# Initialize GridSearchCV with the pipeline and parameter grid, using 10-fold cross-validation\n",
        "grid = GridSearchCV(LogisticRegression(penalty='l1',solver='saga',max_iter=10000), param_grid=param_grid, cv=5, scoring='accuracy')\n",
        "\n",
        "# Fit GridSearchCV to the training data\n",
        "grid.fit(X_train_scaled, y_train_scaled)\n",
        "best_l1 = grid.best_estimator_\n",
        "\n",
        "# Extract and print the best parameters and the best cross-validation score\n",
        "print(\"Best mean cross-validation score: {:.3f}\".format(grid.best_score_))\n",
        "print(\"Best parameters: {}\".format(grid.best_params_))\n",
        "\n",
        "# Evaluate and print the score of the best model on the test set\n",
        "print(\"Test-set score: {:.3f}\".format(grid.score(X_test_scaled, y_test_scaled)))"
      ],
      "metadata": {
        "colab": {
          "base_uri": "https://localhost:8080/"
        },
        "id": "vf-UgZsP-Ql3",
        "outputId": "5d2a8fe6-e00d-4fad-d494-492622088538"
      },
      "execution_count": null,
      "outputs": [
        {
          "output_type": "stream",
          "name": "stdout",
          "text": [
            "Best mean cross-validation score: 0.994\n",
            "Best parameters: {'C': 1.438449888287663}\n",
            "Test-set score: 0.993\n"
          ]
        }
      ]
    },
    {
      "cell_type": "markdown",
      "source": [
        "\n",
        "## **L2 Logistic Regression**"
      ],
      "metadata": {
        "id": "3eZ6dVdo-4Vl"
      }
    },
    {
      "cell_type": "code",
      "source": [
        "# Define the parameter grid. Here, we are tuning 'C' (regularization strength) and 'penalty' (type of regularization)\n",
        "param_grid = {\n",
        "    'C': np.logspace(-4, 4, 20),  # Creates 20 values between 10^-4 and 10^4\n",
        "}\n",
        "\n",
        "# Initialize GridSearchCV with the pipeline and parameter grid, using 10-fold cross-validation\n",
        "grid = GridSearchCV(LogisticRegression(penalty='l2',solver='saga',max_iter=10000), param_grid=param_grid, cv=10, scoring='accuracy')\n",
        "\n",
        "# Fit GridSearchCV to the training data\n",
        "grid.fit(X_train_scaled, y_train_scaled)\n",
        "best_l2 = grid.best_estimator_\n",
        "\n",
        "# Extract and print the best parameters and the best cross-validation score\n",
        "print(\"Best mean cross-validation score: {:.3f}\".format(grid.best_score_))\n",
        "print(\"Best parameters: {}\".format(grid.best_params_))\n",
        "\n",
        "# Evaluate and print the score of the best model on the test set\n",
        "print(\"Test-set score: {:.3f}\".format(grid.score(X_test_scaled, y_test_scaled)))"
      ],
      "metadata": {
        "colab": {
          "base_uri": "https://localhost:8080/"
        },
        "id": "fSQ5Pwoh--jC",
        "outputId": "66fb3470-d56a-4ea5-b0d8-626975065c52"
      },
      "execution_count": null,
      "outputs": [
        {
          "output_type": "stream",
          "name": "stdout",
          "text": [
            "Best mean cross-validation score: 0.994\n",
            "Best parameters: {'C': 4.281332398719396}\n",
            "Test-set score: 0.993\n"
          ]
        }
      ]
    },
    {
      "cell_type": "markdown",
      "source": [
        "# **Question 6: Compare the coefficients for Logistic Regression and Penalized Logistic Regression. Do they agree on which features are important?**\n",
        "\n",
        "\n",
        "\n"
      ],
      "metadata": {
        "id": "45hBnWUsu5Oe"
      }
    },
    {
      "cell_type": "code",
      "source": [
        "# Coefficients comparison\n",
        "features = X_train.columns\n",
        "\n",
        "coefs_df = pd.DataFrame(index=features)\n",
        "coefs_df['Logistic'] = coefs.reshape(-1,)\n",
        "coefs_df['Ridge'] = best_l2.coef_.reshape(-1,)\n",
        "coefs_df['Lasso'] = best_l1.coef_.reshape(-1,)\n",
        "coefs_df.plot(kind='bar')"
      ],
      "metadata": {
        "colab": {
          "base_uri": "https://localhost:8080/",
          "height": 563
        },
        "id": "BqaSa3RcgU03",
        "outputId": "0bf1e504-5698-49fb-f675-86632249c03d"
      },
      "execution_count": null,
      "outputs": [
        {
          "output_type": "execute_result",
          "data": {
            "text/plain": [
              "<Axes: >"
            ]
          },
          "metadata": {},
          "execution_count": 88
        },
        {
          "output_type": "display_data",
          "data": {
            "text/plain": [
              "<Figure size 640x480 with 1 Axes>"
            ],
            "image/png": "[encoded data removed]"
          },
          "metadata": {}
        }
      ]
    },
    {
      "cell_type": "markdown",
      "source": [
        "- All three logistic models agree on feature importance essentially\n",
        "- The most important features are density, residual sugar and total sulfur dioxide\n"
      ],
      "metadata": {
        "id": "gqVJeYpskF0H"
      }
    },
    {
      "cell_type": "markdown",
      "source": [
        "# **Question 7: Discuss which final model you would choose to predict new data.**\n"
      ],
      "metadata": {
        "id": "4KMMHKCRvgBd"
      }
    },
    {
      "cell_type": "markdown",
      "source": [
        "Based on both test accurayc and corss-val accuracy, all logistic regression models are performing equally well. KNN is slightly below, but givne its non-parametric specification, I would recommend KNN\n",
        "\n"
      ],
      "metadata": {
        "id": "rg0RdNbGkbyk"
      }
    }
  ]
}