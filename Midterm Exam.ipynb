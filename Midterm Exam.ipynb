{
  "nbformat": 4,
  "nbformat_minor": 0,
  "metadata": {
    "colab": {
      "provenance": []
    },
    "kernelspec": {
      "name": "python3",
      "display_name": "Python 3"
    },
    "language_info": {
      "name": "python"
    }
  },
  "cells": [
    {
      "cell_type": "markdown",
      "source": [
        "# **Question 1: Import the spam dataset and print the first six rows.**\n"
      ],
      "metadata": {
        "id": "t9E98Bh3YY4z"
      }
    },
    {
      "cell_type": "code",
      "source": [
        "import pandas as pd\n",
        "import numpy as np\n",
        "import matplotlib.pyplot as plt\n",
        "import seaborn as sns\n",
        "from sklearn.neighbors import KNeighborsRegressor\n",
        "from sklearn.neighbors import KNeighborsClassifier\n",
        "from sklearn.model_selection import train_test_split\n",
        "from sklearn.linear_model import LinearRegression, Ridge, Lasso\n",
        "from sklearn.model_selection import cross_val_score, GridSearchCV\n",
        "from sklearn.metrics import r2_score, mean_squared_error\n",
        "from sklearn.preprocessing import StandardScaler\n",
        "from sklearn.metrics import classification_report, confusion_matrix\n",
        "from sklearn.linear_model import LogisticRegression\n",
        "\n",
        "from sklearn.svm import SVC\n",
        "from sklearn.metrics import classification_report, confusion_matrix\n",
        "from sklearn.model_selection import cross_val_score\n",
        "\n",
        "from sklearn.tree import DecisionTreeClassifier\n",
        "from sklearn.metrics import classification_report, confusion_matrix\n"
      ],
      "metadata": {
        "id": "sT2B4FTCMmCa"
      },
      "execution_count": 1,
      "outputs": []
    },
    {
      "cell_type": "code",
      "source": [
        "\n",
        "# Path to the 'spambase.names.txt' file in Colab environment\n",
        "names_file_path = 'spambase.names.txt'\n",
        "\n",
        "# Initialize a list to store the column names\n",
        "column_names = []\n",
        "\n",
        "# Open and parse the names file to extract column names\n",
        "with open(names_file_path, 'r') as file:\n",
        "    for line in file:\n",
        "        # Exclude comments and empty lines\n",
        "        if not line.startswith('|') and line.strip():\n",
        "            # The column name is the first word before the colon\n",
        "            column_name = line.split(':')[0]\n",
        "            column_names.append(column_name)\n",
        "\n",
        "# The dataset URL\n",
        "data_url = 'http://archive.ics.uci.edu/ml/machine-learning-databases/spambase/spambase.data'\n",
        "\n",
        "# Load the dataset with the appropriate column names\n",
        "df = pd.read_csv(data_url, names=column_names)\n",
        "\n",
        "# Display the first six rows of the dataset\n",
        "print(df.head(6))\n"
      ],
      "metadata": {
        "colab": {
          "base_uri": "https://localhost:8080/"
        },
        "id": "7tiVV9Lasvh_",
        "outputId": "749e40fd-c760-4816-a0d7-df42f607381f"
      },
      "execution_count": 6,
      "outputs": [
        {
          "output_type": "stream",
          "name": "stdout",
          "text": [
            "   1, 0.    | spam, non-spam classes\\n  word_freq_make  word_freq_address  \\\n",
            "0                                 0.00            0.64               0.64   \n",
            "1                                 0.21            0.28               0.50   \n",
            "2                                 0.06            0.00               0.71   \n",
            "3                                 0.00            0.00               0.00   \n",
            "4                                 0.00            0.00               0.00   \n",
            "5                                 0.00            0.00               0.00   \n",
            "\n",
            "   word_freq_all  word_freq_3d  word_freq_our  word_freq_over  \\\n",
            "0            0.0          0.32           0.00            0.00   \n",
            "1            0.0          0.14           0.28            0.21   \n",
            "2            0.0          1.23           0.19            0.19   \n",
            "3            0.0          0.63           0.00            0.31   \n",
            "4            0.0          0.63           0.00            0.31   \n",
            "5            0.0          1.85           0.00            0.00   \n",
            "\n",
            "   word_freq_remove  word_freq_internet  word_freq_order  ...  \\\n",
            "0              0.00                0.00             0.00  ...   \n",
            "1              0.07                0.00             0.94  ...   \n",
            "2              0.12                0.64             0.25  ...   \n",
            "3              0.63                0.31             0.63  ...   \n",
            "4              0.63                0.31             0.63  ...   \n",
            "5              1.85                0.00             0.00  ...   \n",
            "\n",
            "   word_freq_conference  char_freq_;  char_freq_(  char_freq_[  char_freq_!  \\\n",
            "0                  0.00        0.000          0.0        0.778        0.000   \n",
            "1                  0.00        0.132          0.0        0.372        0.180   \n",
            "2                  0.01        0.143          0.0        0.276        0.184   \n",
            "3                  0.00        0.137          0.0        0.137        0.000   \n",
            "4                  0.00        0.135          0.0        0.135        0.000   \n",
            "5                  0.00        0.223          0.0        0.000        0.000   \n",
            "\n",
            "   char_freq_$  char_freq_#  capital_run_length_average  \\\n",
            "0        0.000        3.756                          61   \n",
            "1        0.048        5.114                         101   \n",
            "2        0.010        9.821                         485   \n",
            "3        0.000        3.537                          40   \n",
            "4        0.000        3.537                          40   \n",
            "5        0.000        3.000                          15   \n",
            "\n",
            "   capital_run_length_longest  capital_run_length_total  \n",
            "0                         278                         1  \n",
            "1                        1028                         1  \n",
            "2                        2259                         1  \n",
            "3                         191                         1  \n",
            "4                         191                         1  \n",
            "5                          54                         1  \n",
            "\n",
            "[6 rows x 58 columns]\n"
          ]
        }
      ]
    },
    {
      "cell_type": "markdown",
      "source": [
        "# **Question 3: The dependent variable is \"spam\" where one indicates that an email is spam and zero otherwise.  Which three variables in the dataset do you think will be important predictors in a model of spam?  Why?**"
      ],
      "metadata": {
        "id": "tMoCh7g0eb3L"
      }
    },
    {
      "cell_type": "markdown",
      "source": [
        "dependent variable: \"spam\":\n",
        "*   1 = spam\n",
        "*   0 = not spam\n",
        "\n",
        "3 independent variables in dataset i think will be important predictors in a model of spam:\n",
        "\n",
        "1. **capital_run_length_average (average length of uninterrupted sequences of capital letters):**\n",
        "usually spam emails have a lot of capital letters in order to grab\n",
        "\n",
        "2. **word_freq_mail**\n",
        "the frequency of the word \"mail\" could be higher in spam emails as they may more frequently refer to email activities or try to legitimize themselves by sounding more email-related. \"check your mail\"/\"receive your mail\"\n",
        "\n",
        "3. **char_freq_!**\n",
        "i'm assuming that this is the frequency of '!'  Spam emails often contain lots of exclamation mark due to marketing and promotional content to create urgency or excitement"
      ],
      "metadata": {
        "id": "eBkCKjwiWDLz"
      }
    },
    {
      "cell_type": "markdown",
      "source": [
        "# **Question 4: Visualize the univariate distribution of each of the variables in the previous question.**"
      ],
      "metadata": {
        "id": "JPHAxRA-e0fW"
      }
    },
    {
      "cell_type": "code",
      "source": [
        "# Setting the aesthetics for the plots\n",
        "sns.set(style=\"whitegrid\")\n",
        "\n",
        "# Creating a figure to hold the subplots\n",
        "plt.figure(figsize=(15, 5))\n",
        "\n",
        "# Plotting capital_run_length_average\n",
        "plt.subplot(1, 3, 1)  # 1 row, 3 cols, subplot 1\n",
        "sns.histplot(df['capital_run_length_average'], bins=30, kde=True)\n",
        "plt.title('Distribution of capital_run_length_average')\n",
        "plt.xlabel('Average Length of Uninterrupted Capital Letters')\n",
        "plt.ylabel('Frequency')\n",
        "\n",
        "# Plotting word_freq_mail\n",
        "plt.subplot(1, 3, 2)  # 1 row, 3 cols, subplot 2\n",
        "sns.histplot(df['word_freq_mail'], bins=30, kde=True)\n",
        "plt.title('Distribution of word_freq_mail')\n",
        "plt.xlabel('Frequency of Word \"mail\"')\n",
        "plt.ylabel('Frequency')\n",
        "\n",
        "# Plotting char_freq_!\n",
        "plt.subplot(1, 3, 3)  # 1 row, 3 cols, subplot 3\n",
        "sns.histplot(df['char_freq_!'], bins=30, kde=True)\n",
        "plt.title('Distribution of char_freq_!')\n",
        "plt.xlabel('Frequency of Character \"!\"')\n",
        "plt.ylabel('Frequency')\n",
        "\n",
        "# Adjusting layout for better readability and displaying the plots\n",
        "plt.tight_layout()\n",
        "plt.show()\n"
      ],
      "metadata": {
        "colab": {
          "base_uri": "https://localhost:8080/",
          "height": 499
        },
        "id": "bvnVZJIPnJP5",
        "outputId": "612f6a1c-4850-40ff-af70-08cf65ccaa28"
      },
      "execution_count": 10,
      "outputs": [
        {
          "output_type": "display_data",
          "data": {
            "text/plain": [
              "<Figure size 1500x500 with 3 Axes>"
            ],
            "image/png": "[encoded data removed]"
          },
          "metadata": {}
        }
      ]
    },
    {
      "cell_type": "markdown",
      "source": [
        "# **Question 5: Name each of the supervised learning models that we have learned thus far that are used to predict dependent variables like \"spam\".**"
      ],
      "metadata": {
        "id": "VxEJWQfxyuB0"
      }
    },
    {
      "cell_type": "markdown",
      "source": [
        "1. Linear Regression\n",
        "2. Logistic Regression\n",
        "3. Support Vector Machines\n",
        "4. Decision Trees\n",
        "5. KNN"
      ],
      "metadata": {
        "id": "F7iqbX64d8sJ"
      }
    },
    {
      "cell_type": "markdown",
      "source": [
        "# **Question 6: Describe the importance of training and testing data**\n",
        "\n",
        "1. **Model Evaluation**: To evaluate the performance of a model on unseen data. While training data is used to fit model, test data is for new data\n",
        "2. **Overfitting Prevention**: Using separate test data can ensure that the model's performance assessment reflects its ability to generalize unseen data, and not just memorize the training set\n",
        "3. **Model Tuning and Selection**: Training and test enables comparison among different models and hyperparameters."
      ],
      "metadata": {
        "id": "K7nQJoj3ei8p"
      }
    },
    {
      "cell_type": "markdown",
      "source": [
        "# **Question 7: What is k-fold cross validation and what do we use it for?**\n",
        "\n",
        "cross-validation is a technique to assess the generalizability of a ML model, ensuring the evaluation isn't just a result of lucky data splitting. In k-fold cross validation, data is divided into k subsets. The model is trained and evaluated k times, using each subset once as a test set and the remaining as a training set. This approach, particularly useful when data is scarce, offers a robust estimate of the model's performance on unseen data by averaging the results from all k iterations.\n",
        "this method reduces bias compared to a single train/test split, ensuring the performance reflects the model's ability of one data split. The method evaluates the model's design across different subsets, not just one training instance."
      ],
      "metadata": {
        "id": "y4HoqiHWnT3P"
      }
    },
    {
      "cell_type": "markdown",
      "source": [
        "# **Question 8: How is k-fold cross validation different from stratified k-fold cross validation?**\n",
        "\n",
        "K-fold cross-validation and stratified k-fold cross-validation are both resampling techniques used to evaluate machine learning models, but they handle the distribution of data differently:\n",
        "\n",
        "**K-fold Cross-validation:** This method divides the dataset into k equally (or nearly equally) sized folds or subsets. In each of k iterations, a different fold is used as the validation set, and the remaining k-1 folds are used for training. However, the key point is that this method splits the data randomly without considering the output labels. This randomness can sometimes lead to uneven representation of different classes in each fold, especially in cases where the dataset is imbalanced.\n",
        "\n",
        "**Stratified K-fold Cross-validation:** This method also divides the data into k folds but does so in a way that maintains the same percentage of samples for each class as in the whole dataset in each fold. In other words, it stratifies the data before splitting into folds, ensuring that each fold is a good representative of the whole, especially in terms of the class distribution. This approach is particularly important for datasets with an imbalanced class distribution, as it ensures that each fold has a class distribution that mirrors that of the original dataset.\n",
        "\n",
        "In summary, while both methods aim to provide reliable evaluation metrics, stratified k-fold cross-validation is preferred when dealing with imbalanced datasets as it ensures each fold is an accurate reflection of the overall dataset's class distribution, leading to more reliable and robust evaluation metrics."
      ],
      "metadata": {
        "id": "y1DiAYDi3pov"
      }
    },
    {
      "cell_type": "markdown",
      "source": [
        "# **Question 9: Choose one model from question five.  Split the data into training and test subsets.  Build a model with the three variables in the dataset that you think will be good predictors of \"spam\".  Describe why you chose any particular parameters for your model (e.g.- if you used KNN how did you decide to choose a specific value for k).  Run the model and evaluate prediction error in two ways: A) On test data directly and B) using k-fold cross-validation.**\n",
        "\n",
        "I'm going to choose the Logistic Regresion model for this task because it is commonly used for binary classification problems like predicting if an email is a spam or not.\n",
        "The three variables we will use as predictors based on the previous discussion are:\n",
        "\n",
        "1. capital_run_length_average - average length of uninterrupted sequences of capital letters.\n",
        "2. word_freq_mail - frequency of the word \"mail\".\n",
        "3. char_freq_! - frequency of the exclamation mark."
      ],
      "metadata": {
        "id": "SznXnrQ_-B33"
      }
    },
    {
      "cell_type": "code",
      "source": [
        "print(df.columns)\n"
      ],
      "metadata": {
        "colab": {
          "base_uri": "https://localhost:8080/"
        },
        "id": "3mmYdXr_Yrjw",
        "outputId": "8633f964-ff76-4535-9b28-3a8fc628ac79"
      },
      "execution_count": 14,
      "outputs": [
        {
          "output_type": "stream",
          "name": "stdout",
          "text": [
            "Index(['1, 0.    | spam, non-spam classes\\n', 'word_freq_make',\n",
            "       'word_freq_address', 'word_freq_all', 'word_freq_3d', 'word_freq_our',\n",
            "       'word_freq_over', 'word_freq_remove', 'word_freq_internet',\n",
            "       'word_freq_order', 'word_freq_mail', 'word_freq_receive',\n",
            "       'word_freq_will', 'word_freq_people', 'word_freq_report',\n",
            "       'word_freq_addresses', 'word_freq_free', 'word_freq_business',\n",
            "       'word_freq_email', 'word_freq_you', 'word_freq_credit',\n",
            "       'word_freq_your', 'word_freq_font', 'word_freq_000', 'word_freq_money',\n",
            "       'word_freq_hp', 'word_freq_hpl', 'word_freq_george', 'word_freq_650',\n",
            "       'word_freq_lab', 'word_freq_labs', 'word_freq_telnet', 'word_freq_857',\n",
            "       'word_freq_data', 'word_freq_415', 'word_freq_85',\n",
            "       'word_freq_technology', 'word_freq_1999', 'word_freq_parts',\n",
            "       'word_freq_pm', 'word_freq_direct', 'word_freq_cs', 'word_freq_meeting',\n",
            "       'word_freq_original', 'word_freq_project', 'word_freq_re',\n",
            "       'word_freq_edu', 'word_freq_table', 'word_freq_conference',\n",
            "       'char_freq_;', 'char_freq_(', 'char_freq_[', 'char_freq_!',\n",
            "       'char_freq_$', 'char_freq_#', 'capital_run_length_average',\n",
            "       'capital_run_length_longest', 'capital_run_length_total'],\n",
            "      dtype='object')\n"
          ]
        }
      ]
    },
    {
      "cell_type": "code",
      "source": [
        "#                     DATA PREPERATION\n",
        "# Set 'y' to the last column of the DataFrame\n",
        "y = df.iloc[:, -1]  # This selects the last column\n",
        "\n",
        "# Dataset splitting and model as before\n",
        "X = df[['word_freq_mail', 'capital_run_length_average', 'char_freq_!']]\n",
        "X_train, X_test, y_train, y_test = train_test_split(X, y, test_size=0.2, random_state=42)\n",
        "\n"
      ],
      "metadata": {
        "id": "fs1ozYhvWqP5"
      },
      "execution_count": 8,
      "outputs": []
    },
    {
      "cell_type": "code",
      "source": [
        "#                   BUILDING THE LOGISTIC REGRESSION MODEL\n",
        "# Initialize the model\n",
        "model = LogisticRegression()\n",
        "\n",
        "# Train the model\n",
        "model.fit(X_train, y_train)\n",
        "\n",
        "#                Question 9A: EVALUATE PREDICTION ERROR ON TEST DATA\n",
        "\n",
        "# Predict on the test data\n",
        "y_pred = model.predict(X_test)\n",
        "\n",
        "# Evaluate the model\n",
        "y_pred = model.predict(X_test)\n",
        "print(classification_report(y_test, y_pred))\n",
        "print(\"Confusion Matrix:\\n\", confusion_matrix(y_test, y_pred))\n",
        "\n",
        "\n",
        "\n",
        "#                Question 9B: EVALUATE USING K-FOLD CROSS VALIDATION\n",
        "\n",
        "# Specify the model and number of folds\n",
        "k = 10  # You can choose k based on your dataset size and computation limitations\n",
        "model = LogisticRegression()\n",
        "\n",
        "# Perform k-fold cross-validation\n",
        "scores = cross_val_score(model, X, y, cv=k, scoring='accuracy')\n",
        "\n",
        "# Calculate and print the average accuracy\n",
        "print(f\"Average Accuracy: {scores.mean()}\")\n"
      ],
      "metadata": {
        "colab": {
          "base_uri": "https://localhost:8080/"
        },
        "id": "Nezy3xVwYiwJ",
        "outputId": "9a2e723e-e2f1-438c-e783-1e0463e4972d"
      },
      "execution_count": 9,
      "outputs": [
        {
          "output_type": "stream",
          "name": "stdout",
          "text": [
            "              precision    recall  f1-score   support\n",
            "\n",
            "           0       0.75      0.96      0.84       531\n",
            "           1       0.91      0.57      0.70       390\n",
            "\n",
            "    accuracy                           0.79       921\n",
            "   macro avg       0.83      0.77      0.77       921\n",
            "weighted avg       0.82      0.79      0.78       921\n",
            "\n",
            "Confusion Matrix:\n",
            " [[509  22]\n",
            " [167 223]]\n",
            "Average Accuracy: 0.8017919456757522\n"
          ]
        }
      ]
    },
    {
      "cell_type": "markdown",
      "source": [
        "# **Question 10: Choose a second model from question five.  Using the same three variables in the dataset that you think will be good predictors of \"spam\".  Describe why you chose any particular parameters for your model (e.g.- if you used KNN how did you decide to choose a specific value for k).  Run the model and evaluate prediction error in two ways: A) On test data directly and B) using k-fold cross-validation.  Did this model predict test data better than your previous model?**\n",
        "For my second model, I will choose KNN. KNN is also commonly used for classification problems, including binary, ie. predicting whether an email is a spam. The three variables we will continue to use as predictors are:\n",
        "\n",
        "1. capital_run_length_average\n",
        "2. word_freq_mail\n",
        "3. char_freq_!\n",
        "\n",
        "KNN is useful especially in cases where the relationship between features is not expected to be linear.\n",
        "The choice of k (the number of nearest neighbors) is crucial in KNN. Too small a value for k can lead to overfitting, where the model captures noise in the training data. Too large a value can lead to underfitting, where the model is too generalized. A common approach to choosing k is to try a range of values and select the one that performs best on validation data. For this example, without specific validation data, I  start with k=5, a common default choice, but ideally, I'd use cross-validation to choose k.\n"
      ],
      "metadata": {
        "id": "IiOy7tvXZkrA"
      }
    },
    {
      "cell_type": "code",
      "source": [
        "# Initialize the KNN model\n",
        "knn_model = KNeighborsClassifier(n_neighbors=5)\n",
        "\n",
        "# Train the model\n",
        "knn_model.fit(X_train, y_train)\n",
        "\n",
        "# Evaluate on test data\n",
        "y_pred_knn = knn_model.predict(X_test)\n",
        "print(\"KNN Classification Report on Test Data:\")\n",
        "print(classification_report(y_test, y_pred_knn))\n",
        "print(\"KNN Confusion Matrix on Test Data:\\n\", confusion_matrix(y_test, y_pred_knn))\n",
        "\n",
        "# Evaluate using k-fold cross-validation\n",
        "from sklearn.model_selection import cross_val_score\n",
        "k_fold = 10  # Number of folds\n",
        "knn_scores = cross_val_score(knn_model, X, y, cv=k_fold, scoring='accuracy')\n",
        "print(f\"KNN Average Accuracy using {k_fold}-Fold Cross-Validation: {knn_scores.mean()}\")\n"
      ],
      "metadata": {
        "colab": {
          "base_uri": "https://localhost:8080/"
        },
        "id": "R9t62iFyiKai",
        "outputId": "35cec1f4-5910-4319-bf73-4ece077787c8"
      },
      "execution_count": 10,
      "outputs": [
        {
          "output_type": "stream",
          "name": "stdout",
          "text": [
            "KNN Classification Report on Test Data:\n",
            "              precision    recall  f1-score   support\n",
            "\n",
            "           0       0.78      0.82      0.80       531\n",
            "           1       0.74      0.69      0.71       390\n",
            "\n",
            "    accuracy                           0.77       921\n",
            "   macro avg       0.76      0.76      0.76       921\n",
            "weighted avg       0.76      0.77      0.76       921\n",
            "\n",
            "KNN Confusion Matrix on Test Data:\n",
            " [[435  96]\n",
            " [120 270]]\n",
            "KNN Average Accuracy using 10-Fold Cross-Validation: 0.490551730642271\n"
          ]
        }
      ]
    },
    {
      "cell_type": "markdown",
      "source": [
        "Comparison between the Logistic Regression model and the KNN model:\n",
        "\n",
        "1. **Accuracy on Test Data**:\n",
        "   - Logistic Regression: 0.79\n",
        "   - KNN: 0.77\n",
        "\n",
        "   The Logistic Regression model has a slightly higher accuracy on the test data compared to the KNN model.\n",
        "\n",
        "2. **Precision, Recall, and F1-Score on Test Data** (for the spam class '1'):\n",
        "   - Logistic Regression: Precision = 0.91, Recall = 0.57, F1-Score = 0.70\n",
        "   - KNN: Precision = 0.74, Recall = 0.69, F1-Score = 0.71\n",
        "\n",
        "   While KNN has a slightly better recall and F1-score for the spam class, Logistic Regression significantly outperforms KNN in precision.\n",
        "\n",
        "3. **Confusion Matrix Analysis**:\n",
        "   - Logistic Regression resulted in fewer false negatives (167 vs. 120) but more false positives (22 vs. 96) compared to KNN. This is consistent with the higher precision but lower recall for the Logistic Regression model.\n",
        "\n",
        "4. **Cross-validation Average Accuracy**:\n",
        "   - Logistic Regression: 0.80\n",
        "   - KNN: 0.49\n",
        "\n",
        "   The average accuracy from cross-validation shows a significant advantage for the Logistic Regression model over the KNN model.\n",
        "\n",
        "Based on these metrics, the Logistic Regression model appears to be the better performer for this dataset and the chosen features, as it has higher test accuracy and much higher cross-validation accuracy. While KNN showed competitive precision, recall, and F1-scores, the overall evidence suggests that Logistic Regression is more robust and likely to generalize better based on the given data."
      ],
      "metadata": {
        "id": "mVefdozAi8bp"
      }
    },
    {
      "cell_type": "markdown",
      "source": [
        "# **Question 11: Choose a third model from question five.  Using the same three variables in the dataset that you think will be good predictors of \"spam\".  Describe why you chose any particular parameters for your model (e.g.- if you used KNN how did you decide to choose a specific value for k). Run the model and evaluate prediction error in two ways: A) On test data directly and B) using k-fold cross-validation.  Did this model predict test data better than your previous models?**\n",
        "\n",
        "**Why Choose These Parameters?**\n",
        "\n",
        "Using a linear kernel ('kernel = linear\") is a good starting point as it aims to find the optimal linear boundary. This is especially reasonable when the relationship might be linearly seperable or close to it\n",
        "\n",
        "No specific parameters (like C, the regularization parameter) were chosen explicitly here, implying usage of the default C=1.  \n",
        "\n",
        "Higher C values lead to less regularization (fitting the training data more closely) and lower values lead to more regularization (which can enhance generalization)."
      ],
      "metadata": {
        "id": "nQ5RezL-kHwr"
      }
    },
    {
      "cell_type": "code",
      "source": [
        "# Initialize the SVM model with a linear kernel\n",
        "svm_model = SVC(kernel='linear')\n",
        "\n",
        "# Train the SVM model\n",
        "svm_model.fit(X_train, y_train)\n",
        "\n",
        "# Predict on the test data\n",
        "y_pred_svm = svm_model.predict(X_test)\n",
        "\n",
        "# Evaluate the model on test data\n",
        "print(\"SVM Classification Report on Test Data:\")\n",
        "print(classification_report(y_test, y_pred_svm))\n",
        "print(\"SVM Confusion Matrix on Test Data:\\n\", confusion_matrix(y_test, y_pred_svm))\n",
        "\n",
        "# Evaluate the model using k-fold cross-validation\n",
        "k_fold = 10  # Number of folds\n",
        "svm_scores = cross_val_score(svm_model, X, y, cv=k_fold, scoring='accuracy')\n",
        "print(f\"SVM Average Accuracy using {k_fold}-Fold Cross-Validation: {svm_scores.mean()}\")\n"
      ],
      "metadata": {
        "colab": {
          "base_uri": "https://localhost:8080/"
        },
        "id": "HjupiNY7nZ3e",
        "outputId": "a00da261-a47e-40f6-9a69-d2b1e3ea27f6"
      },
      "execution_count": 26,
      "outputs": [
        {
          "output_type": "stream",
          "name": "stdout",
          "text": [
            "SVM Classification Report on Test Data:\n",
            "              precision    recall  f1-score   support\n",
            "\n",
            "           0       0.76      0.95      0.85       531\n",
            "           1       0.90      0.59      0.72       390\n",
            "\n",
            "    accuracy                           0.80       921\n",
            "   macro avg       0.83      0.77      0.78       921\n",
            "weighted avg       0.82      0.80      0.79       921\n",
            "\n",
            "SVM Confusion Matrix on Test Data:\n",
            " [[506  25]\n",
            " [159 231]]\n",
            "SVM Average Accuracy using 10-Fold Cross-Validation: 0.8093978119400169\n"
          ]
        }
      ]
    },
    {
      "cell_type": "markdown",
      "source": [
        "Evaluating if the SVM model predicted test data better than the previous models (Logistic Regression and KNN's).\n",
        "Now I compare their performance:\n",
        "\n",
        "1. **Logistic Regression**:\n",
        "   - Test accuracy: 0.79\n",
        "   - Precision for class 1: 0.91\n",
        "   - Recall for class 1: 0.57\n",
        "   - F1-score for class 1: 0.70\n",
        "   - Average Cross-Validation Accuracy: 0.8018\n",
        "\n",
        "2. **KNN**\n",
        "   -  Lower than SVM and Logistic Regression in accuracy and cross-validation metrics.\n",
        "\n",
        "3. **SVM**:\n",
        "   - Test accuracy: 0.80\n",
        "   - Precision for class 1: 0.90\n",
        "   - Recall for class 1: 0.59\n",
        "   - F1-score for class 1: 0.72\n",
        "   - Average Cross-Validation Accuracy: 0.8094\n",
        "\n",
        "Now, comparing these:\n",
        "\n",
        "- **Accuracy**: SVM shows a slight improvement in test accuracy over Logistic Regression (0.80 vs. 0.79).\n",
        "- **Precision/Recall/F1-score for Class 1**: SVM has a comparable precision to Logistic Regression for predicting spam but shows a slight improvement in recall and F1-score.\n",
        "- **Cross-Validation Accuracy**: SVM has a slightly higher average cross-validation accuracy compared to Logistic Regression (0.8094 vs. 0.8018).\n",
        "\n",
        "Given these observations, the SVM model appears to have a marginal edge over Logistic Regression in terms of overall test accuracy, recall, F1-score for classifying spam emails, and cross-validation accuracy. While both models perform similarly, the incremental gains with SVM suggest it may be slightly more effective at generalizing beyond the training data compared to the Logistic Regression model in this specific context. However, the differences are not substantial, indicating both models are reasonable choices for this task, with the final decision possibly hinging on other considerations like interpretability, computational resources, and model complexity."
      ],
      "metadata": {
        "id": "e7yZh30H7Gy3"
      }
    },
    {
      "cell_type": "markdown",
      "source": [
        "# **Question 12: Choose a fourth model from question five.  Using the same three variables in the dataset that you think will be good predictors of \"spam\".  Describe why you chose any particular parameters for your model (e.g.- if you used KNN how did you decide to choose a specific value for k). Run the model and evaluate prediction error in two ways: A) On test data directly and B) using k-fold cross-validation.  Did this model predict test data better than your previous models?**"
      ],
      "metadata": {
        "id": "H8GNEZNIoebv"
      }
    },
    {
      "cell_type": "code",
      "source": [
        "# Initialize the Decision Tree model\n",
        "tree = DecisionTreeClassifier(max_depth=None, criterion='gini', min_samples_leaf=1, random_state=42)\n",
        "\n",
        "# Train the model using the same predictors as before\n",
        "tree.fit(X_train, y_train)\n",
        "\n",
        "# Predict on the test data\n",
        "y_pred_tree = tree.predict(X_test)\n",
        "\n",
        "# Evaluate the model on test data\n",
        "print(\"Decision Tree Classification Report on Test Data:\")\n",
        "print(classification_report(y_test, y_pred_tree))\n",
        "print(\"Decision Tree Confusion Matrix on Test Data:\\n\", confusion_matrix(y_test, y_pred_tree))\n",
        "\n",
        "# Evaluate the model using k-fold cross-validation\n",
        "k_fold = 10\n",
        "tree_scores = cross_val_score(tree, X, y, cv=k_fold, scoring='accuracy')\n",
        "print(f\"Decision Tree Average Accuracy using {k_fold}-Fold Cross-Validation: {tree_scores.mean()}\")"
      ],
      "metadata": {
        "colab": {
          "base_uri": "https://localhost:8080/"
        },
        "id": "_P1nryks8z39",
        "outputId": "25bcaf16-106b-4280-b77e-ec1747569304"
      },
      "execution_count": 28,
      "outputs": [
        {
          "output_type": "stream",
          "name": "stdout",
          "text": [
            "Decision Tree Classification Report on Test Data:\n",
            "              precision    recall  f1-score   support\n",
            "\n",
            "           0       0.80      0.92      0.85       531\n",
            "           1       0.86      0.69      0.77       390\n",
            "\n",
            "    accuracy                           0.82       921\n",
            "   macro avg       0.83      0.80      0.81       921\n",
            "weighted avg       0.83      0.82      0.82       921\n",
            "\n",
            "Decision Tree Confusion Matrix on Test Data:\n",
            " [[486  45]\n",
            " [120 270]]\n",
            "Decision Tree Average Accuracy using 10-Fold Cross-Validation: 0.8165679524662831\n"
          ]
        }
      ]
    },
    {
      "cell_type": "markdown",
      "source": [
        "Results Comparison\n",
        "\n",
        "1. **Logistic Regression**:\n",
        "   - Test accuracy: 0.79\n",
        "   - Precision for class 1: 0.91\n",
        "   - Recall for class 1: 0.57\n",
        "   - F1-score for class 1: 0.70\n",
        "   - Cross-Validation Accuracy: 0.8018\n",
        "\n",
        "2. **KNN** (not explicitly listed in comparison, presumed lower performance):\n",
        "\n",
        "3. **SVM**:\n",
        "   - Test accuracy: 0.80\n",
        "   - Precision for class 1: 0.90\n",
        "   - Recall for class 1: 0.59\n",
        "   - F1-score for class 1: 0.72\n",
        "   - Cross-Validation Accuracy: 0.8094\n",
        "\n",
        "4. **Decision Tree**:\n",
        "   - Test accuracy: 0.82\n",
        "   - Precision for class 1: 0.86\n",
        "   - Recall for class 1: 0.69\n",
        "   - F1-score for class 1: 0.77\n",
        "   - Cross-Validation Accuracy: 0.8166\n",
        "\n",
        "Comparing these metrics:\n",
        "\n",
        "- The Decision Tree model has the highest test accuracy (0.82) among all models.\n",
        "- It shows substantial improvement in recall for class 1 (0.69) compared to both Logistic Regression (0.57) and SVM (0.59).\n",
        "- The Decision Tree model also demonstrates a higher F1-score for class 1 (0.77) than Logistic Regression (0.70) and SVM (0.72).\n",
        "- Moreover, it has the highest cross-validation accuracy (0.8166), suggesting good generalizability.\n",
        "\n",
        "Based on these points of comparison, the Decision Tree model did predict the test data better than the previous models. It offers a balanced trade-off between precision and recall, demonstrated by its F1-score, and shows superior performance in both direct test evaluation and cross-validation. Therefore, within this specific analysis and based on the chosen metrics, the Decision Tree model appears to be the most effective in predicting whether an email is spam."
      ],
      "metadata": {
        "id": "fY_h_5iY9kne"
      }
    },
    {
      "cell_type": "markdown",
      "source": [
        "# **Question 13: Now rerun your best model from questions 9 through 12, but this time add three new variables to the model that you think will increase prediction accuracy. Did this model predict test data better than your previous models?**\n",
        "\n",
        "**3 new variable:**\n",
        "\n",
        "1. word_freq_free: Often used in spam emails to attract attention.\n",
        "2. word_freq_money: Spam might frequently mention money to lure the reader.\n",
        "3. char_freq_$: Spam emails might use the dollar sign more frequently to discuss amounts of money.\n",
        "\n",
        "best model from the previous tasks was the Decision Tree Classifier."
      ],
      "metadata": {
        "id": "aT9o7Vda93i6"
      }
    },
    {
      "cell_type": "code",
      "source": [
        "# 'capital_run_length_average', 'word_freq_mail', 'char_freq_!' were the initial predictors\n",
        "# Adding 'word_freq_receive', 'word_freq_000', 'word_freq_money'\n",
        "X_new = df[['capital_run_length_average', 'word_freq_mail', 'char_freq_!',\n",
        "            'word_freq_receive', 'word_freq_000', 'word_freq_money']]\n",
        "y_new = df.iloc[:, -1]  # Target variable remains the same\n",
        "\n",
        "# Split the data into training and test sets\n",
        "X_train_new, X_test_new, y_train_new, y_test_new = train_test_split(X_new, y_new, test_size=0.2, random_state=42)\n",
        "\n",
        "# Initialize and train the Decision Tree model\n",
        "tree_new = DecisionTreeClassifier(random_state=42)\n",
        "tree_new.fit(X_train_new, y_train_new)\n",
        "\n",
        "# Evaluate on the test data\n",
        "y_pred_new = tree_new.predict(X_test_new)\n",
        "print(\"New Model Classification Report on Test Data:\")\n",
        "print(classification_report(y_test_new, y_pred_new))\n",
        "print(\"New Model Confusion Matrix on Test Data:\\n\", confusion_matrix(y_test_new, y_pred_new))\n",
        "\n",
        "# Evaluate using k-fold cross-validation\n",
        "k_fold_new = 10\n",
        "tree_new_scores = cross_val_score(tree_new, X_new, y_new, cv=k_fold_new, scoring='accuracy')\n",
        "print(f\"New Model Average Accuracy using {k_fold_new}-Fold Cross-Validation: {tree_new_scores.mean()}\")\n"
      ],
      "metadata": {
        "colab": {
          "base_uri": "https://localhost:8080/"
        },
        "id": "da5UxzGw-89u",
        "outputId": "39fec996-ff29-4c2f-9e39-dc8d32e99e3a"
      },
      "execution_count": 11,
      "outputs": [
        {
          "output_type": "stream",
          "name": "stdout",
          "text": [
            "New Model Classification Report on Test Data:\n",
            "              precision    recall  f1-score   support\n",
            "\n",
            "           0       0.86      0.92      0.89       531\n",
            "           1       0.87      0.79      0.83       390\n",
            "\n",
            "    accuracy                           0.86       921\n",
            "   macro avg       0.87      0.85      0.86       921\n",
            "weighted avg       0.86      0.86      0.86       921\n",
            "\n",
            "New Model Confusion Matrix on Test Data:\n",
            " [[486  45]\n",
            " [ 81 309]]\n",
            "New Model Average Accuracy using 10-Fold Cross-Validation: 0.8411227954352543\n"
          ]
        }
      ]
    },
    {
      "cell_type": "markdown",
      "source": [
        "Yes, based on the metrics  provided, this model did predict the test data better than previous models. Here's a comparison of the new model's performance to the earlier Decision Tree model, which was identified as one of the best among the previous models I examined:\n",
        "\n",
        "1. **Accuracy Improvement**:\n",
        "   - **Previous Best (Decision Tree)**: 0.82\n",
        "   - **New Model**: 0.86\n",
        "\n",
        "   The new model has a higher accuracy, showing a 4% improvement.\n",
        "\n",
        "2. **Precision for Class 1 (Spam)**:\n",
        "   - Both models have high precision with the new model maintaining a high level at 0.87, demonstrating its effectiveness in correctly identifying spam emails.\n",
        "\n",
        "3. **Recall for Class 1 (Spam)**:\n",
        "   - **Previous Best (Decision Tree)**: 0.69\n",
        "   - **New Model**: 0.79\n",
        "\n",
        "   The recall has significantly improved in the new model, indicating it is better at detecting the positive class (spam).\n",
        "\n",
        "4. **F1-Score for Class 1 (Spam)**:\n",
        "   - **Previous Best (Decision Tree)**: 0.77\n",
        "   - **New Model**: 0.83\n",
        "\n",
        "   The F1-score, which balances precision and recall, is also higher in the new model, suggesting it provides a more balanced performance between identifying relevant instances and maintaining precision.\n",
        "\n",
        "5. **Cross-Validation Accuracy**:\n",
        "   - **Previous Best (Decision Tree)**: 0.8166\n",
        "   - **New Model**: 0.8411\n",
        "\n",
        "   The improvement in cross-validation accuracy indicates that the new model generalizes better on unseen data compared to the previous decision tree model.\n",
        "\n",
        "In conclusion, the new model demonstrates superior performance across all key metrics compared to my previous models, suggesting the addition of the three new variables indeed provided a meaningful boost to its predictive accuracy and generalization ability."
      ],
      "metadata": {
        "id": "aIu01pNyAIvY"
      }
    },
    {
      "cell_type": "markdown",
      "source": [
        "# **Question 14: Rerun all your other models with this final set of six variables, evaluate prediction error, and choose a final model.  Why did you select this model among all of the models that you ran?**\n"
      ],
      "metadata": {
        "id": "8tZEBikqA6-J"
      }
    },
    {
      "cell_type": "markdown",
      "source": [
        "**6 variables are as follows:**\n",
        "\n",
        "1. capital_run_length_average\n",
        "2. word_freq_mail\n",
        "3. char_freq_!\n",
        "4. word_freq_free\n",
        "5. word_freq_money\n",
        "6. char_freq_$\n",
        "\n",
        "**Models:**\n",
        "\n",
        "1. Logistic Regression\n",
        "2. K-Nearest Neighbors (KNN)\n",
        "3. Support Vector Machine (SVM)\n",
        "4. Decision Tree"
      ],
      "metadata": {
        "id": "tyoNk8CJBFPJ"
      }
    },
    {
      "cell_type": "code",
      "source": [
        "# Define features and target variable\n",
        "X = df[['capital_run_length_average', 'word_freq_mail', 'char_freq_!', 'word_freq_free', 'word_freq_money', 'char_freq_$']]\n",
        "y = df.iloc[:, -1]  # Assuming the target variable (spam or not) is the last column\n",
        "\n",
        "# Split data into training and test sets\n",
        "X_train, X_test, y_train, y_test = train_test_split(X, y, test_size=0.2, random_state=42)\n",
        "\n",
        "# Initialize models\n",
        "logreg = LogisticRegression(max_iter=1000)\n",
        "knn = KNeighborsClassifier()\n",
        "svm = SVC(kernel='linear')\n",
        "dtree = DecisionTreeClassifier(random_state=42)\n",
        "\n",
        "# Dictionary of models for easier management\n",
        "models = {'Logistic Regression': logreg, 'KNN': knn, 'SVM': svm, 'Decision Tree': dtree}\n",
        "\n",
        "# Iterate over models, train, evaluate and print scores\n",
        "for name, model in models.items():\n",
        "    # Train the model\n",
        "    model.fit(X_train, y_train)\n",
        "\n",
        "    # Predict on test data\n",
        "    y_pred = model.predict(X_test)\n",
        "\n",
        "    # Evaluate the model\n",
        "    print(f\"{name} Classification Report on Test Data:\")\n",
        "    print(classification_report(y_test, y_pred))\n",
        "    print(f\"{name} Confusion Matrix on Test Data:\\n\", confusion_matrix(y_test, y_pred))\n",
        "\n",
        "    # Cross-validation\n",
        "    cv_scores = cross_val_score(model, X, y, cv=10, scoring='accuracy')\n",
        "    print(f\"{name} Average Accuracy using 10-Fold Cross-Validation: {cv_scores.mean()}\\n\")\n"
      ],
      "metadata": {
        "colab": {
          "base_uri": "https://localhost:8080/"
        },
        "id": "nTOFK-zCBgBi",
        "outputId": "799d0754-586b-4fdb-9173-1ebfaf4b9747"
      },
      "execution_count": 30,
      "outputs": [
        {
          "output_type": "stream",
          "name": "stdout",
          "text": [
            "Logistic Regression Classification Report on Test Data:\n",
            "              precision    recall  f1-score   support\n",
            "\n",
            "           0       0.80      0.95      0.87       531\n",
            "           1       0.91      0.67      0.77       390\n",
            "\n",
            "    accuracy                           0.83       921\n",
            "   macro avg       0.85      0.81      0.82       921\n",
            "weighted avg       0.84      0.83      0.83       921\n",
            "\n",
            "Logistic Regression Confusion Matrix on Test Data:\n",
            " [[504  27]\n",
            " [127 263]]\n",
            "Logistic Regression Average Accuracy using 10-Fold Cross-Validation: 0.8380878053381118\n",
            "\n",
            "KNN Classification Report on Test Data:\n",
            "              precision    recall  f1-score   support\n",
            "\n",
            "           0       0.84      0.89      0.87       531\n",
            "           1       0.84      0.77      0.80       390\n",
            "\n",
            "    accuracy                           0.84       921\n",
            "   macro avg       0.84      0.83      0.84       921\n",
            "weighted avg       0.84      0.84      0.84       921\n",
            "\n",
            "KNN Confusion Matrix on Test Data:\n",
            " [[475  56]\n",
            " [ 90 300]]\n",
            "KNN Average Accuracy using 10-Fold Cross-Validation: 0.6426718853154767\n",
            "\n",
            "SVM Classification Report on Test Data:\n",
            "              precision    recall  f1-score   support\n",
            "\n",
            "           0       0.80      0.95      0.87       531\n",
            "           1       0.91      0.67      0.77       390\n",
            "\n",
            "    accuracy                           0.83       921\n",
            "   macro avg       0.85      0.81      0.82       921\n",
            "weighted avg       0.85      0.83      0.83       921\n",
            "\n",
            "SVM Confusion Matrix on Test Data:\n",
            " [[505  26]\n",
            " [127 263]]\n",
            "SVM Average Accuracy using 10-Fold Cross-Validation: 0.8441742902951994\n",
            "\n",
            "Decision Tree Classification Report on Test Data:\n",
            "              precision    recall  f1-score   support\n",
            "\n",
            "           0       0.84      0.93      0.89       531\n",
            "           1       0.90      0.77      0.83       390\n",
            "\n",
            "    accuracy                           0.86       921\n",
            "   macro avg       0.87      0.85      0.86       921\n",
            "weighted avg       0.87      0.86      0.86       921\n",
            "\n",
            "Decision Tree Confusion Matrix on Test Data:\n",
            " [[496  35]\n",
            " [ 91 299]]\n",
            "Decision Tree Average Accuracy using 10-Fold Cross-Validation: 0.8511199660473452\n",
            "\n"
          ]
        }
      ]
    },
    {
      "cell_type": "markdown",
      "source": [
        "Based on the classification reports and accuracy metrics provided for each model using the final set of six variables, here's a comparative analysis:\n",
        "\n",
        "1. **Logistic Regression:**\n",
        "   - Accuracy: 0.83\n",
        "   - Precision for class 1: 0.91\n",
        "   - Recall for class 1: 0.67\n",
        "   - F1-score for class 1: 0.77\n",
        "   - Cross-Validation Accuracy: 0.8381\n",
        "\n",
        "2. **KNN:**\n",
        "   - Accuracy: 0.84\n",
        "   - Precision for class 1: 0.84\n",
        "   - Recall for class 1: 0.77\n",
        "   - F1-score for class 1: 0.80\n",
        "   - Cross-Validation Accuracy: 0.6427 (Note: This seems significantly lower, possibly an anomaly or overfitting to the training set)\n",
        "\n",
        "3. **SVM:**\n",
        "   - Accuracy: 0.83\n",
        "   - Precision for class 1: 0.91\n",
        "   - Recall for class 1: 0.67\n",
        "   - F1-score for class 1: 0.77\n",
        "   - Cross-Validation Accuracy: 0.8442\n",
        "\n",
        "4. **Decision Tree:**\n",
        "   - Accuracy: 0.86\n",
        "   - Precision for class 1: 0.90\n",
        "   - Recall for class 1: 0.77\n",
        "   - F1-score for class 1: 0.83\n",
        "   - Cross-Validation Accuracy: 0.8511\n",
        "\n",
        "**Model Selection:**\n",
        "\n",
        "The Decision Tree model shows the highest accuracy on the test data (0.86) and the highest average accuracy on cross-validation (0.8511), indicating it generalizes well. It also demonstrates a strong balance between precision and recall, especially for class 1 (spam), which is crucial for a spam detection task where both false positives and false negatives carry significant costs.\n",
        "\n",
        "- While Logistic Regression and SVM offer high precision for class 1, their recall rates are lower compared to the Decision Tree. This might make them less preferable in applications where failing to detect spam is a critical concern.\n",
        "- KNN shows competitive performance on the test data but its cross-validation accuracy is notably lower, suggesting it might not generalize as well as the other models.\n",
        "\n",
        "Given these insights, the Decision Tree is selected as the final model among all those tested with the extended feature set because it provides the best overall performance in terms of accuracy, balance between precision and recall for detecting spam, and consistency across different data splits as demonstrated by its cross-validation results. This model also offers the advantage of interpretability, which can be valuable for understanding and diagnosing the model's decision-making process."
      ],
      "metadata": {
        "id": "qD22r14vCa1C"
      }
    },
    {
      "cell_type": "markdown",
      "source": [
        "# **Question 15: What is a variable that isn't available in this dataset but you think could increase your final model's predictive power if you had it? Why do you think it would improve your model?**"
      ],
      "metadata": {
        "id": "l1vB1hA2CzhH"
      }
    },
    {
      "cell_type": "markdown",
      "source": [
        "A potentially valuable variable not available in this dataset but that could significantly increase the final model's predictive power is \"email sender reputation.\" Email sender reputation is a score assigned to an email sender based on the quality and reliability of their outgoing emails. It is influenced by several factors including, but not limited to, the volume of emails sent, engagement rates (like opens and clicks), the frequency of sending to invalid email addresses, and the rate at which recipients mark the sender's emails as spam.\n",
        "\n"
      ],
      "metadata": {
        "id": "JCnAinRgC4T1"
      }
    },
    {
      "cell_type": "markdown",
      "source": [
        "# **Question 16: Lastly, you have listed each of the models that we have learned to use to predict dependent variables like spam.  List each model we have focused on in class thus far that you could use to evaluate data with a continuous dependent variable.**"
      ],
      "metadata": {
        "id": "bWJnXjFLDMFD"
      }
    },
    {
      "cell_type": "markdown",
      "source": [
        "For evaluating data with a continuous dependent variable, I can focus on models designed for regression tasks. Here are the models we've discussed or implied that are suitable for predicting continuous outcomes:\n",
        "\n",
        "1. **Linear Regression**: The fundamental model for regression, predicting a continuous dependent variable based on linear relationships with independent variables.\n",
        "\n",
        "2. **Ridge Regression**: An extension of linear regression that includes L2 regularization, which can prevent overfitting by penalizing large coefficients.\n",
        "\n",
        "3. **Lasso Regression**: Similar to ridge regression, but with L1 regularization, which can lead to sparse solutions with fewer nonzero coefficient estimates, effectively performing feature selection.\n",
        "\n",
        "4. **Decision Tree Regressor**: Adapts the decision tree algorithm for regression, predicting continuous values by learning decision rules inferred from the data features.\n",
        "\n",
        "5. **Random Forest Regressor**: An ensemble method using multiple decision trees to reduce variance and improve prediction accuracy for continuous dependent variables.\n",
        "\n",
        "6. **Support Vector Regression (SVR)**: Extends SVMs to regression problems, predicting continuous outcomes with different kernel tricks to handle linear and non-linear relationships.\n",
        "\n",
        "7. **K-Nearest Neighbors (KNN) Regressor**: Uses feature similarity to predict the values of new data points, which means it averages the values of the k-nearest neighbors.\n",
        "\n",
        "These models offer a range of approaches for regression analysis, from simple linear methods to more complex and computationally intensive ensemble and kernel-based methods, each with its own strengths and applications depending on the nature of my data and requirements for my analysis"
      ],
      "metadata": {
        "id": "g6anX4Z8DlEc"
      }
    }
  ]
}