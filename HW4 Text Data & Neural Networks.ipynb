{
  "nbformat": 4,
  "nbformat_minor": 0,
  "metadata": {
    "colab": {
      "provenance": [],
      "toc_visible": true
    },
    "kernelspec": {
      "name": "python3",
      "display_name": "Python 3"
    },
    "language_info": {
      "name": "python"
    }
  },
  "cells": [
    {
      "cell_type": "code",
      "source": [
        "#Loading Necessary Libraries and Packages\n",
        "\n",
        "import pandas as pd\n",
        "import numpy as np\n",
        "import matplotlib.pyplot as plt\n",
        "\n",
        "#Data Splitting\n",
        "from sklearn.model_selection import train_test_split\n",
        "\n",
        "#Evaluation Metrics\n",
        "from sklearn.metrics import accuracy_score, classification_report\n",
        "\n",
        "#NLP Packages\n",
        "from sklearn.feature_extraction.text import CountVectorizer\n",
        "from sklearn.feature_extraction.text import TfidfVectorizer\n",
        "\n",
        "#Supervised Machine Learning Packages\n",
        "from sklearn.linear_model import LogisticRegression\n",
        "from sklearn.model_selection import GridSearchCV\n",
        "from sklearn.metrics import roc_auc_score\n",
        "\n",
        "#Keras Packages\n",
        "from tensorflow.keras.models import Sequential\n",
        "from tensorflow.keras.layers import Dense, Activation\n",
        "from tensorflow.keras.optimizers import SGD\n",
        "from keras.callbacks import ModelCheckpoint\n",
        "\n",
        "#Ignoring Warnings\n",
        "import warnings\n",
        "warnings.filterwarnings(\"ignore\")"
      ],
      "metadata": {
        "id": "_reyyVnug7b3"
      },
      "execution_count": 20,
      "outputs": []
    },
    {
      "cell_type": "markdown",
      "source": [
        "#**Part A: Build a classification model using text data**\n"
      ],
      "metadata": {
        "id": "uY0luMDad4GE"
      }
    },
    {
      "cell_type": "markdown",
      "source": [
        "# **Question 1A: Import the data. The headlines will become your vectorized X matrix, and the labels indicate a binary classification (clickbait or not).**"
      ],
      "metadata": {
        "id": "FuT8wbrzm84r"
      }
    },
    {
      "cell_type": "code",
      "source": [
        "# Load the CSV file into a DataFrame\n",
        "df = pd.read_csv('/content/text_training_data.csv')\n",
        "\n",
        "# Display the first few rows of the DataFrame\n",
        "print(df.head())"
      ],
      "metadata": {
        "colab": {
          "base_uri": "https://localhost:8080/"
        },
        "id": "sUcuihU6hXe1",
        "outputId": "d756aec0-c322-4cd5-a610-0fc5a3551104"
      },
      "execution_count": 21,
      "outputs": [
        {
          "output_type": "stream",
          "name": "stdout",
          "text": [
            "                                            headline          label\n",
            "0     MyBook Disk Drive Handles Lots of Easy Backups  not clickbait\n",
            "1                     CIT Posts Eighth Loss in a Row  not clickbait\n",
            "2  Candy Carson Singing The \"National Anthem\" Is ...      clickbait\n",
            "3  Why You Need To Stop What You're Doing And Dat...      clickbait\n",
            "4  27 Times Adele Proved She's Actually The Reale...      clickbait\n"
          ]
        }
      ]
    },
    {
      "cell_type": "markdown",
      "source": [
        "#**Question 2A: Convert the headline data into an X feature matrix using a simple bag of words approach.**"
      ],
      "metadata": {
        "id": "Q29K1lN5nAoH"
      }
    },
    {
      "cell_type": "markdown",
      "source": [
        "\n",
        "\n",
        "### Notes for Self:\n",
        "#### **What does it mean to convert the text into an X feature Matrix?**\n",
        "When working with text data for ML, especially in NLP, I need to convert the text into a numerical format that an algorithm can process. This numerical format is often referred to as \"feature matrix\", where each row represents a data sample (in this  case, a headline), and each column represents a feature. For text classification, these features are typically the presence or frequency of words in the text.\n",
        "\n",
        "\n",
        "#### **What is a simple bag of words approach?**\n",
        "The BoW model is a method to extract features from text, it involves 3 steps:\n",
        "1. tokenization: splitting text into individual words or tokens\n",
        "2. vocabulary building: collecting a vocabulary of all unique words from the text data\n",
        "3. counting: counting how many times each word appears in each document\n",
        "\n",
        "\n",
        "aka this is a practical way to prepare my data for machine learning models by creating a numeric representation of the text\n"
      ],
      "metadata": {
        "id": "QcCls6eQiGmA"
      }
    },
    {
      "cell_type": "code",
      "source": [
        "# 'headline' is your feature column and 'label' is your target column\n",
        "X = df['headline']  #  features\n",
        "y = df['label']     #  labels\n",
        "\n",
        "# Splitting the data into training and test sets with an 80-20 split\n",
        "X_train, X_test, y_train, y_test = train_test_split(X, y, test_size=0.2, random_state=42)\n",
        "\n",
        "# Optionally, check the size of the train and test sets\n",
        "print(\"Training set size:\", X_train.shape)\n",
        "print(\"Test set size:\", X_test.shape)"
      ],
      "metadata": {
        "colab": {
          "base_uri": "https://localhost:8080/"
        },
        "id": "wDF58eSVNB3r",
        "outputId": "4620946f-8d7f-4d00-e71f-bf9e438b7bae"
      },
      "execution_count": 23,
      "outputs": [
        {
          "output_type": "stream",
          "name": "stdout",
          "text": [
            "Training set size: (19983,)\n",
            "Test set size: (4996,)\n"
          ]
        }
      ]
    },
    {
      "cell_type": "code",
      "source": [
        "X_train, X_test, y_train, y_test = train_test_split(X, y.values.ravel(), test_size=0.2, random_state=42)\n"
      ],
      "metadata": {
        "id": "NaiRvSOZY3kh"
      },
      "execution_count": 28,
      "outputs": []
    },
    {
      "cell_type": "code",
      "source": [
        "\n",
        "#Utilizing CountVectorizer to convert raw text data (for X_test and X_train) into a sparse matrices of token counts\n",
        "\n",
        "countVect = CountVectorizer()\n",
        "\n",
        "X_train_count = countVect.fit_transform(X_train)\n",
        "X_test_count = countVect.transform(X_test)\n",
        "\n",
        "print(X_train_count.shape)\n",
        "print(X_test_count.shape)"
      ],
      "metadata": {
        "colab": {
          "base_uri": "https://localhost:8080/"
        },
        "id": "qtY_JHkvNRK6",
        "outputId": "12a85294-c824-4216-919c-d8412503a1ee"
      },
      "execution_count": 29,
      "outputs": [
        {
          "output_type": "stream",
          "name": "stdout",
          "text": [
            "(19983, 18357)\n",
            "(4996, 18357)\n"
          ]
        }
      ]
    },
    {
      "cell_type": "markdown",
      "source": [
        "the output indicates that there are 19,983 documents (headlines) in the training set and 18,357 unique words in the vocabulary.\n",
        "\n",
        "there are 4,996 documents in the test set. It has the same number of columns (18,357) as the training set feature matrix, reflecting the same vocabulary used to encode both datasets"
      ],
      "metadata": {
        "id": "e6uincsQWRWD"
      }
    },
    {
      "cell_type": "code",
      "source": [
        "feature_names = countVect.get_feature_names_out()\n",
        "\n",
        "print(\"First 50 features:\\n{}\".format(feature_names[:50]), \"\\n\")\n",
        "print(\"Every 100th feature:\\n{}\".format(feature_names[::100]))\n",
        ""
      ],
      "metadata": {
        "colab": {
          "base_uri": "https://localhost:8080/"
        },
        "id": "oazErjFLavzD",
        "outputId": "34ef9360-7229-4986-a29a-eead2a3a168a"
      },
      "execution_count": 36,
      "outputs": [
        {
          "output_type": "stream",
          "name": "stdout",
          "text": [
            "First 50 features:\n",
            "['00' '000' '00s' '01' '04' '05' '08' '09' '10' '100' '1000'\n",
            " '1000blackgirls' '100k' '100m' '100th' '100ºf' '101' '101st' '102' '103'\n",
            " '104' '106' '108' '109' '10m' '10th' '11' '110' '111' '113' '114' '115'\n",
            " '116' '11k' '11n' '11th' '12' '120' '1200' '121' '1215' '124' '126' '127'\n",
            " '128' '12th' '13' '130' '132' '134'] \n",
            "\n",
            "Every 100th feature:\n",
            "['00' '1980' '33' '73' 'abortion' 'activated' 'advocacy' 'aircraft'\n",
            " 'allergies' 'analyst' 'anthony' 'aquino' 'arvind' 'atlantis' 'avatar'\n",
            " 'bacterial' 'bans' 'baxter' 'bei' 'bettis' 'bitmover' 'blowingly' 'boon'\n",
            " 'braless' 'brit' 'build' 'butt' 'cameron' 'cardio' 'cation' 'challenge'\n",
            " 'cheering' 'choreography' 'classes' 'coaches' 'combative' 'complicate'\n",
            " 'connect' 'controllers' 'cost' 'crawl' 'crow' 'cvs' 'dashes'\n",
            " 'decommissioned' 'deliciously' 'derek' 'dial' 'disappoints' 'dissolving'\n",
            " 'dominate' 'dramatize' 'duff' 'eastwood' 'election' 'empire' 'entrance'\n",
            " 'euphemisms' 'exhausted' 'extreme' 'fandom' 'feelin' 'fiji' 'flag' 'fog'\n",
            " 'found' 'frightfully' 'gaddafi' 'geisha' 'gigi' 'goalkeepers' 'grad'\n",
            " 'grocery' 'gwendoline' 'hana' 'hat' 'heavily' 'higgs' 'hollywood'\n",
            " 'hostage' 'hunk' 'ignore' 'improperly' 'infected' 'instagrammer'\n",
            " 'introverted' 'islanders' 'jasmine' 'joined' 'kagan' 'keselowski' 'kke'\n",
            " 'ky' 'large' 'learned' 'lex' 'linked' 'lolol' 'lufthansa' 'magically'\n",
            " 'manga' 'marshals' 'maya' 'megrahi' 'meth' 'millrose' 'missuniverseintro'\n",
            " 'monkey' 'mount' 'murray' 'narrowly' 'nerdy' 'nimby' 'novelist' 'octopus'\n",
            " 'opaque' 'osbournes' 'oversized' 'pamela' 'passes' 'pedigree' 'persists'\n",
            " 'physiological' 'pitchman' 'poached' 'porcupine' 'pratchett' 'pride'\n",
            " 'prominent' 'psychic' 'qaddafi' 'radford' 'rapper' 'rebels' 'reduces'\n",
            " 'relating' 'repeal' 'restart' 'revisit' 'risers' 'romania' 'rumors'\n",
            " 'salmonella' 'saving' 'scoring' 'securing' 'septa' 'shampoos' 'shoot'\n",
            " 'significant' 'skewers' 'slowly' 'sob' 'sounding' 'spike' 'stabbed'\n",
            " 'staying' 'stopgap' 'stuart' 'suffolk' 'surgeon' 'swimming' 'tam' 'tebow'\n",
            " 'terrors' 'thorniest' 'tina' 'torino' 'transdniestria' 'trio' 'turks'\n",
            " 'ultra' 'ungirly' 'upcoming' 'valuable' 'vetos' 'vladimir' 'walters'\n",
            " 'weakness' 'whenever' 'wines' 'worcestershire' 'yang' 'zealand']\n"
          ]
        }
      ]
    },
    {
      "cell_type": "markdown",
      "source": [
        " Below, demonstrates how to access and display information about the predefined set of English stop words provided by scikit-learn.\n",
        "\n",
        " Stop words are commonly used words (such as “and”, “the”, “of”) that are often ignored in text processing and information retrieval because they appear frequently but carry little semantic importance."
      ],
      "metadata": {
        "id": "SW4MIwXsdYyr"
      }
    },
    {
      "cell_type": "code",
      "source": [
        "from sklearn.feature_extraction.text import ENGLISH_STOP_WORDS\n",
        "# imports a frozen set called ENGLISH_STOP_WORDS from sklearn.feature_extraction.text.\n",
        "#This set contains words that scikit-learn considers to be stop words for the English language.\n",
        "\n",
        "#Number of stop words\n",
        "print(\"Number of stop words: {}\".format(len(ENGLISH_STOP_WORDS)), \"\\n\")\n",
        "\n",
        "#First 30 stop words\n",
        "print(\"First 30 stopwords:\\n{}\".format(list(ENGLISH_STOP_WORDS)[:30]))"
      ],
      "metadata": {
        "colab": {
          "base_uri": "https://localhost:8080/"
        },
        "id": "EtvLUWmla9gs",
        "outputId": "dfc3a2ab-82e9-4655-8e85-e653ef6d08cd"
      },
      "execution_count": 42,
      "outputs": [
        {
          "output_type": "stream",
          "name": "stdout",
          "text": [
            "Number of stop words: 318 \n",
            "\n",
            "First 30 stopwords:\n",
            "['well', 'latterly', 'yours', 'became', 'bill', 'almost', 'such', 'out', 'eight', 'hers', 'nowhere', 'thru', 'third', 'after', 'per', 'together', 'un', 'again', 'everyone', 'keep', 'throughout', 'whenever', 'front', 'can', 'find', 'has', 'sixty', 'towards', 'mostly', 'thick']\n"
          ]
        }
      ]
    },
    {
      "cell_type": "markdown",
      "source": [
        "'''\n",
        "Utilizing TfidfVectorizer to convert raw text data (for X_test and X_train)\n",
        "into a sparse matrices of token counts weighted by term frequency-inverse document frequency\n",
        "aka filter out common English stop words and to limit the number of features.\n",
        "\n",
        "stop_words='english': Excludes common English stop words.\n",
        "max_features is set to 5000 in order to limit to vocab and reduce dimension size\n",
        "'''"
      ],
      "metadata": {
        "id": "YNxPUJzlc4Lt"
      }
    },
    {
      "cell_type": "code",
      "source": [
        "TfidfVectStop = TfidfVectorizer(stop_words='english', max_features=5000)\n",
        "# This tells the vectorizer to ignore common English stop words (like \"the\", \"is\", \"in\", etc.),\n",
        "#which are typically not useful for many text processing applications because they occur frequently\n",
        "# across all texts and usually don't contribute to the meaning of specific content\n",
        "\n",
        "X_train_Stop = TfidfVectStop.fit_transform(X_train)\n",
        "X_test_Stop = TfidfVectStop.transform(X_test)\n",
        "\n",
        "print(X_train_Stop.shape)\n",
        "print(X_test_Stop.shape, \"\\n\")\n",
        "\n",
        "\n",
        "(19983, 5000)\n",
        "(4996, 5000)"
      ],
      "metadata": {
        "colab": {
          "base_uri": "https://localhost:8080/"
        },
        "id": "6x-AFeRbculF",
        "outputId": "7a87a269-bd75-4c57-9d2f-729c7d910a57"
      },
      "execution_count": 43,
      "outputs": [
        {
          "output_type": "stream",
          "name": "stdout",
          "text": [
            "(19983, 5000)\n",
            "(4996, 5000) \n",
            "\n"
          ]
        },
        {
          "output_type": "execute_result",
          "data": {
            "text/plain": [
              "(4996, 5000)"
            ]
          },
          "metadata": {},
          "execution_count": 43
        }
      ]
    },
    {
      "cell_type": "markdown",
      "source": [
        "#**Question 3A: Run logistic regression to predict clickbait headlines. Remember to train_test_split your data and use GridSearchCV to find the best value of C. You should evaluate your data with F1 scoring.**"
      ],
      "metadata": {
        "id": "0Uvzbqx0ereu"
      }
    },
    {
      "cell_type": "markdown",
      "source": [
        "## **Model 1**"
      ],
      "metadata": {
        "id": "Nw8o6QJfiGgR"
      }
    },
    {
      "cell_type": "code",
      "source": [
        "#Creating function that visualizes top and negative coefficents for the corresponding features in the vectorized text data\n",
        "#Function will be called for each the logistic regression model with the different tokenization approach\n",
        "\n",
        "def visualize_coefficients(coefficients, feature_names, n_top_features=25):\n",
        "\n",
        "  coefficients = coefficients.squeeze()\n",
        "\n",
        "  coefficients = coefficients.ravel()\n",
        "\n",
        "  top_positive = np.argsort(coefficients)[-n_top_features:]\n",
        "  top_negative = np.argsort(coefficients)[:n_top_features]\n",
        "\n",
        "  top_features = np.hstack([top_negative, top_positive])\n",
        "\n",
        "  coef = coefficients[top_features]\n",
        "  feature_names_selected = [feature_names[i] for i in top_features]\n",
        "\n",
        "  plt.figure(figsize=(10, 6))\n",
        "  colors = ['#ff2020' if c < 0 else '#0000aa' for c in coef]\n",
        "  plt.barh(np.arange(1, 1 + 2 * n_top_features), coef, color=colors)\n",
        "  plt.yticks(np.arange(1, 1 + 2 * n_top_features), feature_names_selected, ha=\"right\")\n",
        "  plt.xlabel(\"Coefficient Magnitude\")\n",
        "  plt.title(\"Top {} Positive and Negative Coefficients\".format(n_top_features ))\n",
        "  plt.show()\n"
      ],
      "metadata": {
        "id": "n_XgZ1xSfQSP"
      },
      "execution_count": 44,
      "outputs": []
    },
    {
      "cell_type": "code",
      "source": [
        "# Logistic Regression with X training and test matrices created using CountVectorizer\n",
        "\n",
        "logreg = LogisticRegression(max_iter=10000, penalty='l2')\n",
        "logreg.fit(X_train_count, y_train)\n",
        "\n",
        "hyperparameters = {'C': [0.001, 0.01, 0.1, 1, 10, 100]}\n",
        "\n",
        "gridsearch_1 = GridSearchCV(logreg, param_grid=hyperparameters, cv=10, scoring='roc_auc', error_score='raise')\n",
        "gridsearch_1.fit(X_train_count, y_train)\n",
        "\n",
        "gridsearch_1_score = gridsearch_1.best_score_\n",
        "gridsearch_1_bestparams = gridsearch_1.best_params_\n",
        "\n",
        "print(\"Best mean cross-validation score: \", round(gridsearch_1_score,4))\n",
        "print(\"Parameter that optimizes the mean cv score: \",gridsearch_1_bestparams)"
      ],
      "metadata": {
        "colab": {
          "base_uri": "https://localhost:8080/"
        },
        "id": "lwJdRQYgfnDc",
        "outputId": "7877b0ad-d6d6-49b3-ffdb-7e1645aa069d"
      },
      "execution_count": 45,
      "outputs": [
        {
          "output_type": "stream",
          "name": "stdout",
          "text": [
            "Best mean cross-validation score:  0.996\n",
            "Parameter that optimizes the mean cv score:  {'C': 10}\n"
          ]
        }
      ]
    },
    {
      "cell_type": "code",
      "source": [
        "#Best model (C=10) from the Gridsearch CV\n",
        "bestmodel_1 = gridsearch_1.best_estimator_\n",
        "bestmodel_1\n",
        "\n",
        "#Predicted probabilites of clickbait from best training model\n",
        "y_pred_prob = bestmodel_1.predict_proba(X_test_count)[:, 1]\n",
        "y_test_score = roc_auc_score(y_test, y_pred_prob)\n",
        "\n",
        "print(\"Test score with ROC AUC:\",round(y_test_score,4))"
      ],
      "metadata": {
        "colab": {
          "base_uri": "https://localhost:8080/"
        },
        "id": "pB0aJWG8gB-f",
        "outputId": "bf75abe4-84e9-4cd3-8905-bb60900caec9"
      },
      "execution_count": 46,
      "outputs": [
        {
          "output_type": "stream",
          "name": "stdout",
          "text": [
            "Test score with ROC AUC: 0.9945\n"
          ]
        }
      ]
    },
    {
      "cell_type": "markdown",
      "source": [
        "ROC AUC (Receiver Operating Characteristic - Area Under the Curve) is a performance measurement for classification problems at various threshold settings. ROC is a probability curve, and AUC represents the degree or measure of separability. It tells how much a model is capable of distinguishing between classes. Higher the AUC, the better the model is at predicting 0s as 0s and 1s as 1s."
      ],
      "metadata": {
        "id": "jKWN5opwgStu"
      }
    },
    {
      "cell_type": "code",
      "source": [
        "#Predicted values (clickbait or not clickbait) from best training model\n",
        "y_pred = bestmodel_1.predict(X_test_count)\n",
        "\n",
        "accuracy = accuracy_score(y_test, y_pred)\n",
        "classification_rep = classification_report(y_test, y_pred)\n",
        "\n",
        "print(\"Accuracy score:\", round(accuracy,4), \"\\n\")\n",
        "print(\"Classifiation Report \\n\", classification_rep)"
      ],
      "metadata": {
        "colab": {
          "base_uri": "https://localhost:8080/"
        },
        "id": "OFN2QuYggRhM",
        "outputId": "181b516f-faa6-4b02-a5c3-a812510e64ac"
      },
      "execution_count": 47,
      "outputs": [
        {
          "output_type": "stream",
          "name": "stdout",
          "text": [
            "Accuracy score: 0.9692 \n",
            "\n",
            "Classifiation Report \n",
            "                precision    recall  f1-score   support\n",
            "\n",
            "    clickbait       0.97      0.96      0.97      2386\n",
            "not clickbait       0.97      0.98      0.97      2610\n",
            "\n",
            "     accuracy                           0.97      4996\n",
            "    macro avg       0.97      0.97      0.97      4996\n",
            " weighted avg       0.97      0.97      0.97      4996\n",
            "\n"
          ]
        }
      ]
    },
    {
      "cell_type": "code",
      "source": [
        "#Visualizing the top positive and negative coefficents for Model 1\n",
        "\n",
        "feature_names = countVect.get_feature_names_out()\n",
        "\n",
        "coefs = bestmodel_1.coef_\n",
        "visualize_coefficients(coefs, feature_names, n_top_features=10)"
      ],
      "metadata": {
        "colab": {
          "base_uri": "https://localhost:8080/",
          "height": 564
        },
        "id": "fRZEhClMgfs6",
        "outputId": "8bab3756-340c-4b7f-b336-063860e0dcdf"
      },
      "execution_count": 48,
      "outputs": [
        {
          "output_type": "display_data",
          "data": {
            "text/plain": [
              "<Figure size 1000x600 with 1 Axes>"
            ],
            "image/png": "[encoded data removed]"
          },
          "metadata": {}
        }
      ]
    },
    {
      "cell_type": "code",
      "source": [
        "#Retreiving the magnitudes of the top positive and negative feature\n",
        "\n",
        "coefs = bestmodel_1.coef_[0]\n",
        "\n",
        "# Find the index of the largest and smallest coefficients\n",
        "index_of_largest = coefs.argmax()\n",
        "index_of_smallest = coefs.argmin()\n",
        "\n",
        "largest_feature, largest_coefficient = feature_names[index_of_largest], coefs[index_of_largest]\n",
        "smallest_feature, smallest_coefficient = feature_names[index_of_smallest], coefs[index_of_smallest]\n",
        "\n",
        "\n",
        "print(\"Largest Coefficient:\")\n",
        "print(\"Feature:\", largest_feature)\n",
        "print(\"Coefficient:\", largest_coefficient)\n",
        "\n",
        "print(\"\\nSmallest Coefficient:\")\n",
        "print(\"Feature:\", smallest_feature)\n",
        "print(\"Coefficient:\", smallest_coefficient)"
      ],
      "metadata": {
        "colab": {
          "base_uri": "https://localhost:8080/"
        },
        "id": "pjIVweJogmwI",
        "outputId": "2aa3ab1e-a79c-4bdf-996f-c3ab2ba6f2a0"
      },
      "execution_count": 49,
      "outputs": [
        {
          "output_type": "stream",
          "name": "stdout",
          "text": [
            "Largest Coefficient:\n",
            "Feature: ferry\n",
            "Coefficient: 5.16921084086966\n",
            "\n",
            "Smallest Coefficient:\n",
            "Feature: you\n",
            "Coefficient: -5.284275335574455\n"
          ]
        }
      ]
    },
    {
      "cell_type": "markdown",
      "source": [
        "**Model Selection:**\n",
        "\n",
        "The model that performed best during the cross-validation process had a tuning parameter set to C=10. This model achieved the highest mean cross-validation score of 0.996\n",
        "\n",
        "\n",
        "**Performance Metrics:**\n",
        "\n",
        "ROC AUC Score: The test score from the best model, evaluated using the ROC AUC metric, is 0.9945.\n",
        "Accuracy Score: This model also achieved an accuracy of 0.9692.\n",
        "F1 Score: The F1 score for the model is 0.97.\n",
        "\n",
        "**Feature Influence:**\n",
        "\n",
        "The graph illustrates the top 10 features that impact model predictions the most, categorizing them as negative or positive.\n",
        "\n",
        "The word \"you\" is the most influential positive feature, increasing the likelihood that a headline is considered clickbait by 5.28.\n",
        "\n",
        "On the other hand, the word \"ferry\" is the most significant negative feature, decreasing the likelihood that a headline is clickbait by 5.17."
      ],
      "metadata": {
        "id": "Pl03mfBRg3Je"
      }
    },
    {
      "cell_type": "markdown",
      "source": [
        "#**Question 4A: Run 2 more logistic regression models by changing the vectorization approach (e.g. using n-grams, stop_words, and other techniques we discussed). In both cases, keep your logistic regression step the same. Only change how you're generating the X matrix from the text data.**\n"
      ],
      "metadata": {
        "id": "lZrn1OYYhq9v"
      }
    },
    {
      "cell_type": "markdown",
      "source": [
        "## **Model 2**\n",
        "Logistic Regression with X training and test matrices created using TfidfVectorizer\n"
      ],
      "metadata": {
        "id": "54Int5KpiLf_"
      }
    },
    {
      "cell_type": "code",
      "source": [
        "\n",
        "logreg.fit(X_train_Tfidf, y_train)\n",
        "\n",
        "#Gridsearch CV to find the optimal mean-crossivalidation score with the TfidfVectorizer\n",
        "\n",
        "hyperparameters = {'C': [0.001, 0.01, 0.1, 1, 10, 100]}\n",
        "\n",
        "gridsearch_2 = GridSearchCV(logreg, param_grid=hyperparameters, cv=10, scoring='roc_auc', error_score='raise')\n",
        "gridsearch_2.fit(X_train_Tfidf, y_train)\n",
        "\n",
        "gridsearch_2_score = gridsearch_2.best_score_\n",
        "gridsearch_2_bestparams = gridsearch_2.best_params_\n",
        "\n",
        "#Displaying best mean cv score and best parameter\n",
        "print(\"Best mean cross-validation score: \", round(gridsearch_2_score,4))\n",
        "print(\"Parameter that optimizes the mean cv score: \",gridsearch_2_bestparams)\n",
        "\n",
        "\n"
      ],
      "metadata": {
        "colab": {
          "base_uri": "https://localhost:8080/"
        },
        "id": "ijPe3MCdjWHY",
        "outputId": "7e3145c5-b0b5-4ab8-e4dd-e403f39b0f15"
      },
      "execution_count": 58,
      "outputs": [
        {
          "output_type": "stream",
          "name": "stdout",
          "text": [
            "Best mean cross-validation score:  0.9965\n",
            "Parameter that optimizes the mean cv score:  {'C': 100}\n"
          ]
        }
      ]
    },
    {
      "cell_type": "code",
      "source": [
        "#Best model (C=100) from the Gridsearch CV\n",
        "bestmodel_2 = gridsearch_2.best_estimator_\n",
        "bestmodel_2\n",
        "\n",
        "#Predicted probabilites of clickbait from best training model\n",
        "y_pred_prob = bestmodel_2.predict_proba(X_test_count)[:, 1]\n",
        "y_test_score = roc_auc_score(y_test, y_pred_prob)\n",
        "\n",
        "print(\"Test score with ROC AUC:\",round(y_test_score,4))"
      ],
      "metadata": {
        "colab": {
          "base_uri": "https://localhost:8080/"
        },
        "id": "fGdJLQLFjc9k",
        "outputId": "ed1a8299-9b6e-4d3e-f483-8bdbdf6fbfc2"
      },
      "execution_count": 59,
      "outputs": [
        {
          "output_type": "stream",
          "name": "stdout",
          "text": [
            "Test score with ROC AUC: 0.9929\n"
          ]
        }
      ]
    },
    {
      "cell_type": "code",
      "source": [
        "#Predicted values (clickbait or not clickbait) from best training model\n",
        "y_pred = bestmodel_2.predict(X_test_Tfidf)\n",
        "\n",
        "#Accuracy Score and Classification Report\n",
        "accuracy = accuracy_score(y_test, y_pred)\n",
        "classification_rep = classification_report(y_test, y_pred)\n",
        "\n",
        "print(\"Accuracy score:\", round(accuracy,4), \"\\n\")\n",
        "print(\"Classifiation Report \\n\", classification_rep)"
      ],
      "metadata": {
        "colab": {
          "base_uri": "https://localhost:8080/"
        },
        "id": "wBrY8GlBj2O3",
        "outputId": "c7c18bdc-4c79-4124-a0c8-c33962574760"
      },
      "execution_count": 60,
      "outputs": [
        {
          "output_type": "stream",
          "name": "stdout",
          "text": [
            "Accuracy score: 0.9698 \n",
            "\n",
            "Classifiation Report \n",
            "                precision    recall  f1-score   support\n",
            "\n",
            "    clickbait       0.97      0.97      0.97      2386\n",
            "not clickbait       0.97      0.97      0.97      2610\n",
            "\n",
            "     accuracy                           0.97      4996\n",
            "    macro avg       0.97      0.97      0.97      4996\n",
            " weighted avg       0.97      0.97      0.97      4996\n",
            "\n"
          ]
        }
      ]
    },
    {
      "cell_type": "code",
      "source": [
        "#Visualizing the top positive and negative coefficents for Model 2\n",
        "\n",
        "coefs = bestmodel_2.coef_\n",
        "feature_names = TfidfVect.get_feature_names_out()\n",
        "\n",
        "\n",
        "visualize_coefficients(coefs, feature_names, n_top_features=10)"
      ],
      "metadata": {
        "colab": {
          "base_uri": "https://localhost:8080/",
          "height": 564
        },
        "id": "bDV0hoxJj6pA",
        "outputId": "d4fee5dd-b9f8-4c48-cae0-0ea08ba23c14"
      },
      "execution_count": 56,
      "outputs": [
        {
          "output_type": "display_data",
          "data": {
            "text/plain": [
              "<Figure size 1000x600 with 1 Axes>"
            ],
            "image/png": "[encoded data removed]"
          },
          "metadata": {}
        }
      ]
    },
    {
      "cell_type": "code",
      "source": [
        "#Retreiving the top magnitudes of the top positive and negative feature\n",
        "#Plotting the top positive and negative coefficents for model 2\n",
        "\n",
        "coefs = bestmodel_2.coef_[0]\n",
        "\n",
        "# Find the index of the largest and smallest coefficients\n",
        "index_of_largest = coefs.argmax()\n",
        "index_of_smallest = coefs.argmin()\n",
        "\n",
        "largest_feature, largest_coefficient = feature_names[index_of_largest], coefs[index_of_largest]\n",
        "smallest_feature, smallest_coefficient = feature_names[index_of_smallest], coefs[index_of_smallest]\n",
        "\n",
        "\n",
        "print(\"Largest Coefficient:\")\n",
        "print(\"Feature:\", largest_feature)\n",
        "print(\"Coefficient:\", largest_coefficient)\n",
        "\n",
        "print(\"\\nSmallest Coefficient:\")\n",
        "print(\"Feature:\", smallest_feature)\n",
        "print(\"Coefficient:\", smallest_coefficient)"
      ],
      "metadata": {
        "colab": {
          "base_uri": "https://localhost:8080/"
        },
        "id": "CAulpcNrj9mq",
        "outputId": "e918890c-10e2-4a81-e939-ba4057d308a9"
      },
      "execution_count": 61,
      "outputs": [
        {
          "output_type": "stream",
          "name": "stdout",
          "text": [
            "Largest Coefficient:\n",
            "Feature: ferry\n",
            "Coefficient: 15.769050845903411\n",
            "\n",
            "Smallest Coefficient:\n",
            "Feature: you\n",
            "Coefficient: -28.693677920655166\n"
          ]
        }
      ]
    },
    {
      "cell_type": "markdown",
      "source": [
        "**Model 2 Analysis**\n",
        "\n",
        "The model with the best mean cross-validation score (cv = 0.9965\n",
        ") is when the tuning parameter 𝐶=10 .\n",
        "\n",
        "The test score from the best model, also measured using ROC AUC, is 0.9929\n",
        "\n",
        "The accuracy score is 0.9698 and the F1 score is 0.97\n",
        "\n",
        "\n",
        "The word \"ferry\" is the most influential positive feature, increasing the likelihood that a headline is considered clickbait by 15.77\n",
        "\n",
        "On the other hand, the word \"you\" is the most significant negative feature, decreasing the likelihood that a headline is clickbait by 28.69"
      ],
      "metadata": {
        "id": "tHI7BKZhkfnm"
      }
    },
    {
      "cell_type": "markdown",
      "source": [
        "## **Model 3**\n",
        "Logistic Regression with X training and test matrices created using TfidfVectorizer"
      ],
      "metadata": {
        "id": "q5PG8SFblUZI"
      }
    },
    {
      "cell_type": "code",
      "source": [
        "logreg.fit(X_train_Stop, y_train)\n",
        "\n",
        "#Gridsearch CV to find the optimal mean-crossivalidation score with the TfidfVectorizer with Stop\n",
        "\n",
        "hyperparameters = {'C': [0.001, 0.01, 0.1, 1, 10, 100]}\n",
        "\n",
        "gridsearch_3 = GridSearchCV(logreg, param_grid=hyperparameters, cv=10, scoring='roc_auc', error_score='raise')\n",
        "gridsearch_3.fit(X_train_Stop, y_train)\n",
        "\n",
        "gridsearch_3_score = gridsearch_3.best_score_\n",
        "gridsearch_3_bestparams = gridsearch_3.best_params_\n",
        "\n",
        "#Displaying best mean cv score and best parameter\n",
        "print(\"Best mean cross-validation score: \", round(gridsearch_3_score,4))\n",
        "print(\"Parameter that optimizes the mean cv score: \",gridsearch_3_bestparams)\n"
      ],
      "metadata": {
        "colab": {
          "base_uri": "https://localhost:8080/"
        },
        "id": "-VYa7jqUlZEu",
        "outputId": "abd73935-8da9-4a0a-9965-72262eb1d74e"
      },
      "execution_count": 62,
      "outputs": [
        {
          "output_type": "stream",
          "name": "stdout",
          "text": [
            "Best mean cross-validation score:  0.9899\n",
            "Parameter that optimizes the mean cv score:  {'C': 10}\n"
          ]
        }
      ]
    },
    {
      "cell_type": "code",
      "source": [
        "#Best model (C=10) from the Gridsearch CV\n",
        "bestmodel_3 = gridsearch_3.best_estimator_\n",
        "bestmodel_3\n",
        "\n",
        "#Predicted probabilites of clickbait from best training model\n",
        "y_pred_prob = bestmodel_3.predict_proba(X_test_Stop)[:, 1]\n",
        "y_test_score = roc_auc_score(y_test, y_pred_prob)\n",
        "\n",
        "print(\"Test score with ROC AUC:\",round(y_test_score,4))"
      ],
      "metadata": {
        "colab": {
          "base_uri": "https://localhost:8080/"
        },
        "id": "cRSbSlx9luJP",
        "outputId": "24d12b86-4e2a-4be6-a520-e9b4c48d53c4"
      },
      "execution_count": 63,
      "outputs": [
        {
          "output_type": "stream",
          "name": "stdout",
          "text": [
            "Test score with ROC AUC: 0.9876\n"
          ]
        }
      ]
    },
    {
      "cell_type": "code",
      "source": [
        "#Predicted values (clickbait or not clickbait) from best training model\n",
        "y_pred = bestmodel_3.predict(X_test_Stop)\n",
        "\n",
        "#Accuracy Score and Classification Report\n",
        "accuracy = accuracy_score(y_test, y_pred)\n",
        "classification_rep = classification_report(y_test, y_pred)\n",
        "\n",
        "print(\"Accuracy score:\", round(accuracy,4), \"\\n\")\n",
        "print(\"Classifiation Report \\n\", classification_rep)"
      ],
      "metadata": {
        "colab": {
          "base_uri": "https://localhost:8080/"
        },
        "id": "gnMsMWKLlw3U",
        "outputId": "9964b30d-2cb7-4bee-8d1e-ab053758dfe7"
      },
      "execution_count": 64,
      "outputs": [
        {
          "output_type": "stream",
          "name": "stdout",
          "text": [
            "Accuracy score: 0.9482 \n",
            "\n",
            "Classifiation Report \n",
            "                precision    recall  f1-score   support\n",
            "\n",
            "    clickbait       0.95      0.94      0.95      2386\n",
            "not clickbait       0.95      0.95      0.95      2610\n",
            "\n",
            "     accuracy                           0.95      4996\n",
            "    macro avg       0.95      0.95      0.95      4996\n",
            " weighted avg       0.95      0.95      0.95      4996\n",
            "\n"
          ]
        }
      ]
    },
    {
      "cell_type": "code",
      "source": [
        "#Visualizing the top positive and negative coefficents for Model 3\n",
        "\n",
        "coefs = bestmodel_3.coef_\n",
        "feature_names = TfidfVectStop.get_feature_names_out()\n",
        "\n",
        "\n",
        "visualize_coefficients(coefs, feature_names, n_top_features=10)"
      ],
      "metadata": {
        "colab": {
          "base_uri": "https://localhost:8080/",
          "height": 564
        },
        "id": "9NSEUbCil0-m",
        "outputId": "2fe5b1ac-c932-4670-acc8-1e115c2d33ba"
      },
      "execution_count": 65,
      "outputs": [
        {
          "output_type": "display_data",
          "data": {
            "text/plain": [
              "<Figure size 1000x600 with 1 Axes>"
            ],
            "image/png": "[encoded data removed]"
          },
          "metadata": {}
        }
      ]
    },
    {
      "cell_type": "code",
      "source": [
        "#Retreiving the top magnitudes of the top positive and negative feature\n",
        "\n",
        "coefs = bestmodel_3.coef_[0]\n",
        "\n",
        "# Finding the index of the largest and smallest coefficients\n",
        "index_of_largest = coefs.argmax()\n",
        "index_of_smallest = coefs.argmin()\n",
        "\n",
        "largest_feature, largest_coefficient = feature_names[index_of_largest], coefs[index_of_largest]\n",
        "smallest_feature, smallest_coefficient = feature_names[index_of_smallest], coefs[index_of_smallest]\n",
        "\n",
        "\n",
        "print(\"Largest Coefficient:\")\n",
        "print(\"Feature:\", largest_feature)\n",
        "print(\"Coefficient:\", largest_coefficient)\n",
        "\n",
        "print(\"\\nSmallest Coefficient:\")\n",
        "print(\"Feature:\", smallest_feature)\n",
        "print(\"Coefficient:\", smallest_coefficient)\n"
      ],
      "metadata": {
        "colab": {
          "base_uri": "https://localhost:8080/"
        },
        "id": "-KSMDGmUl4MM",
        "outputId": "6f823d19-a695-4394-a6b7-ef608065a5ef"
      },
      "execution_count": 66,
      "outputs": [
        {
          "output_type": "stream",
          "name": "stdout",
          "text": [
            "Largest Coefficient:\n",
            "Feature: dies\n",
            "Coefficient: 8.679361953120305\n",
            "\n",
            "Smallest Coefficient:\n",
            "Feature: know\n",
            "Coefficient: -8.677461589481021\n"
          ]
        }
      ]
    },
    {
      "cell_type": "markdown",
      "source": [
        "**Model 3 Analysis**\n",
        "The model with the best mean cross-validation score (cv = 0.9899) is when the tuning parameter 𝐶=10 . The test score from the best model, also measured using ROC AUC, is 0.9482.\n",
        "\n",
        "The accuracy score is 0.9698 and the F1 score is 0.95\n",
        "\n",
        "For Model 3, the word \"know\" significantly raises the likelihood that a headline is considered clickbait, increasing the log-odds by 8.68, when all other variables remain the same. In contrast, the word \"dies\" significantly reduces the likelihood, decreasing the log-odds by 8.68, with all other variables held constant."
      ],
      "metadata": {
        "id": "Dw0GL18Sl8Ab"
      }
    },
    {
      "cell_type": "markdown",
      "source": [
        "#**Question 5A: Which of your 3 models performed best? What are the most significant coefficients in each, and how do they compare?**"
      ],
      "metadata": {
        "id": "3UWphGdwmeAu"
      }
    },
    {
      "cell_type": "markdown",
      "source": [
        "To determine which of the three models is the best based on the provided analysis, we should consider several metrics: cross-validation scores, test ROC AUC scores, accuracy, F1 scores, and the effect of key features. Here's a comparative analysis of the three models:\n",
        "\n",
        "### Model 1\n",
        "- **Cross-validation Score:** 0.996\n",
        "- **ROC AUC Score:** 0.9945\n",
        "- **Accuracy:** 0.9692\n",
        "- **F1 Score:** 0.97\n",
        "- **Key Features:** \"You\" increases clickbait likelihood by 5.28, \"ferry\" decreases it by 5.17.\n",
        "\n",
        "### Model 2\n",
        "- **Cross-validation Score:** 0.9965\n",
        "- **ROC AUC Score:** 0.9929\n",
        "- **Accuracy:** 0.9698\n",
        "- **F1 Score:** 0.97\n",
        "- **Key Features:** \"Ferry\" increases clickbait likelihood by 15.77, \"you\" decreases it by 28.69.\n",
        "\n",
        "### Model 3\n",
        "- **Cross-validation Score:** 0.9899\n",
        "- **ROC AUC Score:** 0.9482\n",
        "- **Accuracy:** 0.9698\n",
        "- **F1 Score:** 0.95\n",
        "- **Key Features:** \"Know\" increases clickbait likelihood by 8.68, \"dies\" decreases it by 8.68.\n",
        "\n",
        "### Comparative Analysis\n",
        "1. **Cross-Validation Score:**\n",
        "   - Model 2 has the highest cross-validation score at 0.9965, closely followed by Model 1 at 0.996, with Model 3 lagging slightly at 0.9899. This indicates that Model 2 generalizes best according to the training data.\n",
        "\n",
        "2. **ROC AUC Score:**\n",
        "   - Model 1 leads with a ROC AUC score of 0.9945, suggesting it is best at distinguishing between classes. Model 2 follows closely with 0.9929, while Model 3 is significantly lower at 0.9482.\n",
        "\n",
        "3. **Accuracy and F1 Score:**\n",
        "   - Accuracy is nearly identical across Models 1 and 2. Model 3 shares the same accuracy with Model 2 but has a lower F1 score. F1 scores for Model 1 and Model 2 are very close, indicating good precision and recall balance, but Model 1 edges slightly higher.\n",
        "\n",
        "4. **Feature Influence:**\n",
        "   - Model 2 shows the most dramatic influence of features (\"ferry\" and \"you\"), indicating strong predictive power but potentially greater sensitivity to specific terms. Models 1 and 3 show more moderate influences, which might suggest less extreme reactions to specific feature presence.\n",
        "\n",
        "### Conclusion\n",
        "Based on the cross-validation scores, ROC AUC scores, and the very close accuracy and F1 scores, **Model 1** appears to be the best overall. It has the highest ROC AUC score, suggesting superior ability to classify accurately under varied threshold settings and slightly edges out in the F1 score, indicating a balanced approach between precision and recall. Additionally, the feature influences are significant but not overly extreme, suggesting it might be more robust across different types of text data than Model 2, which shows a very high sensitivity to particular words."
      ],
      "metadata": {
        "id": "_jSnd9-in2Sv"
      }
    },
    {
      "cell_type": "markdown",
      "source": [
        "#**Part B: Build a predictive neural network using Keras**"
      ],
      "metadata": {
        "id": "m-BOYRm8n6Rz"
      }
    },
    {
      "cell_type": "markdown",
      "source": [
        "# **Question 1B: Load the data**"
      ],
      "metadata": {
        "id": "BTmTXZvroFcv"
      }
    },
    {
      "cell_type": "code",
      "source": [
        "#Loading Iris Flower dataset\n",
        "iris_df = pd.read_csv(\"http://vincentarelbundock.github.io/Rdatasets/csv/datasets/iris.csv\")\n",
        "iris_df.head(10)"
      ],
      "metadata": {
        "colab": {
          "base_uri": "https://localhost:8080/",
          "height": 363
        },
        "id": "UtccTikloY7Q",
        "outputId": "9f8f6d18-af67-44cc-d0e7-9d54074682d1"
      },
      "execution_count": 67,
      "outputs": [
        {
          "output_type": "execute_result",
          "data": {
            "text/plain": [
              "   rownames  Sepal.Length  Sepal.Width  Petal.Length  Petal.Width Species\n",
              "0         1           5.1          3.5           1.4          0.2  setosa\n",
              "1         2           4.9          3.0           1.4          0.2  setosa\n",
              "2         3           4.7          3.2           1.3          0.2  setosa\n",
              "3         4           4.6          3.1           1.5          0.2  setosa\n",
              "4         5           5.0          3.6           1.4          0.2  setosa\n",
              "5         6           5.4          3.9           1.7          0.4  setosa\n",
              "6         7           4.6          3.4           1.4          0.3  setosa\n",
              "7         8           5.0          3.4           1.5          0.2  setosa\n",
              "8         9           4.4          2.9           1.4          0.2  setosa\n",
              "9        10           4.9          3.1           1.5          0.1  setosa"
            ],
            "text/html": [
              "\n",
              "  <div id=\"df-a640175c-8db5-4cda-a718-0c32c2cd9b0e\" class=\"colab-df-container\">\n",
              "    <div>\n",
              "<style scoped>\n",
              "    .dataframe tbody tr th:only-of-type {\n",
              "        vertical-align: middle;\n",
              "    }\n",
              "\n",
              "    .dataframe tbody tr th {\n",
              "        vertical-align: top;\n",
              "    }\n",
              "\n",
              "    .dataframe thead th {\n",
              "        text-align: right;\n",
              "    }\n",
              "</style>\n",
              "<table border=\"1\" class=\"dataframe\">\n",
              "  <thead>\n",
              "    <tr style=\"text-align: right;\">\n",
              "      <th></th>\n",
              "      <th>rownames</th>\n",
              "      <th>Sepal.Length</th>\n",
              "      <th>Sepal.Width</th>\n",
              "      <th>Petal.Length</th>\n",
              "      <th>Petal.Width</th>\n",
              "      <th>Species</th>\n",
              "    </tr>\n",
              "  </thead>\n",
              "  <tbody>\n",
              "    <tr>\n",
              "      <th>0</th>\n",
              "      <td>1</td>\n",
              "      <td>5.1</td>\n",
              "      <td>3.5</td>\n",
              "      <td>1.4</td>\n",
              "      <td>0.2</td>\n",
              "      <td>setosa</td>\n",
              "    </tr>\n",
              "    <tr>\n",
              "      <th>1</th>\n",
              "      <td>2</td>\n",
              "      <td>4.9</td>\n",
              "      <td>3.0</td>\n",
              "      <td>1.4</td>\n",
              "      <td>0.2</td>\n",
              "      <td>setosa</td>\n",
              "    </tr>\n",
              "    <tr>\n",
              "      <th>2</th>\n",
              "      <td>3</td>\n",
              "      <td>4.7</td>\n",
              "      <td>3.2</td>\n",
              "      <td>1.3</td>\n",
              "      <td>0.2</td>\n",
              "      <td>setosa</td>\n",
              "    </tr>\n",
              "    <tr>\n",
              "      <th>3</th>\n",
              "      <td>4</td>\n",
              "      <td>4.6</td>\n",
              "      <td>3.1</td>\n",
              "      <td>1.5</td>\n",
              "      <td>0.2</td>\n",
              "      <td>setosa</td>\n",
              "    </tr>\n",
              "    <tr>\n",
              "      <th>4</th>\n",
              "      <td>5</td>\n",
              "      <td>5.0</td>\n",
              "      <td>3.6</td>\n",
              "      <td>1.4</td>\n",
              "      <td>0.2</td>\n",
              "      <td>setosa</td>\n",
              "    </tr>\n",
              "    <tr>\n",
              "      <th>5</th>\n",
              "      <td>6</td>\n",
              "      <td>5.4</td>\n",
              "      <td>3.9</td>\n",
              "      <td>1.7</td>\n",
              "      <td>0.4</td>\n",
              "      <td>setosa</td>\n",
              "    </tr>\n",
              "    <tr>\n",
              "      <th>6</th>\n",
              "      <td>7</td>\n",
              "      <td>4.6</td>\n",
              "      <td>3.4</td>\n",
              "      <td>1.4</td>\n",
              "      <td>0.3</td>\n",
              "      <td>setosa</td>\n",
              "    </tr>\n",
              "    <tr>\n",
              "      <th>7</th>\n",
              "      <td>8</td>\n",
              "      <td>5.0</td>\n",
              "      <td>3.4</td>\n",
              "      <td>1.5</td>\n",
              "      <td>0.2</td>\n",
              "      <td>setosa</td>\n",
              "    </tr>\n",
              "    <tr>\n",
              "      <th>8</th>\n",
              "      <td>9</td>\n",
              "      <td>4.4</td>\n",
              "      <td>2.9</td>\n",
              "      <td>1.4</td>\n",
              "      <td>0.2</td>\n",
              "      <td>setosa</td>\n",
              "    </tr>\n",
              "    <tr>\n",
              "      <th>9</th>\n",
              "      <td>10</td>\n",
              "      <td>4.9</td>\n",
              "      <td>3.1</td>\n",
              "      <td>1.5</td>\n",
              "      <td>0.1</td>\n",
              "      <td>setosa</td>\n",
              "    </tr>\n",
              "  </tbody>\n",
              "</table>\n",
              "</div>\n",
              "    <div class=\"colab-df-buttons\">\n",
              "\n",
              "  <div class=\"colab-df-container\">\n",
              "    <button class=\"colab-df-convert\" onclick=\"convertToInteractive('df-a640175c-8db5-4cda-a718-0c32c2cd9b0e')\"\n",
              "            title=\"Convert this dataframe to an interactive table.\"\n",
              "            style=\"display:none;\">\n",
              "\n",
              "  <svg xmlns=\"http://www.w3.org/2000/svg\" height=\"24px\" viewBox=\"0 -960 960 960\">\n",
              "    <path d=\"M120-120v-720h720v720H120Zm60-500h600v-160H180v160Zm220 220h160v-160H400v160Zm0 220h160v-160H400v160ZM180-400h160v-160H180v160Zm440 0h160v-160H620v160ZM180-180h160v-160H180v160Zm440 0h160v-160H620v160Z\"/>\n",
              "  </svg>\n",
              "    </button>\n",
              "\n",
              "  <style>\n",
              "    .colab-df-container {\n",
              "      display:flex;\n",
              "      gap: 12px;\n",
              "    }\n",
              "\n",
              "    .colab-df-convert {\n",
              "      background-color: #E8F0FE;\n",
              "      border: none;\n",
              "      border-radius: 50%;\n",
              "      cursor: pointer;\n",
              "      display: none;\n",
              "      fill: #1967D2;\n",
              "      height: 32px;\n",
              "      padding: 0 0 0 0;\n",
              "      width: 32px;\n",
              "    }\n",
              "\n",
              "    .colab-df-convert:hover {\n",
              "      background-color: #E2EBFA;\n",
              "      box-shadow: 0px 1px 2px rgba(60, 64, 67, 0.3), 0px 1px 3px 1px rgba(60, 64, 67, 0.15);\n",
              "      fill: #174EA6;\n",
              "    }\n",
              "\n",
              "    .colab-df-buttons div {\n",
              "      margin-bottom: 4px;\n",
              "    }\n",
              "\n",
              "    [theme=dark] .colab-df-convert {\n",
              "      background-color: #3B4455;\n",
              "      fill: #D2E3FC;\n",
              "    }\n",
              "\n",
              "    [theme=dark] .colab-df-convert:hover {\n",
              "      background-color: #434B5C;\n",
              "      box-shadow: 0px 1px 3px 1px rgba(0, 0, 0, 0.15);\n",
              "      filter: drop-shadow(0px 1px 2px rgba(0, 0, 0, 0.3));\n",
              "      fill: #FFFFFF;\n",
              "    }\n",
              "  </style>\n",
              "\n",
              "    <script>\n",
              "      const buttonEl =\n",
              "        document.querySelector('#df-a640175c-8db5-4cda-a718-0c32c2cd9b0e button.colab-df-convert');\n",
              "      buttonEl.style.display =\n",
              "        google.colab.kernel.accessAllowed ? 'block' : 'none';\n",
              "\n",
              "      async function convertToInteractive(key) {\n",
              "        const element = document.querySelector('#df-a640175c-8db5-4cda-a718-0c32c2cd9b0e');\n",
              "        const dataTable =\n",
              "          await google.colab.kernel.invokeFunction('convertToInteractive',\n",
              "                                                    [key], {});\n",
              "        if (!dataTable) return;\n",
              "\n",
              "        const docLinkHtml = 'Like what you see? Visit the ' +\n",
              "          '<a target=\"_blank\" href=https://colab.research.google.com/notebooks/data_table.ipynb>data table notebook</a>'\n",
              "          + ' to learn more about interactive tables.';\n",
              "        element.innerHTML = '';\n",
              "        dataTable['output_type'] = 'display_data';\n",
              "        await google.colab.output.renderOutput(dataTable, element);\n",
              "        const docLink = document.createElement('div');\n",
              "        docLink.innerHTML = docLinkHtml;\n",
              "        element.appendChild(docLink);\n",
              "      }\n",
              "    </script>\n",
              "  </div>\n",
              "\n",
              "\n",
              "<div id=\"df-77f686d4-1a76-4032-90f8-c3491a133b52\">\n",
              "  <button class=\"colab-df-quickchart\" onclick=\"quickchart('df-77f686d4-1a76-4032-90f8-c3491a133b52')\"\n",
              "            title=\"Suggest charts\"\n",
              "            style=\"display:none;\">\n",
              "\n",
              "<svg xmlns=\"http://www.w3.org/2000/svg\" height=\"24px\"viewBox=\"0 0 24 24\"\n",
              "     width=\"24px\">\n",
              "    <g>\n",
              "        <path d=\"M19 3H5c-1.1 0-2 .9-2 2v14c0 1.1.9 2 2 2h14c1.1 0 2-.9 2-2V5c0-1.1-.9-2-2-2zM9 17H7v-7h2v7zm4 0h-2V7h2v10zm4 0h-2v-4h2v4z\"/>\n",
              "    </g>\n",
              "</svg>\n",
              "  </button>\n",
              "\n",
              "<style>\n",
              "  .colab-df-quickchart {\n",
              "      --bg-color: #E8F0FE;\n",
              "      --fill-color: #1967D2;\n",
              "      --hover-bg-color: #E2EBFA;\n",
              "      --hover-fill-color: #174EA6;\n",
              "      --disabled-fill-color: #AAA;\n",
              "      --disabled-bg-color: #DDD;\n",
              "  }\n",
              "\n",
              "  [theme=dark] .colab-df-quickchart {\n",
              "      --bg-color: #3B4455;\n",
              "      --fill-color: #D2E3FC;\n",
              "      --hover-bg-color: #434B5C;\n",
              "      --hover-fill-color: #FFFFFF;\n",
              "      --disabled-bg-color: #3B4455;\n",
              "      --disabled-fill-color: #666;\n",
              "  }\n",
              "\n",
              "  .colab-df-quickchart {\n",
              "    background-color: var(--bg-color);\n",
              "    border: none;\n",
              "    border-radius: 50%;\n",
              "    cursor: pointer;\n",
              "    display: none;\n",
              "    fill: var(--fill-color);\n",
              "    height: 32px;\n",
              "    padding: 0;\n",
              "    width: 32px;\n",
              "  }\n",
              "\n",
              "  .colab-df-quickchart:hover {\n",
              "    background-color: var(--hover-bg-color);\n",
              "    box-shadow: 0 1px 2px rgba(60, 64, 67, 0.3), 0 1px 3px 1px rgba(60, 64, 67, 0.15);\n",
              "    fill: var(--button-hover-fill-color);\n",
              "  }\n",
              "\n",
              "  .colab-df-quickchart-complete:disabled,\n",
              "  .colab-df-quickchart-complete:disabled:hover {\n",
              "    background-color: var(--disabled-bg-color);\n",
              "    fill: var(--disabled-fill-color);\n",
              "    box-shadow: none;\n",
              "  }\n",
              "\n",
              "  .colab-df-spinner {\n",
              "    border: 2px solid var(--fill-color);\n",
              "    border-color: transparent;\n",
              "    border-bottom-color: var(--fill-color);\n",
              "    animation:\n",
              "      spin 1s steps(1) infinite;\n",
              "  }\n",
              "\n",
              "  @keyframes spin {\n",
              "    0% {\n",
              "      border-color: transparent;\n",
              "      border-bottom-color: var(--fill-color);\n",
              "      border-left-color: var(--fill-color);\n",
              "    }\n",
              "    20% {\n",
              "      border-color: transparent;\n",
              "      border-left-color: var(--fill-color);\n",
              "      border-top-color: var(--fill-color);\n",
              "    }\n",
              "    30% {\n",
              "      border-color: transparent;\n",
              "      border-left-color: var(--fill-color);\n",
              "      border-top-color: var(--fill-color);\n",
              "      border-right-color: var(--fill-color);\n",
              "    }\n",
              "    40% {\n",
              "      border-color: transparent;\n",
              "      border-right-color: var(--fill-color);\n",
              "      border-top-color: var(--fill-color);\n",
              "    }\n",
              "    60% {\n",
              "      border-color: transparent;\n",
              "      border-right-color: var(--fill-color);\n",
              "    }\n",
              "    80% {\n",
              "      border-color: transparent;\n",
              "      border-right-color: var(--fill-color);\n",
              "      border-bottom-color: var(--fill-color);\n",
              "    }\n",
              "    90% {\n",
              "      border-color: transparent;\n",
              "      border-bottom-color: var(--fill-color);\n",
              "    }\n",
              "  }\n",
              "</style>\n",
              "\n",
              "  <script>\n",
              "    async function quickchart(key) {\n",
              "      const quickchartButtonEl =\n",
              "        document.querySelector('#' + key + ' button');\n",
              "      quickchartButtonEl.disabled = true;  // To prevent multiple clicks.\n",
              "      quickchartButtonEl.classList.add('colab-df-spinner');\n",
              "      try {\n",
              "        const charts = await google.colab.kernel.invokeFunction(\n",
              "            'suggestCharts', [key], {});\n",
              "      } catch (error) {\n",
              "        console.error('Error during call to suggestCharts:', error);\n",
              "      }\n",
              "      quickchartButtonEl.classList.remove('colab-df-spinner');\n",
              "      quickchartButtonEl.classList.add('colab-df-quickchart-complete');\n",
              "    }\n",
              "    (() => {\n",
              "      let quickchartButtonEl =\n",
              "        document.querySelector('#df-77f686d4-1a76-4032-90f8-c3491a133b52 button');\n",
              "      quickchartButtonEl.style.display =\n",
              "        google.colab.kernel.accessAllowed ? 'block' : 'none';\n",
              "    })();\n",
              "  </script>\n",
              "</div>\n",
              "    </div>\n",
              "  </div>\n"
            ],
            "application/vnd.google.colaboratory.intrinsic+json": {
              "type": "dataframe",
              "variable_name": "iris_df",
              "summary": "{\n  \"name\": \"iris_df\",\n  \"rows\": 150,\n  \"fields\": [\n    {\n      \"column\": \"rownames\",\n      \"properties\": {\n        \"dtype\": \"number\",\n        \"std\": 43,\n        \"min\": 1,\n        \"max\": 150,\n        \"num_unique_values\": 150,\n        \"samples\": [\n          74,\n          19,\n          119\n        ],\n        \"semantic_type\": \"\",\n        \"description\": \"\"\n      }\n    },\n    {\n      \"column\": \"Sepal.Length\",\n      \"properties\": {\n        \"dtype\": \"number\",\n        \"std\": 0.828066127977863,\n        \"min\": 4.3,\n        \"max\": 7.9,\n        \"num_unique_values\": 35,\n        \"samples\": [\n          6.2,\n          4.5,\n          5.6\n        ],\n        \"semantic_type\": \"\",\n        \"description\": \"\"\n      }\n    },\n    {\n      \"column\": \"Sepal.Width\",\n      \"properties\": {\n        \"dtype\": \"number\",\n        \"std\": 0.4358662849366982,\n        \"min\": 2.0,\n        \"max\": 4.4,\n        \"num_unique_values\": 23,\n        \"samples\": [\n          2.3,\n          4.0,\n          3.5\n        ],\n        \"semantic_type\": \"\",\n        \"description\": \"\"\n      }\n    },\n    {\n      \"column\": \"Petal.Length\",\n      \"properties\": {\n        \"dtype\": \"number\",\n        \"std\": 1.7652982332594662,\n        \"min\": 1.0,\n        \"max\": 6.9,\n        \"num_unique_values\": 43,\n        \"samples\": [\n          6.7,\n          3.8,\n          3.7\n        ],\n        \"semantic_type\": \"\",\n        \"description\": \"\"\n      }\n    },\n    {\n      \"column\": \"Petal.Width\",\n      \"properties\": {\n        \"dtype\": \"number\",\n        \"std\": 0.7622376689603465,\n        \"min\": 0.1,\n        \"max\": 2.5,\n        \"num_unique_values\": 22,\n        \"samples\": [\n          0.2,\n          1.2,\n          1.3\n        ],\n        \"semantic_type\": \"\",\n        \"description\": \"\"\n      }\n    },\n    {\n      \"column\": \"Species\",\n      \"properties\": {\n        \"dtype\": \"category\",\n        \"num_unique_values\": 3,\n        \"samples\": [\n          \"setosa\",\n          \"versicolor\",\n          \"virginica\"\n        ],\n        \"semantic_type\": \"\",\n        \"description\": \"\"\n      }\n    }\n  ]\n}"
            }
          },
          "metadata": {},
          "execution_count": 67
        }
      ]
    },
    {
      "cell_type": "code",
      "source": [
        "iris_df = iris_df.iloc[:,1:]\n",
        "iris_df.head()"
      ],
      "metadata": {
        "colab": {
          "base_uri": "https://localhost:8080/",
          "height": 206
        },
        "id": "ZHUTBRDdohhO",
        "outputId": "1c6f2ec1-39ea-4c29-9b72-5a7ebc8cbf45"
      },
      "execution_count": 68,
      "outputs": [
        {
          "output_type": "execute_result",
          "data": {
            "text/plain": [
              "   Sepal.Length  Sepal.Width  Petal.Length  Petal.Width Species\n",
              "0           5.1          3.5           1.4          0.2  setosa\n",
              "1           4.9          3.0           1.4          0.2  setosa\n",
              "2           4.7          3.2           1.3          0.2  setosa\n",
              "3           4.6          3.1           1.5          0.2  setosa\n",
              "4           5.0          3.6           1.4          0.2  setosa"
            ],
            "text/html": [
              "\n",
              "  <div id=\"df-c5e2cfbe-b60c-402e-ac83-9284ff193df4\" class=\"colab-df-container\">\n",
              "    <div>\n",
              "<style scoped>\n",
              "    .dataframe tbody tr th:only-of-type {\n",
              "        vertical-align: middle;\n",
              "    }\n",
              "\n",
              "    .dataframe tbody tr th {\n",
              "        vertical-align: top;\n",
              "    }\n",
              "\n",
              "    .dataframe thead th {\n",
              "        text-align: right;\n",
              "    }\n",
              "</style>\n",
              "<table border=\"1\" class=\"dataframe\">\n",
              "  <thead>\n",
              "    <tr style=\"text-align: right;\">\n",
              "      <th></th>\n",
              "      <th>Sepal.Length</th>\n",
              "      <th>Sepal.Width</th>\n",
              "      <th>Petal.Length</th>\n",
              "      <th>Petal.Width</th>\n",
              "      <th>Species</th>\n",
              "    </tr>\n",
              "  </thead>\n",
              "  <tbody>\n",
              "    <tr>\n",
              "      <th>0</th>\n",
              "      <td>5.1</td>\n",
              "      <td>3.5</td>\n",
              "      <td>1.4</td>\n",
              "      <td>0.2</td>\n",
              "      <td>setosa</td>\n",
              "    </tr>\n",
              "    <tr>\n",
              "      <th>1</th>\n",
              "      <td>4.9</td>\n",
              "      <td>3.0</td>\n",
              "      <td>1.4</td>\n",
              "      <td>0.2</td>\n",
              "      <td>setosa</td>\n",
              "    </tr>\n",
              "    <tr>\n",
              "      <th>2</th>\n",
              "      <td>4.7</td>\n",
              "      <td>3.2</td>\n",
              "      <td>1.3</td>\n",
              "      <td>0.2</td>\n",
              "      <td>setosa</td>\n",
              "    </tr>\n",
              "    <tr>\n",
              "      <th>3</th>\n",
              "      <td>4.6</td>\n",
              "      <td>3.1</td>\n",
              "      <td>1.5</td>\n",
              "      <td>0.2</td>\n",
              "      <td>setosa</td>\n",
              "    </tr>\n",
              "    <tr>\n",
              "      <th>4</th>\n",
              "      <td>5.0</td>\n",
              "      <td>3.6</td>\n",
              "      <td>1.4</td>\n",
              "      <td>0.2</td>\n",
              "      <td>setosa</td>\n",
              "    </tr>\n",
              "  </tbody>\n",
              "</table>\n",
              "</div>\n",
              "    <div class=\"colab-df-buttons\">\n",
              "\n",
              "  <div class=\"colab-df-container\">\n",
              "    <button class=\"colab-df-convert\" onclick=\"convertToInteractive('df-c5e2cfbe-b60c-402e-ac83-9284ff193df4')\"\n",
              "            title=\"Convert this dataframe to an interactive table.\"\n",
              "            style=\"display:none;\">\n",
              "\n",
              "  <svg xmlns=\"http://www.w3.org/2000/svg\" height=\"24px\" viewBox=\"0 -960 960 960\">\n",
              "    <path d=\"M120-120v-720h720v720H120Zm60-500h600v-160H180v160Zm220 220h160v-160H400v160Zm0 220h160v-160H400v160ZM180-400h160v-160H180v160Zm440 0h160v-160H620v160ZM180-180h160v-160H180v160Zm440 0h160v-160H620v160Z\"/>\n",
              "  </svg>\n",
              "    </button>\n",
              "\n",
              "  <style>\n",
              "    .colab-df-container {\n",
              "      display:flex;\n",
              "      gap: 12px;\n",
              "    }\n",
              "\n",
              "    .colab-df-convert {\n",
              "      background-color: #E8F0FE;\n",
              "      border: none;\n",
              "      border-radius: 50%;\n",
              "      cursor: pointer;\n",
              "      display: none;\n",
              "      fill: #1967D2;\n",
              "      height: 32px;\n",
              "      padding: 0 0 0 0;\n",
              "      width: 32px;\n",
              "    }\n",
              "\n",
              "    .colab-df-convert:hover {\n",
              "      background-color: #E2EBFA;\n",
              "      box-shadow: 0px 1px 2px rgba(60, 64, 67, 0.3), 0px 1px 3px 1px rgba(60, 64, 67, 0.15);\n",
              "      fill: #174EA6;\n",
              "    }\n",
              "\n",
              "    .colab-df-buttons div {\n",
              "      margin-bottom: 4px;\n",
              "    }\n",
              "\n",
              "    [theme=dark] .colab-df-convert {\n",
              "      background-color: #3B4455;\n",
              "      fill: #D2E3FC;\n",
              "    }\n",
              "\n",
              "    [theme=dark] .colab-df-convert:hover {\n",
              "      background-color: #434B5C;\n",
              "      box-shadow: 0px 1px 3px 1px rgba(0, 0, 0, 0.15);\n",
              "      filter: drop-shadow(0px 1px 2px rgba(0, 0, 0, 0.3));\n",
              "      fill: #FFFFFF;\n",
              "    }\n",
              "  </style>\n",
              "\n",
              "    <script>\n",
              "      const buttonEl =\n",
              "        document.querySelector('#df-c5e2cfbe-b60c-402e-ac83-9284ff193df4 button.colab-df-convert');\n",
              "      buttonEl.style.display =\n",
              "        google.colab.kernel.accessAllowed ? 'block' : 'none';\n",
              "\n",
              "      async function convertToInteractive(key) {\n",
              "        const element = document.querySelector('#df-c5e2cfbe-b60c-402e-ac83-9284ff193df4');\n",
              "        const dataTable =\n",
              "          await google.colab.kernel.invokeFunction('convertToInteractive',\n",
              "                                                    [key], {});\n",
              "        if (!dataTable) return;\n",
              "\n",
              "        const docLinkHtml = 'Like what you see? Visit the ' +\n",
              "          '<a target=\"_blank\" href=https://colab.research.google.com/notebooks/data_table.ipynb>data table notebook</a>'\n",
              "          + ' to learn more about interactive tables.';\n",
              "        element.innerHTML = '';\n",
              "        dataTable['output_type'] = 'display_data';\n",
              "        await google.colab.output.renderOutput(dataTable, element);\n",
              "        const docLink = document.createElement('div');\n",
              "        docLink.innerHTML = docLinkHtml;\n",
              "        element.appendChild(docLink);\n",
              "      }\n",
              "    </script>\n",
              "  </div>\n",
              "\n",
              "\n",
              "<div id=\"df-09dd966b-20d4-416a-a755-3cc060627f94\">\n",
              "  <button class=\"colab-df-quickchart\" onclick=\"quickchart('df-09dd966b-20d4-416a-a755-3cc060627f94')\"\n",
              "            title=\"Suggest charts\"\n",
              "            style=\"display:none;\">\n",
              "\n",
              "<svg xmlns=\"http://www.w3.org/2000/svg\" height=\"24px\"viewBox=\"0 0 24 24\"\n",
              "     width=\"24px\">\n",
              "    <g>\n",
              "        <path d=\"M19 3H5c-1.1 0-2 .9-2 2v14c0 1.1.9 2 2 2h14c1.1 0 2-.9 2-2V5c0-1.1-.9-2-2-2zM9 17H7v-7h2v7zm4 0h-2V7h2v10zm4 0h-2v-4h2v4z\"/>\n",
              "    </g>\n",
              "</svg>\n",
              "  </button>\n",
              "\n",
              "<style>\n",
              "  .colab-df-quickchart {\n",
              "      --bg-color: #E8F0FE;\n",
              "      --fill-color: #1967D2;\n",
              "      --hover-bg-color: #E2EBFA;\n",
              "      --hover-fill-color: #174EA6;\n",
              "      --disabled-fill-color: #AAA;\n",
              "      --disabled-bg-color: #DDD;\n",
              "  }\n",
              "\n",
              "  [theme=dark] .colab-df-quickchart {\n",
              "      --bg-color: #3B4455;\n",
              "      --fill-color: #D2E3FC;\n",
              "      --hover-bg-color: #434B5C;\n",
              "      --hover-fill-color: #FFFFFF;\n",
              "      --disabled-bg-color: #3B4455;\n",
              "      --disabled-fill-color: #666;\n",
              "  }\n",
              "\n",
              "  .colab-df-quickchart {\n",
              "    background-color: var(--bg-color);\n",
              "    border: none;\n",
              "    border-radius: 50%;\n",
              "    cursor: pointer;\n",
              "    display: none;\n",
              "    fill: var(--fill-color);\n",
              "    height: 32px;\n",
              "    padding: 0;\n",
              "    width: 32px;\n",
              "  }\n",
              "\n",
              "  .colab-df-quickchart:hover {\n",
              "    background-color: var(--hover-bg-color);\n",
              "    box-shadow: 0 1px 2px rgba(60, 64, 67, 0.3), 0 1px 3px 1px rgba(60, 64, 67, 0.15);\n",
              "    fill: var(--button-hover-fill-color);\n",
              "  }\n",
              "\n",
              "  .colab-df-quickchart-complete:disabled,\n",
              "  .colab-df-quickchart-complete:disabled:hover {\n",
              "    background-color: var(--disabled-bg-color);\n",
              "    fill: var(--disabled-fill-color);\n",
              "    box-shadow: none;\n",
              "  }\n",
              "\n",
              "  .colab-df-spinner {\n",
              "    border: 2px solid var(--fill-color);\n",
              "    border-color: transparent;\n",
              "    border-bottom-color: var(--fill-color);\n",
              "    animation:\n",
              "      spin 1s steps(1) infinite;\n",
              "  }\n",
              "\n",
              "  @keyframes spin {\n",
              "    0% {\n",
              "      border-color: transparent;\n",
              "      border-bottom-color: var(--fill-color);\n",
              "      border-left-color: var(--fill-color);\n",
              "    }\n",
              "    20% {\n",
              "      border-color: transparent;\n",
              "      border-left-color: var(--fill-color);\n",
              "      border-top-color: var(--fill-color);\n",
              "    }\n",
              "    30% {\n",
              "      border-color: transparent;\n",
              "      border-left-color: var(--fill-color);\n",
              "      border-top-color: var(--fill-color);\n",
              "      border-right-color: var(--fill-color);\n",
              "    }\n",
              "    40% {\n",
              "      border-color: transparent;\n",
              "      border-right-color: var(--fill-color);\n",
              "      border-top-color: var(--fill-color);\n",
              "    }\n",
              "    60% {\n",
              "      border-color: transparent;\n",
              "      border-right-color: var(--fill-color);\n",
              "    }\n",
              "    80% {\n",
              "      border-color: transparent;\n",
              "      border-right-color: var(--fill-color);\n",
              "      border-bottom-color: var(--fill-color);\n",
              "    }\n",
              "    90% {\n",
              "      border-color: transparent;\n",
              "      border-bottom-color: var(--fill-color);\n",
              "    }\n",
              "  }\n",
              "</style>\n",
              "\n",
              "  <script>\n",
              "    async function quickchart(key) {\n",
              "      const quickchartButtonEl =\n",
              "        document.querySelector('#' + key + ' button');\n",
              "      quickchartButtonEl.disabled = true;  // To prevent multiple clicks.\n",
              "      quickchartButtonEl.classList.add('colab-df-spinner');\n",
              "      try {\n",
              "        const charts = await google.colab.kernel.invokeFunction(\n",
              "            'suggestCharts', [key], {});\n",
              "      } catch (error) {\n",
              "        console.error('Error during call to suggestCharts:', error);\n",
              "      }\n",
              "      quickchartButtonEl.classList.remove('colab-df-spinner');\n",
              "      quickchartButtonEl.classList.add('colab-df-quickchart-complete');\n",
              "    }\n",
              "    (() => {\n",
              "      let quickchartButtonEl =\n",
              "        document.querySelector('#df-09dd966b-20d4-416a-a755-3cc060627f94 button');\n",
              "      quickchartButtonEl.style.display =\n",
              "        google.colab.kernel.accessAllowed ? 'block' : 'none';\n",
              "    })();\n",
              "  </script>\n",
              "</div>\n",
              "    </div>\n",
              "  </div>\n"
            ],
            "application/vnd.google.colaboratory.intrinsic+json": {
              "type": "dataframe",
              "variable_name": "iris_df",
              "summary": "{\n  \"name\": \"iris_df\",\n  \"rows\": 150,\n  \"fields\": [\n    {\n      \"column\": \"Sepal.Length\",\n      \"properties\": {\n        \"dtype\": \"number\",\n        \"std\": 0.828066127977863,\n        \"min\": 4.3,\n        \"max\": 7.9,\n        \"num_unique_values\": 35,\n        \"samples\": [\n          6.2,\n          4.5,\n          5.6\n        ],\n        \"semantic_type\": \"\",\n        \"description\": \"\"\n      }\n    },\n    {\n      \"column\": \"Sepal.Width\",\n      \"properties\": {\n        \"dtype\": \"number\",\n        \"std\": 0.4358662849366982,\n        \"min\": 2.0,\n        \"max\": 4.4,\n        \"num_unique_values\": 23,\n        \"samples\": [\n          2.3,\n          4.0,\n          3.5\n        ],\n        \"semantic_type\": \"\",\n        \"description\": \"\"\n      }\n    },\n    {\n      \"column\": \"Petal.Length\",\n      \"properties\": {\n        \"dtype\": \"number\",\n        \"std\": 1.7652982332594662,\n        \"min\": 1.0,\n        \"max\": 6.9,\n        \"num_unique_values\": 43,\n        \"samples\": [\n          6.7,\n          3.8,\n          3.7\n        ],\n        \"semantic_type\": \"\",\n        \"description\": \"\"\n      }\n    },\n    {\n      \"column\": \"Petal.Width\",\n      \"properties\": {\n        \"dtype\": \"number\",\n        \"std\": 0.7622376689603465,\n        \"min\": 0.1,\n        \"max\": 2.5,\n        \"num_unique_values\": 22,\n        \"samples\": [\n          0.2,\n          1.2,\n          1.3\n        ],\n        \"semantic_type\": \"\",\n        \"description\": \"\"\n      }\n    },\n    {\n      \"column\": \"Species\",\n      \"properties\": {\n        \"dtype\": \"category\",\n        \"num_unique_values\": 3,\n        \"samples\": [\n          \"setosa\",\n          \"versicolor\",\n          \"virginica\"\n        ],\n        \"semantic_type\": \"\",\n        \"description\": \"\"\n      }\n    }\n  ]\n}"
            }
          },
          "metadata": {},
          "execution_count": 68
        }
      ]
    },
    {
      "cell_type": "code",
      "source": [
        "\n",
        "y = iris_df['Species']\n",
        "X = iris_df.loc[:, iris_df.columns != 'Species']\n",
        "\n",
        "\n",
        "y = pd.get_dummies(y)\n",
        "y.head(10)"
      ],
      "metadata": {
        "colab": {
          "base_uri": "https://localhost:8080/",
          "height": 363
        },
        "id": "kEtvfm0coxH3",
        "outputId": "8594d04f-ef34-4c93-da1e-b6d986b4b630"
      },
      "execution_count": 70,
      "outputs": [
        {
          "output_type": "execute_result",
          "data": {
            "text/plain": [
              "   setosa  versicolor  virginica\n",
              "0    True       False      False\n",
              "1    True       False      False\n",
              "2    True       False      False\n",
              "3    True       False      False\n",
              "4    True       False      False\n",
              "5    True       False      False\n",
              "6    True       False      False\n",
              "7    True       False      False\n",
              "8    True       False      False\n",
              "9    True       False      False"
            ],
            "text/html": [
              "\n",
              "  <div id=\"df-ab108ac5-b71f-4cf9-a83e-23710fbf0548\" class=\"colab-df-container\">\n",
              "    <div>\n",
              "<style scoped>\n",
              "    .dataframe tbody tr th:only-of-type {\n",
              "        vertical-align: middle;\n",
              "    }\n",
              "\n",
              "    .dataframe tbody tr th {\n",
              "        vertical-align: top;\n",
              "    }\n",
              "\n",
              "    .dataframe thead th {\n",
              "        text-align: right;\n",
              "    }\n",
              "</style>\n",
              "<table border=\"1\" class=\"dataframe\">\n",
              "  <thead>\n",
              "    <tr style=\"text-align: right;\">\n",
              "      <th></th>\n",
              "      <th>setosa</th>\n",
              "      <th>versicolor</th>\n",
              "      <th>virginica</th>\n",
              "    </tr>\n",
              "  </thead>\n",
              "  <tbody>\n",
              "    <tr>\n",
              "      <th>0</th>\n",
              "      <td>True</td>\n",
              "      <td>False</td>\n",
              "      <td>False</td>\n",
              "    </tr>\n",
              "    <tr>\n",
              "      <th>1</th>\n",
              "      <td>True</td>\n",
              "      <td>False</td>\n",
              "      <td>False</td>\n",
              "    </tr>\n",
              "    <tr>\n",
              "      <th>2</th>\n",
              "      <td>True</td>\n",
              "      <td>False</td>\n",
              "      <td>False</td>\n",
              "    </tr>\n",
              "    <tr>\n",
              "      <th>3</th>\n",
              "      <td>True</td>\n",
              "      <td>False</td>\n",
              "      <td>False</td>\n",
              "    </tr>\n",
              "    <tr>\n",
              "      <th>4</th>\n",
              "      <td>True</td>\n",
              "      <td>False</td>\n",
              "      <td>False</td>\n",
              "    </tr>\n",
              "    <tr>\n",
              "      <th>5</th>\n",
              "      <td>True</td>\n",
              "      <td>False</td>\n",
              "      <td>False</td>\n",
              "    </tr>\n",
              "    <tr>\n",
              "      <th>6</th>\n",
              "      <td>True</td>\n",
              "      <td>False</td>\n",
              "      <td>False</td>\n",
              "    </tr>\n",
              "    <tr>\n",
              "      <th>7</th>\n",
              "      <td>True</td>\n",
              "      <td>False</td>\n",
              "      <td>False</td>\n",
              "    </tr>\n",
              "    <tr>\n",
              "      <th>8</th>\n",
              "      <td>True</td>\n",
              "      <td>False</td>\n",
              "      <td>False</td>\n",
              "    </tr>\n",
              "    <tr>\n",
              "      <th>9</th>\n",
              "      <td>True</td>\n",
              "      <td>False</td>\n",
              "      <td>False</td>\n",
              "    </tr>\n",
              "  </tbody>\n",
              "</table>\n",
              "</div>\n",
              "    <div class=\"colab-df-buttons\">\n",
              "\n",
              "  <div class=\"colab-df-container\">\n",
              "    <button class=\"colab-df-convert\" onclick=\"convertToInteractive('df-ab108ac5-b71f-4cf9-a83e-23710fbf0548')\"\n",
              "            title=\"Convert this dataframe to an interactive table.\"\n",
              "            style=\"display:none;\">\n",
              "\n",
              "  <svg xmlns=\"http://www.w3.org/2000/svg\" height=\"24px\" viewBox=\"0 -960 960 960\">\n",
              "    <path d=\"M120-120v-720h720v720H120Zm60-500h600v-160H180v160Zm220 220h160v-160H400v160Zm0 220h160v-160H400v160ZM180-400h160v-160H180v160Zm440 0h160v-160H620v160ZM180-180h160v-160H180v160Zm440 0h160v-160H620v160Z\"/>\n",
              "  </svg>\n",
              "    </button>\n",
              "\n",
              "  <style>\n",
              "    .colab-df-container {\n",
              "      display:flex;\n",
              "      gap: 12px;\n",
              "    }\n",
              "\n",
              "    .colab-df-convert {\n",
              "      background-color: #E8F0FE;\n",
              "      border: none;\n",
              "      border-radius: 50%;\n",
              "      cursor: pointer;\n",
              "      display: none;\n",
              "      fill: #1967D2;\n",
              "      height: 32px;\n",
              "      padding: 0 0 0 0;\n",
              "      width: 32px;\n",
              "    }\n",
              "\n",
              "    .colab-df-convert:hover {\n",
              "      background-color: #E2EBFA;\n",
              "      box-shadow: 0px 1px 2px rgba(60, 64, 67, 0.3), 0px 1px 3px 1px rgba(60, 64, 67, 0.15);\n",
              "      fill: #174EA6;\n",
              "    }\n",
              "\n",
              "    .colab-df-buttons div {\n",
              "      margin-bottom: 4px;\n",
              "    }\n",
              "\n",
              "    [theme=dark] .colab-df-convert {\n",
              "      background-color: #3B4455;\n",
              "      fill: #D2E3FC;\n",
              "    }\n",
              "\n",
              "    [theme=dark] .colab-df-convert:hover {\n",
              "      background-color: #434B5C;\n",
              "      box-shadow: 0px 1px 3px 1px rgba(0, 0, 0, 0.15);\n",
              "      filter: drop-shadow(0px 1px 2px rgba(0, 0, 0, 0.3));\n",
              "      fill: #FFFFFF;\n",
              "    }\n",
              "  </style>\n",
              "\n",
              "    <script>\n",
              "      const buttonEl =\n",
              "        document.querySelector('#df-ab108ac5-b71f-4cf9-a83e-23710fbf0548 button.colab-df-convert');\n",
              "      buttonEl.style.display =\n",
              "        google.colab.kernel.accessAllowed ? 'block' : 'none';\n",
              "\n",
              "      async function convertToInteractive(key) {\n",
              "        const element = document.querySelector('#df-ab108ac5-b71f-4cf9-a83e-23710fbf0548');\n",
              "        const dataTable =\n",
              "          await google.colab.kernel.invokeFunction('convertToInteractive',\n",
              "                                                    [key], {});\n",
              "        if (!dataTable) return;\n",
              "\n",
              "        const docLinkHtml = 'Like what you see? Visit the ' +\n",
              "          '<a target=\"_blank\" href=https://colab.research.google.com/notebooks/data_table.ipynb>data table notebook</a>'\n",
              "          + ' to learn more about interactive tables.';\n",
              "        element.innerHTML = '';\n",
              "        dataTable['output_type'] = 'display_data';\n",
              "        await google.colab.output.renderOutput(dataTable, element);\n",
              "        const docLink = document.createElement('div');\n",
              "        docLink.innerHTML = docLinkHtml;\n",
              "        element.appendChild(docLink);\n",
              "      }\n",
              "    </script>\n",
              "  </div>\n",
              "\n",
              "\n",
              "<div id=\"df-c25f7338-3d2f-46f8-96a1-af3a529b8f22\">\n",
              "  <button class=\"colab-df-quickchart\" onclick=\"quickchart('df-c25f7338-3d2f-46f8-96a1-af3a529b8f22')\"\n",
              "            title=\"Suggest charts\"\n",
              "            style=\"display:none;\">\n",
              "\n",
              "<svg xmlns=\"http://www.w3.org/2000/svg\" height=\"24px\"viewBox=\"0 0 24 24\"\n",
              "     width=\"24px\">\n",
              "    <g>\n",
              "        <path d=\"M19 3H5c-1.1 0-2 .9-2 2v14c0 1.1.9 2 2 2h14c1.1 0 2-.9 2-2V5c0-1.1-.9-2-2-2zM9 17H7v-7h2v7zm4 0h-2V7h2v10zm4 0h-2v-4h2v4z\"/>\n",
              "    </g>\n",
              "</svg>\n",
              "  </button>\n",
              "\n",
              "<style>\n",
              "  .colab-df-quickchart {\n",
              "      --bg-color: #E8F0FE;\n",
              "      --fill-color: #1967D2;\n",
              "      --hover-bg-color: #E2EBFA;\n",
              "      --hover-fill-color: #174EA6;\n",
              "      --disabled-fill-color: #AAA;\n",
              "      --disabled-bg-color: #DDD;\n",
              "  }\n",
              "\n",
              "  [theme=dark] .colab-df-quickchart {\n",
              "      --bg-color: #3B4455;\n",
              "      --fill-color: #D2E3FC;\n",
              "      --hover-bg-color: #434B5C;\n",
              "      --hover-fill-color: #FFFFFF;\n",
              "      --disabled-bg-color: #3B4455;\n",
              "      --disabled-fill-color: #666;\n",
              "  }\n",
              "\n",
              "  .colab-df-quickchart {\n",
              "    background-color: var(--bg-color);\n",
              "    border: none;\n",
              "    border-radius: 50%;\n",
              "    cursor: pointer;\n",
              "    display: none;\n",
              "    fill: var(--fill-color);\n",
              "    height: 32px;\n",
              "    padding: 0;\n",
              "    width: 32px;\n",
              "  }\n",
              "\n",
              "  .colab-df-quickchart:hover {\n",
              "    background-color: var(--hover-bg-color);\n",
              "    box-shadow: 0 1px 2px rgba(60, 64, 67, 0.3), 0 1px 3px 1px rgba(60, 64, 67, 0.15);\n",
              "    fill: var(--button-hover-fill-color);\n",
              "  }\n",
              "\n",
              "  .colab-df-quickchart-complete:disabled,\n",
              "  .colab-df-quickchart-complete:disabled:hover {\n",
              "    background-color: var(--disabled-bg-color);\n",
              "    fill: var(--disabled-fill-color);\n",
              "    box-shadow: none;\n",
              "  }\n",
              "\n",
              "  .colab-df-spinner {\n",
              "    border: 2px solid var(--fill-color);\n",
              "    border-color: transparent;\n",
              "    border-bottom-color: var(--fill-color);\n",
              "    animation:\n",
              "      spin 1s steps(1) infinite;\n",
              "  }\n",
              "\n",
              "  @keyframes spin {\n",
              "    0% {\n",
              "      border-color: transparent;\n",
              "      border-bottom-color: var(--fill-color);\n",
              "      border-left-color: var(--fill-color);\n",
              "    }\n",
              "    20% {\n",
              "      border-color: transparent;\n",
              "      border-left-color: var(--fill-color);\n",
              "      border-top-color: var(--fill-color);\n",
              "    }\n",
              "    30% {\n",
              "      border-color: transparent;\n",
              "      border-left-color: var(--fill-color);\n",
              "      border-top-color: var(--fill-color);\n",
              "      border-right-color: var(--fill-color);\n",
              "    }\n",
              "    40% {\n",
              "      border-color: transparent;\n",
              "      border-right-color: var(--fill-color);\n",
              "      border-top-color: var(--fill-color);\n",
              "    }\n",
              "    60% {\n",
              "      border-color: transparent;\n",
              "      border-right-color: var(--fill-color);\n",
              "    }\n",
              "    80% {\n",
              "      border-color: transparent;\n",
              "      border-right-color: var(--fill-color);\n",
              "      border-bottom-color: var(--fill-color);\n",
              "    }\n",
              "    90% {\n",
              "      border-color: transparent;\n",
              "      border-bottom-color: var(--fill-color);\n",
              "    }\n",
              "  }\n",
              "</style>\n",
              "\n",
              "  <script>\n",
              "    async function quickchart(key) {\n",
              "      const quickchartButtonEl =\n",
              "        document.querySelector('#' + key + ' button');\n",
              "      quickchartButtonEl.disabled = true;  // To prevent multiple clicks.\n",
              "      quickchartButtonEl.classList.add('colab-df-spinner');\n",
              "      try {\n",
              "        const charts = await google.colab.kernel.invokeFunction(\n",
              "            'suggestCharts', [key], {});\n",
              "      } catch (error) {\n",
              "        console.error('Error during call to suggestCharts:', error);\n",
              "      }\n",
              "      quickchartButtonEl.classList.remove('colab-df-spinner');\n",
              "      quickchartButtonEl.classList.add('colab-df-quickchart-complete');\n",
              "    }\n",
              "    (() => {\n",
              "      let quickchartButtonEl =\n",
              "        document.querySelector('#df-c25f7338-3d2f-46f8-96a1-af3a529b8f22 button');\n",
              "      quickchartButtonEl.style.display =\n",
              "        google.colab.kernel.accessAllowed ? 'block' : 'none';\n",
              "    })();\n",
              "  </script>\n",
              "</div>\n",
              "    </div>\n",
              "  </div>\n"
            ],
            "application/vnd.google.colaboratory.intrinsic+json": {
              "type": "dataframe",
              "variable_name": "y",
              "summary": "{\n  \"name\": \"y\",\n  \"rows\": 150,\n  \"fields\": [\n    {\n      \"column\": \"setosa\",\n      \"properties\": {\n        \"dtype\": \"boolean\",\n        \"num_unique_values\": 2,\n        \"samples\": [\n          false,\n          true\n        ],\n        \"semantic_type\": \"\",\n        \"description\": \"\"\n      }\n    },\n    {\n      \"column\": \"versicolor\",\n      \"properties\": {\n        \"dtype\": \"boolean\",\n        \"num_unique_values\": 2,\n        \"samples\": [\n          true,\n          false\n        ],\n        \"semantic_type\": \"\",\n        \"description\": \"\"\n      }\n    },\n    {\n      \"column\": \"virginica\",\n      \"properties\": {\n        \"dtype\": \"boolean\",\n        \"num_unique_values\": 2,\n        \"samples\": [\n          true,\n          false\n        ],\n        \"semantic_type\": \"\",\n        \"description\": \"\"\n      }\n    }\n  ]\n}"
            }
          },
          "metadata": {},
          "execution_count": 70
        }
      ]
    },
    {
      "cell_type": "code",
      "source": [
        "#Splitting the data into training and test sets with an 80-20 split\n",
        "X_train, X_test, y_train, y_test = train_test_split(X, y, test_size=0.2, random_state=42)\n",
        ""
      ],
      "metadata": {
        "id": "DUEn3Lgmo2TQ"
      },
      "execution_count": 71,
      "outputs": []
    },
    {
      "cell_type": "markdown",
      "source": [
        "#**Question 2B: Using the Sequential interface in Keras, build a model with 2 hidden layers with 16 neurons in each**"
      ],
      "metadata": {
        "id": "iFlccXVpuVwh"
      }
    },
    {
      "cell_type": "markdown",
      "source": [
        "## **Model 1**\n",
        "2 hidden layers, 16 neurons"
      ],
      "metadata": {
        "id": "-esE5XB9rTS3"
      }
    },
    {
      "cell_type": "code",
      "source": [
        "\n",
        "# Dataframe for loss and accuracy scores\n",
        "model_1_df = pd.DataFrame(columns=['Loss', 'Accuracy'])\n",
        "\n",
        "# Function to create a neural network model with two hidden layers of 16 neurons each\n",
        "def create_model_1():\n",
        "    model_1 = Sequential([\n",
        "        Dense(16, input_shape=(4,)),  # input features are of size 4  HIDDEN LAYER 1\n",
        "        Activation('relu'),\n",
        "        Dense(16),  HIDDEN LAYER 2\n",
        "        Activation('relu'),\n",
        "        Dense(3),  # 3 classes for output\n",
        "        Activation('softmax'),\n",
        "    ])\n",
        "    sgd = SGD(learning_rate=0.0001)\n",
        "    model_1.compile(optimizer=sgd, loss='categorical_crossentropy', metrics=['accuracy'])\n",
        "    return model_1\n",
        "\n",
        "# Saving the model with the highest validation accuracy\n",
        "checkpoint = ModelCheckpoint('best_model.h5', monitor='val_accuracy', mode='max', save_best_only=True)\n",
        "\n",
        "# Iterate to train and evaluate the model\n",
        "results = []  # List to hold results temporarily\n",
        "for i in range(10):\n",
        "    model_1 = create_model_1()\n",
        "    model_1.fit(X_train, y_train, epochs=20, batch_size=128, verbose=0, validation_split=0.2, callbacks=[checkpoint])\n",
        "    score = model_1.evaluate(X_test, y_test, batch_size=128)\n",
        "\n",
        "    # Append results to list\n",
        "    results.append({'Loss': score[0], 'Accuracy': score[1]})\n",
        "\n",
        "# Convert list of results into a DataFrame\n",
        "model_1_df = pd.DataFrame(results)\n",
        "\n",
        "print(model_1_df)\n"
      ],
      "metadata": {
        "colab": {
          "base_uri": "https://localhost:8080/"
        },
        "id": "BBP274slpR16",
        "outputId": "105d92cb-153f-4998-e9cc-23c85833d7f6"
      },
      "execution_count": 74,
      "outputs": [
        {
          "output_type": "stream",
          "name": "stdout",
          "text": [
            "1/1 [==============================] - 0s 27ms/step - loss: 1.7109 - accuracy: 0.3667\n",
            "1/1 [==============================] - 0s 25ms/step - loss: 1.4578 - accuracy: 0.3333\n",
            "1/1 [==============================] - 0s 46ms/step - loss: 2.6813 - accuracy: 0.3333\n",
            "1/1 [==============================] - 0s 38ms/step - loss: 2.2078 - accuracy: 0.3333\n",
            "1/1 [==============================] - 0s 25ms/step - loss: 1.2550 - accuracy: 0.3667\n",
            "1/1 [==============================] - 0s 26ms/step - loss: 3.2675 - accuracy: 0.3333\n",
            "1/1 [==============================] - 0s 25ms/step - loss: 1.1296 - accuracy: 0.3000\n",
            "1/1 [==============================] - 0s 29ms/step - loss: 1.4953 - accuracy: 0.3333\n",
            "1/1 [==============================] - 0s 192ms/step - loss: 0.9556 - accuracy: 0.6333\n",
            "1/1 [==============================] - 0s 27ms/step - loss: 1.6061 - accuracy: 0.1667\n",
            "       Loss  Accuracy\n",
            "0  1.710864  0.366667\n",
            "1  1.457818  0.333333\n",
            "2  2.681348  0.333333\n",
            "3  2.207766  0.333333\n",
            "4  1.255003  0.366667\n",
            "5  3.267499  0.333333\n",
            "6  1.129638  0.300000\n",
            "7  1.495307  0.333333\n",
            "8  0.955568  0.633333\n",
            "9  1.606059  0.166667\n"
          ]
        }
      ]
    },
    {
      "cell_type": "markdown",
      "source": [
        "#**Question 3B: Run 2 additional models using different numbers of hidden layers and/or hidden neurons. How does the performance compare between your 3 models**"
      ],
      "metadata": {
        "id": "hkW0-JVXuiFr"
      }
    },
    {
      "cell_type": "markdown",
      "source": [
        "## **Model 2**\n",
        "\n",
        "2 hidden layers, 32 neurons"
      ],
      "metadata": {
        "id": "gRJlGRhKrke6"
      }
    },
    {
      "cell_type": "code",
      "source": [
        "# DataFrame to store loss and accuracy scores for model evaluations\n",
        "model_2_df = pd.DataFrame(columns=['Loss', 'Accuracy'])\n",
        "\n",
        "# Function to create a neural network model\n",
        "def create_model_2():\n",
        "    model_2 = Sequential([\n",
        "        # Input layer and first hidden layer with 32 neurons\n",
        "        Dense(32, input_shape=(4,)),  # Assuming the input features size is 4\n",
        "        Activation('relu'),  # Activation function for the first hidden layer\n",
        "\n",
        "        # Second hidden layer with 32 neurons\n",
        "        Dense(32),\n",
        "        Activation('relu'),  # Activation function for the second hidden layer\n",
        "\n",
        "        # Output layer with 3 neurons (for 3 classes of output)\n",
        "        Dense(3),\n",
        "        Activation('softmax'),  # Softmax activation for multi-class classification\n",
        "    ])\n",
        "    # Optimizer configuration\n",
        "    sgd = SGD(learning_rate=0.0001)\n",
        "    # Compile model with categorical crossentropy loss and accuracy metric\n",
        "    model_2.compile(optimizer=sgd, loss='categorical_crossentropy', metrics=['accuracy'])\n",
        "    return model_2\n",
        "\n",
        "# Callback to save the best model based on validation accuracy\n",
        "checkpoint = ModelCheckpoint('best_model.h5', monitor='val_accuracy', mode='max', save_best_only=True)\n",
        "\n",
        "# Iteratively create, train, and evaluate the model\n",
        "results = []  # List to hold results temporarily for each iteration\n",
        "for i in range(10):\n",
        "    # Create the model using the function defined above\n",
        "    model_2 = create_model_2()\n",
        "    # Train the model with a training dataset\n",
        "    model_2.fit(X_train, y_train, epochs=20, batch_size=128, verbose=0, validation_split=0.2, callbacks=[checkpoint])\n",
        "    # Evaluate the model using the test dataset\n",
        "    score = model_2.evaluate(X_test, y_test, batch_size=128)\n",
        "\n",
        "    # Append the loss and accuracy from the evaluation to the results list\n",
        "    results.append({'Loss': score[0], 'Accuracy': score[1]})\n",
        "\n",
        "# Convert the list of results into a DataFrame for easier viewing\n",
        "model_2_df = pd.DataFrame(results)\n",
        "\n",
        "# Print the DataFrame to see the loss and accuracy results from all iterations\n",
        "print(model_2_df)\n"
      ],
      "metadata": {
        "colab": {
          "base_uri": "https://localhost:8080/"
        },
        "id": "etFcdTMiqlOU",
        "outputId": "546e44e8-a60c-4be0-d545-8da881b75162"
      },
      "execution_count": 75,
      "outputs": [
        {
          "output_type": "stream",
          "name": "stdout",
          "text": [
            "1/1 [==============================] - 0s 61ms/step - loss: 1.9734 - accuracy: 0.3000\n",
            "1/1 [==============================] - 0s 27ms/step - loss: 1.0111 - accuracy: 0.3667\n",
            "1/1 [==============================] - 0s 26ms/step - loss: 1.2893 - accuracy: 0.3667\n",
            "1/1 [==============================] - 0s 34ms/step - loss: 1.2907 - accuracy: 0.3000\n",
            "1/1 [==============================] - 0s 39ms/step - loss: 1.2256 - accuracy: 0.3000\n",
            "1/1 [==============================] - 0s 27ms/step - loss: 1.3472 - accuracy: 0.3667\n",
            "1/1 [==============================] - 0s 28ms/step - loss: 1.2310 - accuracy: 0.3667\n",
            "1/1 [==============================] - 0s 27ms/step - loss: 1.5460 - accuracy: 0.3000\n",
            "1/1 [==============================] - 0s 25ms/step - loss: 1.0096 - accuracy: 0.6333\n",
            "1/1 [==============================] - 0s 26ms/step - loss: 1.0044 - accuracy: 0.3000\n",
            "       Loss  Accuracy\n",
            "0  1.973369  0.300000\n",
            "1  1.011055  0.366667\n",
            "2  1.289280  0.366667\n",
            "3  1.290667  0.300000\n",
            "4  1.225590  0.300000\n",
            "5  1.347241  0.366667\n",
            "6  1.231029  0.366667\n",
            "7  1.545995  0.300000\n",
            "8  1.009579  0.633333\n",
            "9  1.004351  0.300000\n"
          ]
        }
      ]
    },
    {
      "cell_type": "markdown",
      "source": [
        "## **Model 3**\n",
        "\n",
        "3 hidden layers, 50 neurons in first, followed by 30 and 20 in subsequent layers"
      ],
      "metadata": {
        "id": "8EDWNSXjtefJ"
      }
    },
    {
      "cell_type": "code",
      "source": [
        "# DataFrame to store loss and accuracy scores for model evaluations\n",
        "model_3_df = pd.DataFrame(columns=['Loss', 'Accuracy'])\n",
        "\n",
        "# Function to create a neural network model with three hidden layers\n",
        "def create_model_3():\n",
        "    model_3 = Sequential([\n",
        "        # Input layer and first hidden layer with 50 neurons\n",
        "        Dense(50, input_shape=(4,)),  # Assuming the input features size is 4\n",
        "        Activation('relu'),  # Activation function for the first hidden layer\n",
        "\n",
        "        # Second hidden layer with 30 neurons\n",
        "        Dense(30),\n",
        "        Activation('relu'),  # Activation function for the second hidden layer\n",
        "\n",
        "        # Third hidden layer with 20 neurons\n",
        "        Dense(20),\n",
        "        Activation('relu'),  # Activation function for the third hidden layer\n",
        "\n",
        "        # Output layer with 3 neurons (for 3 classes of output)\n",
        "        Dense(3),\n",
        "        Activation('softmax'),  # Softmax activation for multi-class classification\n",
        "    ])\n",
        "    # Optimizer configuration\n",
        "    sgd = SGD(learning_rate=0.0001)\n",
        "    # Compile model with categorical crossentropy loss and accuracy metric\n",
        "    model_3.compile(optimizer=sgd, loss='categorical_crossentropy', metrics=['accuracy'])\n",
        "    return model_3\n",
        "\n",
        "# Callback to save the best model based on validation accuracy\n",
        "checkpoint = ModelCheckpoint('best_model_3.h5', monitor='val_accuracy', mode='max', save_best_only=True)\n",
        "\n",
        "# Iteratively create, train, and evaluate the model\n",
        "results = []  # List to hold results temporarily for each iteration\n",
        "for i in range(10):\n",
        "    # Create the model using the function defined above\n",
        "    model_3 = create_model_3()\n",
        "    # Train the model with a training dataset\n",
        "    model_3.fit(X_train, y_train, epochs=20, batch_size=128, verbose=0, validation_split=0.2, callbacks=[checkpoint])\n",
        "    # Evaluate the model using the test dataset\n",
        "    score = model_3.evaluate(X_test, y_test, batch_size=128)\n",
        "\n",
        "    # Append the loss and accuracy from the evaluation to the results list\n",
        "    results.append({'Loss': score[0], 'Accuracy': score[1]})\n",
        "\n",
        "# Convert the list of results into a DataFrame for easier viewing\n",
        "model_3_df = pd.DataFrame(results)\n",
        "\n",
        "# Print the DataFrame to see the loss and accuracy results from all iterations\n",
        "print(model_3_df)\n"
      ],
      "metadata": {
        "colab": {
          "base_uri": "https://localhost:8080/"
        },
        "id": "2m_vrGF8ttQV",
        "outputId": "81cb4231-e959-41d2-c049-97561fd1be93"
      },
      "execution_count": 77,
      "outputs": [
        {
          "output_type": "stream",
          "name": "stdout",
          "text": [
            "1/1 [==============================] - 0s 27ms/step - loss: 1.6340 - accuracy: 0.3333\n",
            "1/1 [==============================] - 0s 27ms/step - loss: 1.2101 - accuracy: 0.3000\n",
            "1/1 [==============================] - 0s 27ms/step - loss: 1.1499 - accuracy: 0.3333\n",
            "1/1 [==============================] - 0s 33ms/step - loss: 1.2503 - accuracy: 0.3000\n",
            "1/1 [==============================] - 0s 54ms/step - loss: 1.2380 - accuracy: 0.3000\n",
            "1/1 [==============================] - 0s 33ms/step - loss: 1.3893 - accuracy: 0.3333\n",
            "1/1 [==============================] - 0s 30ms/step - loss: 2.1597 - accuracy: 0.3000\n",
            "1/1 [==============================] - 0s 26ms/step - loss: 1.2887 - accuracy: 0.3333\n",
            "1/1 [==============================] - 0s 26ms/step - loss: 1.1835 - accuracy: 0.3667\n",
            "1/1 [==============================] - 0s 26ms/step - loss: 1.1733 - accuracy: 0.3000\n",
            "       Loss  Accuracy\n",
            "0  1.633968  0.333333\n",
            "1  1.210122  0.300000\n",
            "2  1.149920  0.333333\n",
            "3  1.250315  0.300000\n",
            "4  1.238015  0.300000\n",
            "5  1.389347  0.333333\n",
            "6  2.159690  0.300000\n",
            "7  1.288747  0.333333\n",
            "8  1.183491  0.366667\n",
            "9  1.173317  0.300000\n"
          ]
        }
      ]
    },
    {
      "cell_type": "code",
      "source": [
        "acc1_mean = model_1_df[\"Accuracy\"].mean()\n",
        "acc2_mean = model_2_df[\"Accuracy\"].mean()\n",
        "acc3_mean = model_3_df[\"Accuracy\"].mean()\n",
        "\n",
        "\n",
        "print(\"Mean accuracy score for Model 1: \", acc1_mean)\n",
        "print(\"Mean accuracy score for Model 2: \", acc2_mean)\n",
        "print(\"Mean accuracy score for Model 3: \", acc3_mean)"
      ],
      "metadata": {
        "colab": {
          "base_uri": "https://localhost:8080/"
        },
        "id": "3CORYDGls_zJ",
        "outputId": "5893a737-ded6-45ab-f71d-5639d02da3bb"
      },
      "execution_count": 78,
      "outputs": [
        {
          "output_type": "stream",
          "name": "stdout",
          "text": [
            "Mean accuracy score for Model 1:  0.3500000074505806\n",
            "Mean accuracy score for Model 2:  0.3600000083446503\n",
            "Mean accuracy score for Model 3:  0.32000001072883605\n"
          ]
        }
      ]
    },
    {
      "cell_type": "code",
      "source": [
        "#Summarizing Model 1\n",
        "model_1.summary()"
      ],
      "metadata": {
        "colab": {
          "base_uri": "https://localhost:8080/"
        },
        "id": "b-9icHb5uC4Z",
        "outputId": "22c8b898-17fc-4b3d-b2d5-4964959e72d2"
      },
      "execution_count": 81,
      "outputs": [
        {
          "output_type": "stream",
          "name": "stdout",
          "text": [
            "Model: \"sequential_20\"\n",
            "_________________________________________________________________\n",
            " Layer (type)                Output Shape              Param #   \n",
            "=================================================================\n",
            " dense_60 (Dense)            (None, 16)                80        \n",
            "                                                                 \n",
            " activation_60 (Activation)  (None, 16)                0         \n",
            "                                                                 \n",
            " dense_61 (Dense)            (None, 16)                272       \n",
            "                                                                 \n",
            " activation_61 (Activation)  (None, 16)                0         \n",
            "                                                                 \n",
            " dense_62 (Dense)            (None, 3)                 51        \n",
            "                                                                 \n",
            " activation_62 (Activation)  (None, 3)                 0         \n",
            "                                                                 \n",
            "=================================================================\n",
            "Total params: 403 (1.57 KB)\n",
            "Trainable params: 403 (1.57 KB)\n",
            "Non-trainable params: 0 (0.00 Byte)\n",
            "_________________________________________________________________\n"
          ]
        }
      ]
    },
    {
      "cell_type": "code",
      "source": [
        "#Summarizing Model 2\n",
        "model_2.summary()\n"
      ],
      "metadata": {
        "colab": {
          "base_uri": "https://localhost:8080/"
        },
        "id": "kI_BHcPquK8k",
        "outputId": "15ad1ae7-daa2-46ee-b2df-1baa4f72b740"
      },
      "execution_count": 82,
      "outputs": [
        {
          "output_type": "stream",
          "name": "stdout",
          "text": [
            "Model: \"sequential_30\"\n",
            "_________________________________________________________________\n",
            " Layer (type)                Output Shape              Param #   \n",
            "=================================================================\n",
            " dense_90 (Dense)            (None, 32)                160       \n",
            "                                                                 \n",
            " activation_90 (Activation)  (None, 32)                0         \n",
            "                                                                 \n",
            " dense_91 (Dense)            (None, 32)                1056      \n",
            "                                                                 \n",
            " activation_91 (Activation)  (None, 32)                0         \n",
            "                                                                 \n",
            " dense_92 (Dense)            (None, 3)                 99        \n",
            "                                                                 \n",
            " activation_92 (Activation)  (None, 3)                 0         \n",
            "                                                                 \n",
            "=================================================================\n",
            "Total params: 1315 (5.14 KB)\n",
            "Trainable params: 1315 (5.14 KB)\n",
            "Non-trainable params: 0 (0.00 Byte)\n",
            "_________________________________________________________________\n"
          ]
        }
      ]
    },
    {
      "cell_type": "code",
      "source": [
        "#Summarizing Model 3\n",
        "model_3.summary()"
      ],
      "metadata": {
        "colab": {
          "base_uri": "https://localhost:8080/"
        },
        "id": "DrSPefzCuM5T",
        "outputId": "3457f8d8-18af-4428-adbc-97062505c552"
      },
      "execution_count": 83,
      "outputs": [
        {
          "output_type": "stream",
          "name": "stdout",
          "text": [
            "Model: \"sequential_40\"\n",
            "_________________________________________________________________\n",
            " Layer (type)                Output Shape              Param #   \n",
            "=================================================================\n",
            " dense_129 (Dense)           (None, 50)                250       \n",
            "                                                                 \n",
            " activation_129 (Activation  (None, 50)                0         \n",
            " )                                                               \n",
            "                                                                 \n",
            " dense_130 (Dense)           (None, 30)                1530      \n",
            "                                                                 \n",
            " activation_130 (Activation  (None, 30)                0         \n",
            " )                                                               \n",
            "                                                                 \n",
            " dense_131 (Dense)           (None, 20)                620       \n",
            "                                                                 \n",
            " activation_131 (Activation  (None, 20)                0         \n",
            " )                                                               \n",
            "                                                                 \n",
            " dense_132 (Dense)           (None, 3)                 63        \n",
            "                                                                 \n",
            " activation_132 (Activation  (None, 3)                 0         \n",
            " )                                                               \n",
            "                                                                 \n",
            "=================================================================\n",
            "Total params: 2463 (9.62 KB)\n",
            "Trainable params: 2463 (9.62 KB)\n",
            "Non-trainable params: 0 (0.00 Byte)\n",
            "_________________________________________________________________\n"
          ]
        }
      ]
    },
    {
      "cell_type": "markdown",
      "source": [
        "\n",
        "## Model Comparison:\n",
        "\n",
        "**Model 1**:\n",
        "- **Architecture**: 2 hidden layers, each with 16 neurons.\n",
        "- **Parameters**: 403 (1.57 KB)\n",
        "- **Mean Accuracy**: 0.3500\n",
        "\n",
        "**Model 2**:\n",
        "- **Architecture**: 2 hidden layers, each with 32 neurons.\n",
        "- **Parameters**: 1315 (5.14 KB)\n",
        "- **Mean Accuracy**: 0.3600\n",
        "\n",
        "**Model 3**:\n",
        "- **Architecture**: 3 hidden layers with 50, 30, and 20 neurons respectively.\n",
        "- **Parameters**: 2463 (9.62 KB)\n",
        "- **Mean Accuracy**: 0.3200\n",
        "\n",
        "### Observations:\n",
        "\n",
        "1. **Complexity vs. Performance**:\n",
        "   - **Model 1**, with the least complexity, performs relatively close to the other models, achieving a mean accuracy of 0.3500. Despite having fewer parameters, it manages to maintain competitive performance.\n",
        "   - **Model 2** shows a slight increase in performance (mean accuracy of 0.3600) compared to Model 1. The increase in neurons per layer (from 16 to 32) appears to help slightly without a significant complication of the model structure.\n",
        "   - **Model 3**, despite being the most complex with the most parameters and three layers, has the lowest mean accuracy of 0.3200. This could indicate overfitting, where the model's complexity negatively impacts its ability to generalize to new data.\n",
        "\n",
        "2. **Efficiency and Overfitting**:\n",
        "   - Increasing model complexity (Model 3) did not yield better results; instead, it led to reduced performance. This suggests that the additional complexity may not be necessary given the data or that the model may require more data to train effectively without overfitting.\n",
        "   - Models 1 and 2, with simpler architectures, show more promise in this specific scenario, indicating that a balance between simplicity and enough capacity to learn from the data is crucial.\n",
        "\n",
        "\n",
        "The insights gained from comparing these models underscore the importance of matching model complexity with data characteristics and the size of the available dataset. In this case, Model 2 appears to strike the best balance, offering a slight improvement over Model 1 without the complexity drawbacks seen in Model 3."
      ],
      "metadata": {
        "id": "XOBJWIl4vHqO"
      }
    }
  ]
}